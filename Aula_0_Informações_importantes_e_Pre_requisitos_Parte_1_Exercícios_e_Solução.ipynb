{
  "nbformat": 4,
  "nbformat_minor": 0,
  "metadata": {
    "colab": {
      "provenance": [],
      "collapsed_sections": [
        "V2citoH1Dmbr",
        "3TPjJn6QY6qI",
        "flh2vlN2IIcg",
        "1h9Y-Rjojt3A",
        "KvAbIdL5kXv2",
        "YAVRpOYCZDBy",
        "enSLbpB5h1nm",
        "kKB0hzchCKjl",
        "B7fdLUxxCQMO",
        "arzbNl8dCGxR",
        "usdaRfZn7jiE",
        "r-NBFtIElSmn",
        "DjBYnG2w-EdA",
        "dQs6wLB8J37b",
        "cHleJTePHMSm",
        "O4neJUDQUUar",
        "IJrkmaE5Ygib",
        "l840VYPQnMoM",
        "yz2kzZR_oNBi",
        "wKZg7NtMywKA",
        "dv9slRUMwtOt",
        "y4n6BbmnyeQf",
        "adb4uud_Pn1n",
        "daY5BScDSsaP",
        "8gvxFuxvTD7N",
        "mgT4dyisrRyw",
        "qnp6WM6AaW8r",
        "3owRlRB9Z9he",
        "WgBRWx-PB8Kl",
        "dRQ54AkIaUVr",
        "s8zypO2Eaqdt",
        "KIuajXu5a1tp",
        "k-Gq3kqDa-mt",
        "bWTDuYFubC6d",
        "EEPPy69UbLml",
        "BHISAcO9bP5n",
        "Zx2efJWtbTPP",
        "flwNzpKAbZQo",
        "dJMYsEIEbdbX",
        "uHm_SXWbbhGg",
        "FP8vd9GPbkSC",
        "1z8Gu-7bbmkw"
      ],
      "authorship_tag": "ABX9TyOAQ4Dbma3UlABlBJclro+y",
      "include_colab_link": true
    },
    "kernelspec": {
      "name": "python3",
      "display_name": "Python 3"
    },
    "language_info": {
      "name": "python"
    }
  },
  "cells": [
    {
      "cell_type": "markdown",
      "metadata": {
        "id": "view-in-github",
        "colab_type": "text"
      },
      "source": [
        "<a href=\"https://colab.research.google.com/github/paulorobertolds/econometria2/blob/main/Aula_0_Informa%C3%A7%C3%B5es_importantes_e_Pre_requisitos_Parte_1_Exerc%C3%ADcios_e_Solu%C3%A7%C3%A3o.ipynb\" target=\"_parent\"><img src=\"https://colab.research.google.com/assets/colab-badge.svg\" alt=\"Open In Colab\"/></a>"
      ]
    },
    {
      "cell_type": "markdown",
      "source": [
        "# 😎 Bem-vindos ao curso de Econometria 2! 🥰"
      ],
      "metadata": {
        "id": "V2citoH1Dmbr"
      }
    },
    {
      "cell_type": "markdown",
      "source": [
        "# Apresentação"
      ],
      "metadata": {
        "id": "3TPjJn6QY6qI"
      }
    },
    {
      "cell_type": "markdown",
      "source": [
        "## Ementa\n",
        "\n",
        "- Modelo Auto-Regressivo de Ordem p, \n",
        "- Modelos de Médias Móveis de Ordem q, \n",
        "- Modelo ARMA (p,q )\n",
        "- Modelo ARIMA (p,d,q )\n",
        "- Introdução à Sazonalidade, \n",
        "- Raízes Unitárias.  \n",
        "- Tópicos Especiais:\n",
        " - Machine Learning\n",
        " - Deep Learning\n",
        " - Séries Temporais Interrompidas\n",
        "- Séries de Tempo Multivariadas: Causalidade de Granger\n",
        "- Vetor Auto-Regressivo de Ordem p,    \n",
        "- Co-integração e Modelo de Correção de Erros. \n",
        "- ARCH e GARCH.\n"
      ],
      "metadata": {
        "id": "flh2vlN2IIcg"
      }
    },
    {
      "cell_type": "markdown",
      "source": [
        "## Bibliografia\n",
        "### Livros Principais:\n",
        "- Enders, W. (1995). *Applied econometric time series*. New York: Wiley.\n",
        "- Hamilton, J. D. (1994). *Time Series Analysis*. Princeton University Press.\n",
        "- Nielsen, A. (2019). *Practical Time Series Analysis_ Prediction with Statistics and Machine Learning*, O’Reilly\n",
        "- Auffarth, B. (2021). Machine Learning for Time-Series with Python_ Forecast, predict, and detect anomalies with state-of-the-art machine learning methods, Packt Publishing\n",
        "- Severance, C. R. (2009) Python para Todos: Explorando Dados com Python 3,disponível em: http://do1.dr-chuck.com/pythonlearn/PT_br/pythonlearn.pdf\n",
        "\n",
        "### Outros livros:\n",
        "- Al Sweigart. (2015). Automate the Boring Stuff with Python: Practical Programming for Total Beginners (1st. ed.). No Starch Press, USA.\n",
        "- Al Sweigart. (2021). The Big Book of Small Python Projects: 81 Easy Practice Programs (1st. ed.). No Starch Press, USA.\n",
        "- Lazzeri F. (2020). *Machine Learning for Time Series Forecasting with Python*. Wiley \n",
        "- Lütkepohl, Helmut (2005). New Introduction to Multiple Time Series Analysis. Springer-Verlag.\n",
        "- GRUPO PET-TELE. (2011) Tutorial de introdução ao Python. Niterói – RJ: Universidade Federal Fluminense (UFF), disponível em: http://www.telecom.uff.br/pet/petws/downloads/tutoriais/python/tut_python_2k100127.pdf\n",
        "- Morettin, P. A., & Toloi, C. M. de C. (2004). Análise de séries temporais. São Paulo: Edgard Blucher.\n",
        "- Morettin, P. A. (2008). Econometria financeira: um curso em séries temporais financeiras. São Paulo: Edgard Blücher.\n",
        "\n",
        "### Sites: \n",
        "- https://www.johnhcochrane.com/\n",
        "- https://quantecon.org/\n",
        "\n",
        "### Artigos sobre a Abordagem Estatística para o Estudo de Séries Temporais:\n",
        "\n",
        "- Agiakloglou, C. and Newbold, P. (1992), EMPIRICAL EVIDENCE ON DICKEY-FULLER-TYPE TESTS. Journal of Time Series Analysis, 13: 471-483. https://doi.org/10.1111/j.1467-9892.1992.tb00121.x\n",
        "\n",
        "- Canjels, E., & Watson, M. W. (1997). Estimating Deterministic Trends in the Presence of Serially Correlated Errors. The Review of Economics and Statistics, 79(2), 184–200. http://www.jstor.org/stable/2951451\n",
        "\n",
        "- Cati, R.C., Garcia, M.G.P. and Perron, P. (1999), Unit roots in the presence of abrupt governmental interventions with an application to Brazilian data. J. Appl. Econ., 14: 27-56. https://doi.org/10.1002/(SICI)1099-1255(199901/02)14:1<27::AID-JAE490>3.0.CO;2-G \n",
        "\n",
        "\n",
        "- Joseph E. Cavanaugh & Andrew A. Neath (1999) Generalizing the derivation of the schwarz information criterion, Communications in Statistics - Theory and Methods, 28:1, 49-66, DOI: 10.1080/03610929908832282 \n",
        "\n",
        "- Cheung, Y.-W. and Lai, K.S. (1995), PRACTITIONERS CORNER: Lag Order and Critical Values of a Modified Dickey-Fuller Test. Oxford Bulletin of Economics and Statistics, 57: 411-419. https://doi.org/10.1111/j.1468-0084.1995.mp57003008.x\n",
        "\n",
        "- Choi I. (1992) Effects of data aggregation on the power of tests for a unit root: A simulation study, Economics Letters, Volume 40, Issue 4, https://doi.org/10.1016/0165-1765(92)90133-J.(https://www.sciencedirect.com/science/article/pii/016517659290133J)\n",
        "\n",
        "- Choi, I. (1999), Testing the random walk hypothesis for real exchange rates. J. Appl. Econ., 14: 293-308. https://doi.org/10.1002/(SICI)1099-1255(199905/06)14:3<293::AID-JAE503>3.0.CO;2-5\n",
        "\n",
        "-  Choi, In & Chul Ahn, Byung, 1998. \"Testing the null of stationarity for multiple time series,\" Journal of Econometrics, Elsevier, vol. 88(1), pages 41-77, November. \n",
        "\n",
        "- Cochrane, J. H. (1988). How Big Is the Random Walk in GNP? Journal of Political Economy, 96(5), 893–920. http://www.jstor.org/stable/1837240\n",
        "- Cochrane, J. H. (1994). Permanent and Transitory Components of GNP and Stock Prices. The Quarterly Journal of Economics, 109(1), 241–265. https://doi.org/10.2307/2118434\n",
        "- Cogley, T. (1990). International Evidence on the Size of the Random Walk in Output. Journal of Political Economy, 98(3), 501–518. http://www.jstor.org/stable/2937697\n",
        "- Datta S. (1996), On asymptotic properties of bootstrap for AR(1) processes,\n",
        "Journal of Statistical Planning and Inference, Volume 53, Issue 3,\n",
        ", Pages 361-374, ISSN 0378-3758, https://doi.org/10.1016/0378-3758(95)00147-6.\n",
        " \n",
        "- Dickey, D. A., & Fuller, W. A. (1979). Distribution of the estimators for autoregressive time series with a unit root. Journal of the American Statistical Association, 74(366a), 427–431.\n",
        "\n",
        "- Dickey, D. A. Fuller, wA (1981).“. Likelihood Ratio Statistics for Autoregressive Time Series.\n",
        "\n",
        "-  David A. Dickey & Wayne A. Fuller (1979) Distribution of the Estimators for Autoregressive Time Series with a Unit Root, Journal of the American Statistical Association, 74:366a, 427-431, DOI: 10.1080/01621459.1979.10482531 \n",
        "- Francis X. Diebold & Marc Nerlove, 1988. \"Unit roots in economic time series: a selective survey,\" Finance and Economics Discussion Series 49, Board of Governors of the Federal Reserve System (U.S.). \n",
        "- Dods, J.L. and D.E.A. Giles, (1995), “Alternative Strategies for ‘Augmenting’ the Dickey-Fuller Test: Size\n",
        "Robustness in the Face of Pre-Testing”, Journal of Statistical Computation and Simulation, 53, 243-258\n",
        "- James, Durbin., G., S., Watson. (1950). Testing for serial correlation in least squares regression. II.. Biometrika, 38(1):159-178. doi: 10.1093/BIOMET/38.1-2.159\n",
        "-  Durlauf, Steven N & Phillips, Peter C B, (1988). \"Trends versus Random Walks in Time Series Analysis,\" Econometrica, Econometric Society, vol. 56(6), pages 1333-1354, November. \n",
        "- Engle, R. F. (1982). Autoregressive conditional heteroscedasticity with estimates of the variance of United Kingdom inflation. Econometrica: Journal of the econometric society, 987-1007.\n",
        "- Engle, R. F., & Granger, C. W. (1987). Co-integration and error correction: representation, estimation, and testing. Econometrica: journal of the Econometric Society, 251-276.\n",
        "- Engle, R. F., Lilien, D. M., & Robins, R. P. (1987). Estimating time varying risk premia in the term structure: The ARCH-M model. Econometrica: journal of the Econometric Society, 391-407.\n",
        "- Engle, R. F., & Yoo, B. S. (1987). Forecasting and testing in co-integrated systems. Journal of econometrics, 35(1), 143-159.\n",
        "- Robert F. Engle, Scott J. Brown, (1986) Model selection for forecasting, Applied Mathematics and Computation, Volume 20, Issues 3–4, Pages 313-327,\n",
        "- Ferretti, N., & Romo, J. (1996). Unit Root Bootstrap Tests for AR (1) Models. Biometrika, 83(4), 849–860. http://www.jstor.org/stable/2337288\n",
        "- Philip Hans Franses & Niels Haldrup (1994) The Effects of Additive Outliers on Tests for Unit Roots and Cointegration, Journal of Business & Economic Statistics, 12:4, 471-478, DOI: 10.1080/07350015.1994.10524569 \n",
        "- Franzini, L., & Harvey, A. C. (1983). Testing for Deterministic Trend and Seasonal Components in Time Series Models. Biometrika, 70(3), 673–682. https://doi.org/10.2307/2336504\n",
        "- Everette S. Gardner, Jr., Ed. Mckenzie, (1985) Forecasting Trends in Time Series. Management Science 31(10):1237-1246.\n",
        "https://doi.org/10.1287/mnsc.31.10.1237 \n",
        "- Godfrey, L. G. (1979). Testing the Adequacy of a Time Series Model. Biometrika, 66(1), 67–72. https://doi.org/10.2307/2335243\n",
        "- Granger, C. W. (1969). Investigating causal relations by econometric models and cross-spectral methods. Econometrica: journal of the Econometric Society, 424-438.\n",
        "- Granger, C. W. J. (1986). Developments in the study of cointegrated economic variables. In Oxford Bulletin of economics and statistics.\n",
        "- Granger, C. W. (1992). Forecasting stock market prices: Lessons for forecasters. International Journal of Forecasting, 8(1), 3-13.\n",
        "- Granger, C. W. (1993). What are we learning about the long-run? The Economic Journal, 307-317.\n",
        "- Granger, C. W. (1993). Modelling non-linear relationships between long-memory variables. Department of Economics, UC San Diego.\n",
        "- Granger, C. W+ J+ & R+ Joyeux~ 1980! An introduction to long memory time series models and fractional differencing+. Journal of Time Series Analysis, 1, 15-29.\n",
        "- Clive W. J. Granger & Tae-Hwy Lee (1999) The effect of aggregation on nonlinearity, Econometric Reviews, 18:3, 259-269, DOI: 10.1080/07474939908800445 \n",
        "-  C. W. J. Granger & P. Newbold (1973) Some comments on the evaluation of economic forecasts, Applied Economics, 5:1, 35-47, DOI: 10.1080/00036847300000003 \n",
        "- Granger, C. W., & Newbold, P. (1974). Spurious regressions in econometrics. Journal of econometrics, 2(2), 111-120.\n",
        "- Granger, C. W., & Teräsvirta, T. (1999). A simple nonlinear time series model with misleading linear properties. Economics letters, 62(2), 161-165.\n",
        "- Hansen, B. E. (1995). Rethinking the univariate approach to unit root testing: Using covariates to increase power. Econometric Theory, 11(5), 1148-1171.\n",
        "- Härdle, W., Lütkepohl, H., & Chen, R. (1997). A review of nonparametric time series analysis. International statistical review, 65(1), 49-72.\n",
        "- Harris, R. I. D. (1992). Small sample testing for unit roots. Oxford Bulletin of Economics and Statistics, 54(4), 615-625.\n",
        "- Harris, R. I. (1995). Using cointegration analysis in econometric modelling.\n",
        "-  Kwan, Andy C.C. & Sim, Ah-Boon & Wu, Yangru, 2005. \"A comparative study of the finite-sample performance of some portmanteau tests for randomness of a time series,\" Computational Statistics & Data Analysis, Elsevier, vol. 48(2), pages 391-413, February. \n",
        "- Stock, J. H., and M. W. Watson. “Vector Autoregressions.” Journal of Economic Perspectives 15, no. 4 (2001): 101–6.\n",
        "- Kiefer, N., & Vogelsang, T. (2002). HETEROSKEDASTICITY-AUTOCORRELATION ROBUST TESTING USING BANDWIDTH EQUAL TO SAMPLE SIZE. Econometric Theory, 18(6), 1350-1366. doi:10.1017/S026646660218604X\n",
        "- Rygh Swensen, A. (2022), On causal and non-causal cointegrated vector autoregressive time series. J. Time Ser. Anal., 43: 178-196. https://doi.org/10.1111/jtsa.12607\n",
        "\n",
        "- "
      ],
      "metadata": {
        "id": "1h9Y-Rjojt3A"
      }
    },
    {
      "cell_type": "markdown",
      "source": [
        "# Avaliação\n",
        "\n",
        "- Para ser aprovado é necessário entregar um projeto ou artigo sobre um tema aprovado pelo professor.\n",
        "\n",
        "- Orientações sobre a estrutura do artigo:\n",
        "  - A estrutura do trabalho deve ser a mesma de um trabalho científico, iniciando com uma introdução ao problema em estudo e uma motivação para as técnicas utilizadas.\n",
        "  - Divida o artigo em seções ordenadas logicamente.\n",
        "\n",
        "  - Os resultados apresentados devem ser descritos e discutidos. Ao incluir um gráfico, uma tabela ou alguma outra forma de apresentação de resultados, sempre mencione-os no texto e discuta o seu conteúdo e implicações.\n",
        " - Todas as tabelas e gráficos devem ser numerados, possuir um título e ser referenciados no texto.\n",
        " - A seção de conclusões deve fazer um apanhado foi feito e das implicações dos resultados obtidos.\n",
        " - As referências bibliográficas devem ser colecionadas ao final do trabalho e listadas alfabeticamente. Todas as referências bibliográficas incluídas nesta listagem devem ter sido referenciadas ao longo do texto. Não inclua referências que não foram citadas no texto, mesmo que você as tenha consultado.\n",
        "\n",
        "- Orientações gerais sobre a escrita:\n",
        " - É importante que o artigo esteja bem escrito e sem erros gramaticais e ortográficos. \n",
        " - Evite parágrafos muito longos ou muito curtos, pois parágrafos com duas ou três linhas indicam redação amadorística e devem ser evitados.\n",
        " - As ideias e argumentos incluídos nos parágrafos e ao longo do texto devem ser logicamente encadeados.\n",
        " - Todas as siglas utilizadas no texto devem estar definidas na primeira vez que aparecerem (deve-se usar apenas siglas que já foram definidas).\n",
        " -**Use a voz ativa e escreva de maneira clara e objetiva**. Evite frases rebuscadas. - A clareza do texto deve ser sua meta central. Um bom texto deve ser admirado por seu conteúdo e não por sua forma. A objetividade é um componente importante de qualquer texto científico.\n",
        "\n",
        "- Dicas sobre escrita: \n",
        " - https://danielmiessler.com/blog/how-to-write-well/\n",
        " - https://blog.hubspot.com/marketing/how-to-write-well-timeless-rules-david-ogilvy\n",
        "\n",
        "- Dicas avançadas sobre escrita:\n",
        " - Writing Tips for PHD Students (https://www.johnhcochrane.com/s/phd_paper_writing-ajne.pdf)\n",
        " - Dicas de escrita para alunos de Doutorado (em português) (https://github.com/paulorobertolds/Time-Series/blob/main/phd_paper_writing-%20Portugu%C3%AAs.pdf)\n",
        " \n"
      ],
      "metadata": {
        "id": "FSAwDhPPCyDC"
      }
    },
    {
      "cell_type": "markdown",
      "source": [
        "![Como escrever.png](data:image/png;base64,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)"
      ],
      "metadata": {
        "id": "25M-Y-gjF4O4"
      }
    },
    {
      "cell_type": "markdown",
      "source": [
        "# Como escrever bem\n",
        "\n",
        "1.**Simplicidade** - Retire palavras de cada frase até que seus componentes estejam muito limpos.\n",
        "\n",
        "\n",
        "2.**Retirar o Lixo** - O lixo é a frase trabalhosa que expulsou a palavra que significa a mesma coisa\n",
        "\n",
        "- O lixo é comum no eufemismo e para esconder erros\n",
        "\n",
        "- Cuidado com a palavra longa que poderia ser curta\n",
        "\n",
        "- Examine cada sentença e pergunte-se:\n",
        "\n",
        " 1- Cada palavra está contribuindo em algo novo?\n",
        "\n",
        " 2- Algum pensamento pode ser expresso com mais economia?\n",
        " \n",
        " 3-Tem algo pomposo, pretensioso ou algum modismo?\n",
        " \n",
        " 4-Simplifique, simplifique\n"
      ],
      "metadata": {
        "id": "y99ItUs-Fr3y"
      }
    },
    {
      "cell_type": "markdown",
      "source": [
        "## Horários para Atendimento\n",
        "- Marcar no grupo do whatsapp\n"
      ],
      "metadata": {
        "id": "KvAbIdL5kXv2"
      }
    },
    {
      "cell_type": "markdown",
      "source": [
        "# Pré-requisitos\n",
        "- Conhecimento básico de Python\n",
        "- Conhecimento básico de Estatística\n",
        "\n",
        "\n",
        "\n"
      ],
      "metadata": {
        "id": "YAVRpOYCZDBy"
      }
    },
    {
      "cell_type": "markdown",
      "source": [
        "# Introdução à Linguagem Python\n",
        "\n",
        "## Objetivos de aprendizado\n",
        "\n",
        "- Instalar e importar pacotes\n",
        "- Usar os recursos de ajuda do IPython\n",
        "- Atribuir valores para variáveis\n",
        "- `For loop` (Repetição) (tanto no estilo iterador quanto no estilo range)\n",
        "- `If else` (Condicionais)\n",
        "- Indexação (subconjuntos)\n",
        "- Funções\n",
        "- Tipos de variáveis e estrutura de dados\n",
        "- Introdução ao Numpy\n",
        "- Introdução ao Pandas"
      ],
      "metadata": {
        "id": "enSLbpB5h1nm"
      }
    },
    {
      "cell_type": "markdown",
      "source": [
        "## Instalar e importar pacotes:"
      ],
      "metadata": {
        "id": "kKB0hzchCKjl"
      }
    },
    {
      "cell_type": "markdown",
      "source": [
        "- Para rodar comandos no colab, use o menu abaixo ou os atalhos do teclado:\n",
        "\n",
        "![image.png](data:image/png;base64,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)"
      ],
      "metadata": {
        "id": "Y6wfgYwAAcbk"
      }
    },
    {
      "cell_type": "markdown",
      "source": [
        "- Instale pacotes com o comando `!pip install NomeDoPacote`\n",
        "- Depois de rodar o comando `!pip install` é importante reiniciar o tempo de execução, *restart runtime*, usando o mouse ou o atalho `ctrl+M+.`\n",
        "- Exemplo:"
      ],
      "metadata": {
        "id": "xTTLpvik-3SD"
      }
    },
    {
      "cell_type": "code",
      "source": [
        "!pip install ipythonblocks"
      ],
      "metadata": {
        "id": "n40ReKrzHYGP",
        "colab": {
          "base_uri": "https://localhost:8080/"
        },
        "outputId": "c668b0a0-9779-4302-cb3e-9fd516ef10d8"
      },
      "execution_count": null,
      "outputs": [
        {
          "output_type": "stream",
          "name": "stdout",
          "text": [
            "Looking in indexes: https://pypi.org/simple, https://us-python.pkg.dev/colab-wheels/public/simple/\n",
            "Collecting ipythonblocks\n",
            "  Downloading ipythonblocks-1.9.0-py2.py3-none-any.whl (13 kB)\n",
            "Requirement already satisfied: ipython>=4.0 in /usr/local/lib/python3.7/dist-packages (from ipythonblocks) (7.9.0)\n",
            "Requirement already satisfied: requests>=1.0 in /usr/local/lib/python3.7/dist-packages (from ipythonblocks) (2.23.0)\n",
            "Requirement already satisfied: notebook>=4.0 in /usr/local/lib/python3.7/dist-packages (from ipythonblocks) (5.3.1)\n",
            "Requirement already satisfied: pygments in /usr/local/lib/python3.7/dist-packages (from ipython>=4.0->ipythonblocks) (2.6.1)\n",
            "Requirement already satisfied: traitlets>=4.2 in /usr/local/lib/python3.7/dist-packages (from ipython>=4.0->ipythonblocks) (5.1.1)\n",
            "Requirement already satisfied: pexpect in /usr/local/lib/python3.7/dist-packages (from ipython>=4.0->ipythonblocks) (4.8.0)\n",
            "Requirement already satisfied: pickleshare in /usr/local/lib/python3.7/dist-packages (from ipython>=4.0->ipythonblocks) (0.7.5)\n",
            "Collecting jedi>=0.10\n",
            "  Downloading jedi-0.18.1-py2.py3-none-any.whl (1.6 MB)\n",
            "\u001b[K     |████████████████████████████████| 1.6 MB 5.5 MB/s \n",
            "\u001b[?25hRequirement already satisfied: backcall in /usr/local/lib/python3.7/dist-packages (from ipython>=4.0->ipythonblocks) (0.2.0)\n",
            "Requirement already satisfied: decorator in /usr/local/lib/python3.7/dist-packages (from ipython>=4.0->ipythonblocks) (4.4.2)\n",
            "Requirement already satisfied: setuptools>=18.5 in /usr/local/lib/python3.7/dist-packages (from ipython>=4.0->ipythonblocks) (57.4.0)\n",
            "Requirement already satisfied: prompt-toolkit<2.1.0,>=2.0.0 in /usr/local/lib/python3.7/dist-packages (from ipython>=4.0->ipythonblocks) (2.0.10)\n",
            "Requirement already satisfied: parso<0.9.0,>=0.8.0 in /usr/local/lib/python3.7/dist-packages (from jedi>=0.10->ipython>=4.0->ipythonblocks) (0.8.3)\n",
            "Requirement already satisfied: terminado>=0.8.1 in /usr/local/lib/python3.7/dist-packages (from notebook>=4.0->ipythonblocks) (0.13.3)\n",
            "Requirement already satisfied: nbformat in /usr/local/lib/python3.7/dist-packages (from notebook>=4.0->ipythonblocks) (5.4.0)\n",
            "Requirement already satisfied: Send2Trash in /usr/local/lib/python3.7/dist-packages (from notebook>=4.0->ipythonblocks) (1.8.0)\n",
            "Requirement already satisfied: jupyter-client>=5.2.0 in /usr/local/lib/python3.7/dist-packages (from notebook>=4.0->ipythonblocks) (6.1.12)\n",
            "Requirement already satisfied: nbconvert in /usr/local/lib/python3.7/dist-packages (from notebook>=4.0->ipythonblocks) (5.6.1)\n",
            "Requirement already satisfied: tornado>=4 in /usr/local/lib/python3.7/dist-packages (from notebook>=4.0->ipythonblocks) (5.1.1)\n",
            "Requirement already satisfied: jupyter-core>=4.4.0 in /usr/local/lib/python3.7/dist-packages (from notebook>=4.0->ipythonblocks) (4.11.1)\n",
            "Requirement already satisfied: jinja2 in /usr/local/lib/python3.7/dist-packages (from notebook>=4.0->ipythonblocks) (2.11.3)\n",
            "Requirement already satisfied: ipykernel in /usr/local/lib/python3.7/dist-packages (from notebook>=4.0->ipythonblocks) (5.3.4)\n",
            "Requirement already satisfied: ipython-genutils in /usr/local/lib/python3.7/dist-packages (from notebook>=4.0->ipythonblocks) (0.2.0)\n",
            "Requirement already satisfied: pyzmq>=13 in /usr/local/lib/python3.7/dist-packages (from jupyter-client>=5.2.0->notebook>=4.0->ipythonblocks) (23.2.1)\n",
            "Requirement already satisfied: python-dateutil>=2.1 in /usr/local/lib/python3.7/dist-packages (from jupyter-client>=5.2.0->notebook>=4.0->ipythonblocks) (2.8.2)\n",
            "Requirement already satisfied: wcwidth in /usr/local/lib/python3.7/dist-packages (from prompt-toolkit<2.1.0,>=2.0.0->ipython>=4.0->ipythonblocks) (0.2.5)\n",
            "Requirement already satisfied: six>=1.9.0 in /usr/local/lib/python3.7/dist-packages (from prompt-toolkit<2.1.0,>=2.0.0->ipython>=4.0->ipythonblocks) (1.15.0)\n",
            "Requirement already satisfied: urllib3!=1.25.0,!=1.25.1,<1.26,>=1.21.1 in /usr/local/lib/python3.7/dist-packages (from requests>=1.0->ipythonblocks) (1.24.3)\n",
            "Requirement already satisfied: chardet<4,>=3.0.2 in /usr/local/lib/python3.7/dist-packages (from requests>=1.0->ipythonblocks) (3.0.4)\n",
            "Requirement already satisfied: certifi>=2017.4.17 in /usr/local/lib/python3.7/dist-packages (from requests>=1.0->ipythonblocks) (2022.6.15)\n",
            "Requirement already satisfied: idna<3,>=2.5 in /usr/local/lib/python3.7/dist-packages (from requests>=1.0->ipythonblocks) (2.10)\n",
            "Requirement already satisfied: ptyprocess in /usr/local/lib/python3.7/dist-packages (from terminado>=0.8.1->notebook>=4.0->ipythonblocks) (0.7.0)\n",
            "Requirement already satisfied: MarkupSafe>=0.23 in /usr/local/lib/python3.7/dist-packages (from jinja2->notebook>=4.0->ipythonblocks) (2.0.1)\n",
            "Requirement already satisfied: defusedxml in /usr/local/lib/python3.7/dist-packages (from nbconvert->notebook>=4.0->ipythonblocks) (0.7.1)\n",
            "Requirement already satisfied: testpath in /usr/local/lib/python3.7/dist-packages (from nbconvert->notebook>=4.0->ipythonblocks) (0.6.0)\n",
            "Requirement already satisfied: bleach in /usr/local/lib/python3.7/dist-packages (from nbconvert->notebook>=4.0->ipythonblocks) (5.0.1)\n",
            "Requirement already satisfied: mistune<2,>=0.8.1 in /usr/local/lib/python3.7/dist-packages (from nbconvert->notebook>=4.0->ipythonblocks) (0.8.4)\n",
            "Requirement already satisfied: entrypoints>=0.2.2 in /usr/local/lib/python3.7/dist-packages (from nbconvert->notebook>=4.0->ipythonblocks) (0.4)\n",
            "Requirement already satisfied: pandocfilters>=1.4.1 in /usr/local/lib/python3.7/dist-packages (from nbconvert->notebook>=4.0->ipythonblocks) (1.5.0)\n",
            "Requirement already satisfied: fastjsonschema in /usr/local/lib/python3.7/dist-packages (from nbformat->notebook>=4.0->ipythonblocks) (2.16.1)\n",
            "Requirement already satisfied: jsonschema>=2.6 in /usr/local/lib/python3.7/dist-packages (from nbformat->notebook>=4.0->ipythonblocks) (4.3.3)\n",
            "Requirement already satisfied: importlib-resources>=1.4.0 in /usr/local/lib/python3.7/dist-packages (from jsonschema>=2.6->nbformat->notebook>=4.0->ipythonblocks) (5.9.0)\n",
            "Requirement already satisfied: importlib-metadata in /usr/local/lib/python3.7/dist-packages (from jsonschema>=2.6->nbformat->notebook>=4.0->ipythonblocks) (4.12.0)\n",
            "Requirement already satisfied: pyrsistent!=0.17.0,!=0.17.1,!=0.17.2,>=0.14.0 in /usr/local/lib/python3.7/dist-packages (from jsonschema>=2.6->nbformat->notebook>=4.0->ipythonblocks) (0.18.1)\n",
            "Requirement already satisfied: typing-extensions in /usr/local/lib/python3.7/dist-packages (from jsonschema>=2.6->nbformat->notebook>=4.0->ipythonblocks) (4.1.1)\n",
            "Requirement already satisfied: attrs>=17.4.0 in /usr/local/lib/python3.7/dist-packages (from jsonschema>=2.6->nbformat->notebook>=4.0->ipythonblocks) (22.1.0)\n",
            "Requirement already satisfied: zipp>=3.1.0 in /usr/local/lib/python3.7/dist-packages (from importlib-resources>=1.4.0->jsonschema>=2.6->nbformat->notebook>=4.0->ipythonblocks) (3.8.1)\n",
            "Requirement already satisfied: webencodings in /usr/local/lib/python3.7/dist-packages (from bleach->nbconvert->notebook>=4.0->ipythonblocks) (0.5.1)\n",
            "Installing collected packages: jedi, ipythonblocks\n",
            "Successfully installed ipythonblocks-1.9.0 jedi-0.18.1\n"
          ]
        }
      ]
    },
    {
      "cell_type": "markdown",
      "source": [
        "- Para usar o pacote use o comando `import NomeDoPacote` \n",
        "- Para usar funções que pertencem a um pacote use o comando `from Nome do Pacote import NomeDasFunções`\n",
        "- Exemplo:"
      ],
      "metadata": {
        "id": "Y3gaI6Um_HfT"
      }
    },
    {
      "cell_type": "code",
      "execution_count": null,
      "metadata": {
        "id": "aRbwQKb2g_rf"
      },
      "outputs": [],
      "source": [
        "from ipythonblocks import BlockGrid, colors, show_color, show_color_triple"
      ]
    },
    {
      "cell_type": "markdown",
      "source": [
        "- Para usar a ajuda, use o comando `?`\n",
        "- Exemplo:"
      ],
      "metadata": {
        "id": "rV2VNPPb-1Zm"
      }
    },
    {
      "cell_type": "code",
      "source": [
        "show_color?"
      ],
      "metadata": {
        "id": "yIadH49EHchM"
      },
      "execution_count": null,
      "outputs": []
    },
    {
      "cell_type": "markdown",
      "source": [
        "\n",
        "\n",
        "```\n",
        "`# This is formatted as code`\n",
        "```\n",
        "\n",
        "## For loop, If else (Repetição e condicionais)"
      ],
      "metadata": {
        "id": "B7fdLUxxCQMO"
      }
    },
    {
      "cell_type": "markdown",
      "source": [
        "### Comandos básicos com blocos"
      ],
      "metadata": {
        "id": "arzbNl8dCGxR"
      }
    },
    {
      "cell_type": "code",
      "source": [
        "show_color(12,123,234)"
      ],
      "metadata": {
        "colab": {
          "base_uri": "https://localhost:8080/"
        },
        "id": "SQqhPHu0DP87",
        "outputId": "4e5cd579-a5a4-4943-c223-a75460069a43"
      },
      "execution_count": null,
      "outputs": [
        {
          "output_type": "display_data",
          "data": {
            "text/plain": [
              "<IPython.core.display.HTML object>"
            ],
            "text/html": [
              "<div style=\"height: 60px; min-width: 200px; background-color: rgb(12, 123, 234)\"></div>"
            ]
          },
          "metadata": {}
        }
      ]
    },
    {
      "cell_type": "markdown",
      "source": [
        "- Use o ponto final em em objeto para abrir a lista de métodos e funções disponíveis."
      ],
      "metadata": {
        "id": "npIRmlXiDtIu"
      }
    },
    {
      "cell_type": "code",
      "source": [
        "colors.Teal"
      ],
      "metadata": {
        "colab": {
          "base_uri": "https://localhost:8080/"
        },
        "id": "oue-mgsQC734",
        "outputId": "f9fbfa5e-1a7d-47b4-e151-72f2e0654dc3"
      },
      "execution_count": null,
      "outputs": [
        {
          "output_type": "execute_result",
          "data": {
            "text/plain": [
              "Color(red=0, green=128, blue=128)"
            ]
          },
          "metadata": {},
          "execution_count": 27
        }
      ]
    },
    {
      "cell_type": "markdown",
      "source": [
        "- Criando uma grade de blocos"
      ],
      "metadata": {
        "id": "RzGAsdcZDrkB"
      }
    },
    {
      "cell_type": "code",
      "source": [
        "BlockGrid(5,5)"
      ],
      "metadata": {
        "colab": {
          "base_uri": "https://localhost:8080/"
        },
        "id": "MvYCyj5pDnRm",
        "outputId": "4c13b6dc-b440-454e-8dbb-b486f80af99e"
      },
      "execution_count": null,
      "outputs": [
        {
          "output_type": "execute_result",
          "data": {
            "text/plain": [
              "<ipythonblocks.ipythonblocks.BlockGrid at 0x7f3acc968090>"
            ],
            "text/html": [
              "<style type=\"text/css\">table.blockgrid {border: none;} .blockgrid tr {border: none;} .blockgrid td {padding: 0px;} #blocks68166f20-b38a-41dc-8572-f3cf627a9b9c td {border: 1px solid white;}</style><table id=\"blocks68166f20-b38a-41dc-8572-f3cf627a9b9c\" class=\"blockgrid\"><tbody><tr><td title=\"Index: [0, 0]&#10;Color: (0, 0, 0)\" style=\"width: 20px; height: 20px;background-color: rgb(0, 0, 0);\"></td><td title=\"Index: [0, 1]&#10;Color: (0, 0, 0)\" style=\"width: 20px; height: 20px;background-color: rgb(0, 0, 0);\"></td><td title=\"Index: [0, 2]&#10;Color: (0, 0, 0)\" style=\"width: 20px; height: 20px;background-color: rgb(0, 0, 0);\"></td><td title=\"Index: [0, 3]&#10;Color: (0, 0, 0)\" style=\"width: 20px; height: 20px;background-color: rgb(0, 0, 0);\"></td><td title=\"Index: [0, 4]&#10;Color: (0, 0, 0)\" style=\"width: 20px; height: 20px;background-color: rgb(0, 0, 0);\"></td></tr><tr><td title=\"Index: [1, 0]&#10;Color: (0, 0, 0)\" style=\"width: 20px; height: 20px;background-color: rgb(0, 0, 0);\"></td><td title=\"Index: [1, 1]&#10;Color: (0, 0, 0)\" style=\"width: 20px; height: 20px;background-color: rgb(0, 0, 0);\"></td><td title=\"Index: [1, 2]&#10;Color: (0, 0, 0)\" style=\"width: 20px; height: 20px;background-color: rgb(0, 0, 0);\"></td><td title=\"Index: [1, 3]&#10;Color: (0, 0, 0)\" style=\"width: 20px; height: 20px;background-color: rgb(0, 0, 0);\"></td><td title=\"Index: [1, 4]&#10;Color: (0, 0, 0)\" style=\"width: 20px; height: 20px;background-color: rgb(0, 0, 0);\"></td></tr><tr><td title=\"Index: [2, 0]&#10;Color: (0, 0, 0)\" style=\"width: 20px; height: 20px;background-color: rgb(0, 0, 0);\"></td><td title=\"Index: [2, 1]&#10;Color: (0, 0, 0)\" style=\"width: 20px; height: 20px;background-color: rgb(0, 0, 0);\"></td><td title=\"Index: [2, 2]&#10;Color: (0, 0, 0)\" style=\"width: 20px; height: 20px;background-color: rgb(0, 0, 0);\"></td><td title=\"Index: [2, 3]&#10;Color: (0, 0, 0)\" style=\"width: 20px; height: 20px;background-color: rgb(0, 0, 0);\"></td><td title=\"Index: [2, 4]&#10;Color: (0, 0, 0)\" style=\"width: 20px; height: 20px;background-color: rgb(0, 0, 0);\"></td></tr><tr><td title=\"Index: [3, 0]&#10;Color: (0, 0, 0)\" style=\"width: 20px; height: 20px;background-color: rgb(0, 0, 0);\"></td><td title=\"Index: [3, 1]&#10;Color: (0, 0, 0)\" style=\"width: 20px; height: 20px;background-color: rgb(0, 0, 0);\"></td><td title=\"Index: [3, 2]&#10;Color: (0, 0, 0)\" style=\"width: 20px; height: 20px;background-color: rgb(0, 0, 0);\"></td><td title=\"Index: [3, 3]&#10;Color: (0, 0, 0)\" style=\"width: 20px; height: 20px;background-color: rgb(0, 0, 0);\"></td><td title=\"Index: [3, 4]&#10;Color: (0, 0, 0)\" style=\"width: 20px; height: 20px;background-color: rgb(0, 0, 0);\"></td></tr><tr><td title=\"Index: [4, 0]&#10;Color: (0, 0, 0)\" style=\"width: 20px; height: 20px;background-color: rgb(0, 0, 0);\"></td><td title=\"Index: [4, 1]&#10;Color: (0, 0, 0)\" style=\"width: 20px; height: 20px;background-color: rgb(0, 0, 0);\"></td><td title=\"Index: [4, 2]&#10;Color: (0, 0, 0)\" style=\"width: 20px; height: 20px;background-color: rgb(0, 0, 0);\"></td><td title=\"Index: [4, 3]&#10;Color: (0, 0, 0)\" style=\"width: 20px; height: 20px;background-color: rgb(0, 0, 0);\"></td><td title=\"Index: [4, 4]&#10;Color: (0, 0, 0)\" style=\"width: 20px; height: 20px;background-color: rgb(0, 0, 0);\"></td></tr></tbody></table>"
            ]
          },
          "metadata": {},
          "execution_count": 28
        }
      ]
    },
    {
      "cell_type": "markdown",
      "source": [
        "- Criando uma variável com o sinal de igual:"
      ],
      "metadata": {
        "id": "5nN79jldD9BY"
      }
    },
    {
      "cell_type": "code",
      "source": [
        "grade = BlockGrid(5,5, fill=colors.Blue)"
      ],
      "metadata": {
        "id": "36TRlNJmD9OW"
      },
      "execution_count": null,
      "outputs": []
    },
    {
      "cell_type": "code",
      "source": [
        "grade"
      ],
      "metadata": {
        "colab": {
          "base_uri": "https://localhost:8080/"
        },
        "id": "JBohP5RsD9WG",
        "outputId": "0580504f-4fcf-4808-c09f-9e63a38ea0e1"
      },
      "execution_count": null,
      "outputs": [
        {
          "output_type": "execute_result",
          "data": {
            "text/plain": [
              "<ipythonblocks.ipythonblocks.BlockGrid at 0x7f3ab3b6a750>"
            ],
            "text/html": [
              "<style type=\"text/css\">table.blockgrid {border: none;} .blockgrid tr {border: none;} .blockgrid td {padding: 0px;} #blocks909f3fd7-4260-4fc2-8dc4-7a1c67f12a12 td {border: 1px solid white;}</style><table id=\"blocks909f3fd7-4260-4fc2-8dc4-7a1c67f12a12\" class=\"blockgrid\"><tbody><tr><td title=\"Index: [0, 0]&#10;Color: (0, 0, 255)\" style=\"width: 20px; height: 20px;background-color: rgb(0, 0, 255);\"></td><td title=\"Index: [0, 1]&#10;Color: (0, 0, 255)\" style=\"width: 20px; height: 20px;background-color: rgb(0, 0, 255);\"></td><td title=\"Index: [0, 2]&#10;Color: (0, 0, 255)\" style=\"width: 20px; height: 20px;background-color: rgb(0, 0, 255);\"></td><td title=\"Index: [0, 3]&#10;Color: (0, 0, 255)\" style=\"width: 20px; height: 20px;background-color: rgb(0, 0, 255);\"></td><td title=\"Index: [0, 4]&#10;Color: (0, 0, 255)\" style=\"width: 20px; height: 20px;background-color: rgb(0, 0, 255);\"></td></tr><tr><td title=\"Index: [1, 0]&#10;Color: (0, 0, 255)\" style=\"width: 20px; height: 20px;background-color: rgb(0, 0, 255);\"></td><td title=\"Index: [1, 1]&#10;Color: (0, 0, 255)\" style=\"width: 20px; height: 20px;background-color: rgb(0, 0, 255);\"></td><td title=\"Index: [1, 2]&#10;Color: (0, 0, 255)\" style=\"width: 20px; height: 20px;background-color: rgb(0, 0, 255);\"></td><td title=\"Index: [1, 3]&#10;Color: (0, 0, 255)\" style=\"width: 20px; height: 20px;background-color: rgb(0, 0, 255);\"></td><td title=\"Index: [1, 4]&#10;Color: (0, 0, 255)\" style=\"width: 20px; height: 20px;background-color: rgb(0, 0, 255);\"></td></tr><tr><td title=\"Index: [2, 0]&#10;Color: (0, 0, 255)\" style=\"width: 20px; height: 20px;background-color: rgb(0, 0, 255);\"></td><td title=\"Index: [2, 1]&#10;Color: (0, 0, 255)\" style=\"width: 20px; height: 20px;background-color: rgb(0, 0, 255);\"></td><td title=\"Index: [2, 2]&#10;Color: (0, 0, 255)\" style=\"width: 20px; height: 20px;background-color: rgb(0, 0, 255);\"></td><td title=\"Index: [2, 3]&#10;Color: (0, 0, 255)\" style=\"width: 20px; height: 20px;background-color: rgb(0, 0, 255);\"></td><td title=\"Index: [2, 4]&#10;Color: (0, 0, 255)\" style=\"width: 20px; height: 20px;background-color: rgb(0, 0, 255);\"></td></tr><tr><td title=\"Index: [3, 0]&#10;Color: (0, 0, 255)\" style=\"width: 20px; height: 20px;background-color: rgb(0, 0, 255);\"></td><td title=\"Index: [3, 1]&#10;Color: (0, 0, 255)\" style=\"width: 20px; height: 20px;background-color: rgb(0, 0, 255);\"></td><td title=\"Index: [3, 2]&#10;Color: (0, 0, 255)\" style=\"width: 20px; height: 20px;background-color: rgb(0, 0, 255);\"></td><td title=\"Index: [3, 3]&#10;Color: (0, 0, 255)\" style=\"width: 20px; height: 20px;background-color: rgb(0, 0, 255);\"></td><td title=\"Index: [3, 4]&#10;Color: (0, 0, 255)\" style=\"width: 20px; height: 20px;background-color: rgb(0, 0, 255);\"></td></tr><tr><td title=\"Index: [4, 0]&#10;Color: (0, 0, 255)\" style=\"width: 20px; height: 20px;background-color: rgb(0, 0, 255);\"></td><td title=\"Index: [4, 1]&#10;Color: (0, 0, 255)\" style=\"width: 20px; height: 20px;background-color: rgb(0, 0, 255);\"></td><td title=\"Index: [4, 2]&#10;Color: (0, 0, 255)\" style=\"width: 20px; height: 20px;background-color: rgb(0, 0, 255);\"></td><td title=\"Index: [4, 3]&#10;Color: (0, 0, 255)\" style=\"width: 20px; height: 20px;background-color: rgb(0, 0, 255);\"></td><td title=\"Index: [4, 4]&#10;Color: (0, 0, 255)\" style=\"width: 20px; height: 20px;background-color: rgb(0, 0, 255);\"></td></tr></tbody></table>"
            ]
          },
          "metadata": {},
          "execution_count": 30
        }
      ]
    },
    {
      "cell_type": "code",
      "source": [
        "grade = BlockGrid(width = 5,height = 5, fill=colors.Blue)\n",
        "grade"
      ],
      "metadata": {
        "colab": {
          "base_uri": "https://localhost:8080/"
        },
        "id": "iEPgUwvPD9d5",
        "outputId": "586e3154-7c92-4827-a32a-29010345c833"
      },
      "execution_count": null,
      "outputs": [
        {
          "output_type": "execute_result",
          "data": {
            "text/plain": [
              "<ipythonblocks.ipythonblocks.BlockGrid at 0x7f3acc968ad0>"
            ],
            "text/html": [
              "<style type=\"text/css\">table.blockgrid {border: none;} .blockgrid tr {border: none;} .blockgrid td {padding: 0px;} #blocks36dfc98c-bf6a-4509-88a2-0b79b35ad9aa td {border: 1px solid white;}</style><table id=\"blocks36dfc98c-bf6a-4509-88a2-0b79b35ad9aa\" class=\"blockgrid\"><tbody><tr><td title=\"Index: [0, 0]&#10;Color: (0, 0, 255)\" style=\"width: 20px; height: 20px;background-color: rgb(0, 0, 255);\"></td><td title=\"Index: [0, 1]&#10;Color: (0, 0, 255)\" style=\"width: 20px; height: 20px;background-color: rgb(0, 0, 255);\"></td><td title=\"Index: [0, 2]&#10;Color: (0, 0, 255)\" style=\"width: 20px; height: 20px;background-color: rgb(0, 0, 255);\"></td><td title=\"Index: [0, 3]&#10;Color: (0, 0, 255)\" style=\"width: 20px; height: 20px;background-color: rgb(0, 0, 255);\"></td><td title=\"Index: [0, 4]&#10;Color: (0, 0, 255)\" style=\"width: 20px; height: 20px;background-color: rgb(0, 0, 255);\"></td></tr><tr><td title=\"Index: [1, 0]&#10;Color: (0, 0, 255)\" style=\"width: 20px; height: 20px;background-color: rgb(0, 0, 255);\"></td><td title=\"Index: [1, 1]&#10;Color: (0, 0, 255)\" style=\"width: 20px; height: 20px;background-color: rgb(0, 0, 255);\"></td><td title=\"Index: [1, 2]&#10;Color: (0, 0, 255)\" style=\"width: 20px; height: 20px;background-color: rgb(0, 0, 255);\"></td><td title=\"Index: [1, 3]&#10;Color: (0, 0, 255)\" style=\"width: 20px; height: 20px;background-color: rgb(0, 0, 255);\"></td><td title=\"Index: [1, 4]&#10;Color: (0, 0, 255)\" style=\"width: 20px; height: 20px;background-color: rgb(0, 0, 255);\"></td></tr><tr><td title=\"Index: [2, 0]&#10;Color: (0, 0, 255)\" style=\"width: 20px; height: 20px;background-color: rgb(0, 0, 255);\"></td><td title=\"Index: [2, 1]&#10;Color: (0, 0, 255)\" style=\"width: 20px; height: 20px;background-color: rgb(0, 0, 255);\"></td><td title=\"Index: [2, 2]&#10;Color: (0, 0, 255)\" style=\"width: 20px; height: 20px;background-color: rgb(0, 0, 255);\"></td><td title=\"Index: [2, 3]&#10;Color: (0, 0, 255)\" style=\"width: 20px; height: 20px;background-color: rgb(0, 0, 255);\"></td><td title=\"Index: [2, 4]&#10;Color: (0, 0, 255)\" style=\"width: 20px; height: 20px;background-color: rgb(0, 0, 255);\"></td></tr><tr><td title=\"Index: [3, 0]&#10;Color: (0, 0, 255)\" style=\"width: 20px; height: 20px;background-color: rgb(0, 0, 255);\"></td><td title=\"Index: [3, 1]&#10;Color: (0, 0, 255)\" style=\"width: 20px; height: 20px;background-color: rgb(0, 0, 255);\"></td><td title=\"Index: [3, 2]&#10;Color: (0, 0, 255)\" style=\"width: 20px; height: 20px;background-color: rgb(0, 0, 255);\"></td><td title=\"Index: [3, 3]&#10;Color: (0, 0, 255)\" style=\"width: 20px; height: 20px;background-color: rgb(0, 0, 255);\"></td><td title=\"Index: [3, 4]&#10;Color: (0, 0, 255)\" style=\"width: 20px; height: 20px;background-color: rgb(0, 0, 255);\"></td></tr><tr><td title=\"Index: [4, 0]&#10;Color: (0, 0, 255)\" style=\"width: 20px; height: 20px;background-color: rgb(0, 0, 255);\"></td><td title=\"Index: [4, 1]&#10;Color: (0, 0, 255)\" style=\"width: 20px; height: 20px;background-color: rgb(0, 0, 255);\"></td><td title=\"Index: [4, 2]&#10;Color: (0, 0, 255)\" style=\"width: 20px; height: 20px;background-color: rgb(0, 0, 255);\"></td><td title=\"Index: [4, 3]&#10;Color: (0, 0, 255)\" style=\"width: 20px; height: 20px;background-color: rgb(0, 0, 255);\"></td><td title=\"Index: [4, 4]&#10;Color: (0, 0, 255)\" style=\"width: 20px; height: 20px;background-color: rgb(0, 0, 255);\"></td></tr></tbody></table>"
            ]
          },
          "metadata": {},
          "execution_count": 31
        }
      ]
    },
    {
      "cell_type": "markdown",
      "source": [
        "### Índices em Python"
      ],
      "metadata": {
        "id": "usdaRfZn7jiE"
      }
    },
    {
      "cell_type": "code",
      "source": [
        "# O bloco da primeira linha e primeira coluna fica na posição 0,0\n",
        "grade[0,0] = colors.Red\n",
        "# O bloco da segunda linha e da segunda coluna fica na posição 1,1\n",
        "grade[1, 1] = colors.Red\n",
        "grade"
      ],
      "metadata": {
        "colab": {
          "base_uri": "https://localhost:8080/"
        },
        "id": "Xq38Gyk5D9kZ",
        "outputId": "921f61b5-1be4-4f2d-e379-53c02445a13f"
      },
      "execution_count": null,
      "outputs": [
        {
          "output_type": "execute_result",
          "data": {
            "text/plain": [
              "<ipythonblocks.ipythonblocks.BlockGrid at 0x7f3acc968ad0>"
            ],
            "text/html": [
              "<style type=\"text/css\">table.blockgrid {border: none;} .blockgrid tr {border: none;} .blockgrid td {padding: 0px;} #blockse1a1421e-9351-40e0-9968-c94cc05c5c75 td {border: 1px solid white;}</style><table id=\"blockse1a1421e-9351-40e0-9968-c94cc05c5c75\" class=\"blockgrid\"><tbody><tr><td title=\"Index: [0, 0]&#10;Color: (255, 0, 0)\" style=\"width: 20px; height: 20px;background-color: rgb(255, 0, 0);\"></td><td title=\"Index: [0, 1]&#10;Color: (0, 0, 255)\" style=\"width: 20px; height: 20px;background-color: rgb(0, 0, 255);\"></td><td title=\"Index: [0, 2]&#10;Color: (0, 0, 255)\" style=\"width: 20px; height: 20px;background-color: rgb(0, 0, 255);\"></td><td title=\"Index: [0, 3]&#10;Color: (0, 0, 255)\" style=\"width: 20px; height: 20px;background-color: rgb(0, 0, 255);\"></td><td title=\"Index: [0, 4]&#10;Color: (0, 0, 255)\" style=\"width: 20px; height: 20px;background-color: rgb(0, 0, 255);\"></td></tr><tr><td title=\"Index: [1, 0]&#10;Color: (0, 0, 255)\" style=\"width: 20px; height: 20px;background-color: rgb(0, 0, 255);\"></td><td title=\"Index: [1, 1]&#10;Color: (255, 0, 0)\" style=\"width: 20px; height: 20px;background-color: rgb(255, 0, 0);\"></td><td title=\"Index: [1, 2]&#10;Color: (0, 0, 255)\" style=\"width: 20px; height: 20px;background-color: rgb(0, 0, 255);\"></td><td title=\"Index: [1, 3]&#10;Color: (0, 0, 255)\" style=\"width: 20px; height: 20px;background-color: rgb(0, 0, 255);\"></td><td title=\"Index: [1, 4]&#10;Color: (0, 0, 255)\" style=\"width: 20px; height: 20px;background-color: rgb(0, 0, 255);\"></td></tr><tr><td title=\"Index: [2, 0]&#10;Color: (0, 0, 255)\" style=\"width: 20px; height: 20px;background-color: rgb(0, 0, 255);\"></td><td title=\"Index: [2, 1]&#10;Color: (0, 0, 255)\" style=\"width: 20px; height: 20px;background-color: rgb(0, 0, 255);\"></td><td title=\"Index: [2, 2]&#10;Color: (0, 0, 255)\" style=\"width: 20px; height: 20px;background-color: rgb(0, 0, 255);\"></td><td title=\"Index: [2, 3]&#10;Color: (0, 0, 255)\" style=\"width: 20px; height: 20px;background-color: rgb(0, 0, 255);\"></td><td title=\"Index: [2, 4]&#10;Color: (0, 0, 255)\" style=\"width: 20px; height: 20px;background-color: rgb(0, 0, 255);\"></td></tr><tr><td title=\"Index: [3, 0]&#10;Color: (0, 0, 255)\" style=\"width: 20px; height: 20px;background-color: rgb(0, 0, 255);\"></td><td title=\"Index: [3, 1]&#10;Color: (0, 0, 255)\" style=\"width: 20px; height: 20px;background-color: rgb(0, 0, 255);\"></td><td title=\"Index: [3, 2]&#10;Color: (0, 0, 255)\" style=\"width: 20px; height: 20px;background-color: rgb(0, 0, 255);\"></td><td title=\"Index: [3, 3]&#10;Color: (0, 0, 255)\" style=\"width: 20px; height: 20px;background-color: rgb(0, 0, 255);\"></td><td title=\"Index: [3, 4]&#10;Color: (0, 0, 255)\" style=\"width: 20px; height: 20px;background-color: rgb(0, 0, 255);\"></td></tr><tr><td title=\"Index: [4, 0]&#10;Color: (0, 0, 255)\" style=\"width: 20px; height: 20px;background-color: rgb(0, 0, 255);\"></td><td title=\"Index: [4, 1]&#10;Color: (0, 0, 255)\" style=\"width: 20px; height: 20px;background-color: rgb(0, 0, 255);\"></td><td title=\"Index: [4, 2]&#10;Color: (0, 0, 255)\" style=\"width: 20px; height: 20px;background-color: rgb(0, 0, 255);\"></td><td title=\"Index: [4, 3]&#10;Color: (0, 0, 255)\" style=\"width: 20px; height: 20px;background-color: rgb(0, 0, 255);\"></td><td title=\"Index: [4, 4]&#10;Color: (0, 0, 255)\" style=\"width: 20px; height: 20px;background-color: rgb(0, 0, 255);\"></td></tr></tbody></table>"
            ]
          },
          "metadata": {},
          "execution_count": 32
        }
      ]
    },
    {
      "cell_type": "code",
      "source": [
        "# A última linha é chamada de -1, a penúltima coluna é chamada -2 e assim por diante ...\n",
        "grade[-1,-2]= colors.Yellow\n",
        "grade"
      ],
      "metadata": {
        "colab": {
          "base_uri": "https://localhost:8080/"
        },
        "id": "Vu9CrGo2inei",
        "outputId": "9b83b43d-2017-4d9f-ba0a-788546e84427"
      },
      "execution_count": null,
      "outputs": [
        {
          "output_type": "execute_result",
          "data": {
            "text/plain": [
              "<ipythonblocks.ipythonblocks.BlockGrid at 0x7f3acc968ad0>"
            ],
            "text/html": [
              "<style type=\"text/css\">table.blockgrid {border: none;} .blockgrid tr {border: none;} .blockgrid td {padding: 0px;} #blockse7cff724-1745-405b-a11d-888f6f66891b td {border: 1px solid white;}</style><table id=\"blockse7cff724-1745-405b-a11d-888f6f66891b\" class=\"blockgrid\"><tbody><tr><td title=\"Index: [0, 0]&#10;Color: (255, 0, 0)\" style=\"width: 20px; height: 20px;background-color: rgb(255, 0, 0);\"></td><td title=\"Index: [0, 1]&#10;Color: (0, 0, 255)\" style=\"width: 20px; height: 20px;background-color: rgb(0, 0, 255);\"></td><td title=\"Index: [0, 2]&#10;Color: (0, 0, 255)\" style=\"width: 20px; height: 20px;background-color: rgb(0, 0, 255);\"></td><td title=\"Index: [0, 3]&#10;Color: (0, 0, 255)\" style=\"width: 20px; height: 20px;background-color: rgb(0, 0, 255);\"></td><td title=\"Index: [0, 4]&#10;Color: (0, 0, 255)\" style=\"width: 20px; height: 20px;background-color: rgb(0, 0, 255);\"></td></tr><tr><td title=\"Index: [1, 0]&#10;Color: (0, 0, 255)\" style=\"width: 20px; height: 20px;background-color: rgb(0, 0, 255);\"></td><td title=\"Index: [1, 1]&#10;Color: (255, 0, 0)\" style=\"width: 20px; height: 20px;background-color: rgb(255, 0, 0);\"></td><td title=\"Index: [1, 2]&#10;Color: (0, 0, 255)\" style=\"width: 20px; height: 20px;background-color: rgb(0, 0, 255);\"></td><td title=\"Index: [1, 3]&#10;Color: (0, 0, 255)\" style=\"width: 20px; height: 20px;background-color: rgb(0, 0, 255);\"></td><td title=\"Index: [1, 4]&#10;Color: (0, 0, 255)\" style=\"width: 20px; height: 20px;background-color: rgb(0, 0, 255);\"></td></tr><tr><td title=\"Index: [2, 0]&#10;Color: (0, 0, 255)\" style=\"width: 20px; height: 20px;background-color: rgb(0, 0, 255);\"></td><td title=\"Index: [2, 1]&#10;Color: (0, 0, 255)\" style=\"width: 20px; height: 20px;background-color: rgb(0, 0, 255);\"></td><td title=\"Index: [2, 2]&#10;Color: (0, 0, 255)\" style=\"width: 20px; height: 20px;background-color: rgb(0, 0, 255);\"></td><td title=\"Index: [2, 3]&#10;Color: (0, 0, 255)\" style=\"width: 20px; height: 20px;background-color: rgb(0, 0, 255);\"></td><td title=\"Index: [2, 4]&#10;Color: (0, 0, 255)\" style=\"width: 20px; height: 20px;background-color: rgb(0, 0, 255);\"></td></tr><tr><td title=\"Index: [3, 0]&#10;Color: (0, 0, 255)\" style=\"width: 20px; height: 20px;background-color: rgb(0, 0, 255);\"></td><td title=\"Index: [3, 1]&#10;Color: (0, 0, 255)\" style=\"width: 20px; height: 20px;background-color: rgb(0, 0, 255);\"></td><td title=\"Index: [3, 2]&#10;Color: (0, 0, 255)\" style=\"width: 20px; height: 20px;background-color: rgb(0, 0, 255);\"></td><td title=\"Index: [3, 3]&#10;Color: (0, 0, 255)\" style=\"width: 20px; height: 20px;background-color: rgb(0, 0, 255);\"></td><td title=\"Index: [3, 4]&#10;Color: (0, 0, 255)\" style=\"width: 20px; height: 20px;background-color: rgb(0, 0, 255);\"></td></tr><tr><td title=\"Index: [4, 0]&#10;Color: (0, 0, 255)\" style=\"width: 20px; height: 20px;background-color: rgb(0, 0, 255);\"></td><td title=\"Index: [4, 1]&#10;Color: (0, 0, 255)\" style=\"width: 20px; height: 20px;background-color: rgb(0, 0, 255);\"></td><td title=\"Index: [4, 2]&#10;Color: (0, 0, 255)\" style=\"width: 20px; height: 20px;background-color: rgb(0, 0, 255);\"></td><td title=\"Index: [4, 3]&#10;Color: (255, 255, 0)\" style=\"width: 20px; height: 20px;background-color: rgb(255, 255, 0);\"></td><td title=\"Index: [4, 4]&#10;Color: (0, 0, 255)\" style=\"width: 20px; height: 20px;background-color: rgb(0, 0, 255);\"></td></tr></tbody></table>"
            ]
          },
          "metadata": {},
          "execution_count": 33
        }
      ]
    },
    {
      "cell_type": "markdown",
      "source": [
        "## O `For` Loop"
      ],
      "metadata": {
        "id": "r-NBFtIElSmn"
      }
    },
    {
      "cell_type": "code",
      "source": [
        "range(5)"
      ],
      "metadata": {
        "colab": {
          "base_uri": "https://localhost:8080/"
        },
        "id": "TNIRXy0dEEGh",
        "outputId": "65589f80-aa00-472a-a928-3dbf9f937199"
      },
      "execution_count": null,
      "outputs": [
        {
          "output_type": "execute_result",
          "data": {
            "text/plain": [
              "range(0, 5)"
            ]
          },
          "metadata": {},
          "execution_count": 34
        }
      ]
    },
    {
      "cell_type": "code",
      "source": [
        "list(range(5))"
      ],
      "metadata": {
        "colab": {
          "base_uri": "https://localhost:8080/"
        },
        "id": "X7Zw_P9bELeK",
        "outputId": "fe4fedca-51e1-4a84-d511-4b83dbdab2f3"
      },
      "execution_count": null,
      "outputs": [
        {
          "output_type": "execute_result",
          "data": {
            "text/plain": [
              "[0, 1, 2, 3, 4]"
            ]
          },
          "metadata": {},
          "execution_count": 35
        }
      ]
    },
    {
      "cell_type": "code",
      "source": [
        "list(range(5,10))"
      ],
      "metadata": {
        "colab": {
          "base_uri": "https://localhost:8080/"
        },
        "id": "NN5Up05cE0sR",
        "outputId": "c3d64754-6005-4f0b-a1eb-38d41ed42dab"
      },
      "execution_count": null,
      "outputs": [
        {
          "output_type": "execute_result",
          "data": {
            "text/plain": [
              "[5, 6, 7, 8, 9]"
            ]
          },
          "metadata": {},
          "execution_count": 36
        }
      ]
    },
    {
      "cell_type": "code",
      "source": [
        "list(range(5,10,2))"
      ],
      "metadata": {
        "colab": {
          "base_uri": "https://localhost:8080/"
        },
        "id": "meGWqe7cFDwO",
        "outputId": "16608b69-3a55-49aa-9ab0-2f1c7066ce46"
      },
      "execution_count": null,
      "outputs": [
        {
          "output_type": "execute_result",
          "data": {
            "text/plain": [
              "[5, 7, 9]"
            ]
          },
          "metadata": {},
          "execution_count": 37
        }
      ]
    },
    {
      "cell_type": "code",
      "source": [
        "for i in range(5) :\n",
        "  grade[4,i].rgb = colors.Black\n",
        "grade"
      ],
      "metadata": {
        "colab": {
          "base_uri": "https://localhost:8080/"
        },
        "id": "04n0ew6hlXq6",
        "outputId": "c99bb2b8-0d2e-4814-8f3b-6f4f646c6a17"
      },
      "execution_count": null,
      "outputs": [
        {
          "output_type": "execute_result",
          "data": {
            "text/plain": [
              "<ipythonblocks.ipythonblocks.BlockGrid at 0x7f3acc968ad0>"
            ],
            "text/html": [
              "<style type=\"text/css\">table.blockgrid {border: none;} .blockgrid tr {border: none;} .blockgrid td {padding: 0px;} #blocks8dd089fa-ed92-40bf-b815-fca4fdadda23 td {border: 1px solid white;}</style><table id=\"blocks8dd089fa-ed92-40bf-b815-fca4fdadda23\" class=\"blockgrid\"><tbody><tr><td title=\"Index: [0, 0]&#10;Color: (255, 0, 0)\" style=\"width: 20px; height: 20px;background-color: rgb(255, 0, 0);\"></td><td title=\"Index: [0, 1]&#10;Color: (0, 0, 255)\" style=\"width: 20px; height: 20px;background-color: rgb(0, 0, 255);\"></td><td title=\"Index: [0, 2]&#10;Color: (0, 0, 255)\" style=\"width: 20px; height: 20px;background-color: rgb(0, 0, 255);\"></td><td title=\"Index: [0, 3]&#10;Color: (0, 0, 255)\" style=\"width: 20px; height: 20px;background-color: rgb(0, 0, 255);\"></td><td title=\"Index: [0, 4]&#10;Color: (0, 0, 255)\" style=\"width: 20px; height: 20px;background-color: rgb(0, 0, 255);\"></td></tr><tr><td title=\"Index: [1, 0]&#10;Color: (0, 0, 255)\" style=\"width: 20px; height: 20px;background-color: rgb(0, 0, 255);\"></td><td title=\"Index: [1, 1]&#10;Color: (255, 0, 0)\" style=\"width: 20px; height: 20px;background-color: rgb(255, 0, 0);\"></td><td title=\"Index: [1, 2]&#10;Color: (0, 0, 255)\" style=\"width: 20px; height: 20px;background-color: rgb(0, 0, 255);\"></td><td title=\"Index: [1, 3]&#10;Color: (0, 0, 255)\" style=\"width: 20px; height: 20px;background-color: rgb(0, 0, 255);\"></td><td title=\"Index: [1, 4]&#10;Color: (0, 0, 255)\" style=\"width: 20px; height: 20px;background-color: rgb(0, 0, 255);\"></td></tr><tr><td title=\"Index: [2, 0]&#10;Color: (0, 0, 255)\" style=\"width: 20px; height: 20px;background-color: rgb(0, 0, 255);\"></td><td title=\"Index: [2, 1]&#10;Color: (0, 0, 255)\" style=\"width: 20px; height: 20px;background-color: rgb(0, 0, 255);\"></td><td title=\"Index: [2, 2]&#10;Color: (0, 0, 255)\" style=\"width: 20px; height: 20px;background-color: rgb(0, 0, 255);\"></td><td title=\"Index: [2, 3]&#10;Color: (0, 0, 255)\" style=\"width: 20px; height: 20px;background-color: rgb(0, 0, 255);\"></td><td title=\"Index: [2, 4]&#10;Color: (0, 0, 255)\" style=\"width: 20px; height: 20px;background-color: rgb(0, 0, 255);\"></td></tr><tr><td title=\"Index: [3, 0]&#10;Color: (0, 0, 255)\" style=\"width: 20px; height: 20px;background-color: rgb(0, 0, 255);\"></td><td title=\"Index: [3, 1]&#10;Color: (0, 0, 255)\" style=\"width: 20px; height: 20px;background-color: rgb(0, 0, 255);\"></td><td title=\"Index: [3, 2]&#10;Color: (0, 0, 255)\" style=\"width: 20px; height: 20px;background-color: rgb(0, 0, 255);\"></td><td title=\"Index: [3, 3]&#10;Color: (0, 0, 255)\" style=\"width: 20px; height: 20px;background-color: rgb(0, 0, 255);\"></td><td title=\"Index: [3, 4]&#10;Color: (0, 0, 255)\" style=\"width: 20px; height: 20px;background-color: rgb(0, 0, 255);\"></td></tr><tr><td title=\"Index: [4, 0]&#10;Color: (0, 0, 0)\" style=\"width: 20px; height: 20px;background-color: rgb(0, 0, 0);\"></td><td title=\"Index: [4, 1]&#10;Color: (0, 0, 0)\" style=\"width: 20px; height: 20px;background-color: rgb(0, 0, 0);\"></td><td title=\"Index: [4, 2]&#10;Color: (0, 0, 0)\" style=\"width: 20px; height: 20px;background-color: rgb(0, 0, 0);\"></td><td title=\"Index: [4, 3]&#10;Color: (0, 0, 0)\" style=\"width: 20px; height: 20px;background-color: rgb(0, 0, 0);\"></td><td title=\"Index: [4, 4]&#10;Color: (0, 0, 0)\" style=\"width: 20px; height: 20px;background-color: rgb(0, 0, 0);\"></td></tr></tbody></table>"
            ]
          },
          "metadata": {},
          "execution_count": 38
        }
      ]
    },
    {
      "cell_type": "code",
      "source": [
        "for column in range(grade.width):\n",
        "  grade[1,column] = colors.Tomato\n",
        "grade"
      ],
      "metadata": {
        "colab": {
          "base_uri": "https://localhost:8080/"
        },
        "id": "PrhLrfXwFUFV",
        "outputId": "dc49acfa-3d65-4fe3-a667-915ba6756c77"
      },
      "execution_count": null,
      "outputs": [
        {
          "output_type": "execute_result",
          "data": {
            "text/plain": [
              "<ipythonblocks.ipythonblocks.BlockGrid at 0x7f3acc968ad0>"
            ],
            "text/html": [
              "<style type=\"text/css\">table.blockgrid {border: none;} .blockgrid tr {border: none;} .blockgrid td {padding: 0px;} #blocks914f1da5-4b62-473a-ae5d-9dfd3a54c6c2 td {border: 1px solid white;}</style><table id=\"blocks914f1da5-4b62-473a-ae5d-9dfd3a54c6c2\" class=\"blockgrid\"><tbody><tr><td title=\"Index: [0, 0]&#10;Color: (255, 0, 0)\" style=\"width: 20px; height: 20px;background-color: rgb(255, 0, 0);\"></td><td title=\"Index: [0, 1]&#10;Color: (0, 0, 255)\" style=\"width: 20px; height: 20px;background-color: rgb(0, 0, 255);\"></td><td title=\"Index: [0, 2]&#10;Color: (0, 0, 255)\" style=\"width: 20px; height: 20px;background-color: rgb(0, 0, 255);\"></td><td title=\"Index: [0, 3]&#10;Color: (0, 0, 255)\" style=\"width: 20px; height: 20px;background-color: rgb(0, 0, 255);\"></td><td title=\"Index: [0, 4]&#10;Color: (0, 0, 255)\" style=\"width: 20px; height: 20px;background-color: rgb(0, 0, 255);\"></td></tr><tr><td title=\"Index: [1, 0]&#10;Color: (255, 99, 71)\" style=\"width: 20px; height: 20px;background-color: rgb(255, 99, 71);\"></td><td title=\"Index: [1, 1]&#10;Color: (255, 99, 71)\" style=\"width: 20px; height: 20px;background-color: rgb(255, 99, 71);\"></td><td title=\"Index: [1, 2]&#10;Color: (255, 99, 71)\" style=\"width: 20px; height: 20px;background-color: rgb(255, 99, 71);\"></td><td title=\"Index: [1, 3]&#10;Color: (255, 99, 71)\" style=\"width: 20px; height: 20px;background-color: rgb(255, 99, 71);\"></td><td title=\"Index: [1, 4]&#10;Color: (255, 99, 71)\" style=\"width: 20px; height: 20px;background-color: rgb(255, 99, 71);\"></td></tr><tr><td title=\"Index: [2, 0]&#10;Color: (0, 0, 255)\" style=\"width: 20px; height: 20px;background-color: rgb(0, 0, 255);\"></td><td title=\"Index: [2, 1]&#10;Color: (0, 0, 255)\" style=\"width: 20px; height: 20px;background-color: rgb(0, 0, 255);\"></td><td title=\"Index: [2, 2]&#10;Color: (0, 0, 255)\" style=\"width: 20px; height: 20px;background-color: rgb(0, 0, 255);\"></td><td title=\"Index: [2, 3]&#10;Color: (0, 0, 255)\" style=\"width: 20px; height: 20px;background-color: rgb(0, 0, 255);\"></td><td title=\"Index: [2, 4]&#10;Color: (0, 0, 255)\" style=\"width: 20px; height: 20px;background-color: rgb(0, 0, 255);\"></td></tr><tr><td title=\"Index: [3, 0]&#10;Color: (0, 0, 255)\" style=\"width: 20px; height: 20px;background-color: rgb(0, 0, 255);\"></td><td title=\"Index: [3, 1]&#10;Color: (0, 0, 255)\" style=\"width: 20px; height: 20px;background-color: rgb(0, 0, 255);\"></td><td title=\"Index: [3, 2]&#10;Color: (0, 0, 255)\" style=\"width: 20px; height: 20px;background-color: rgb(0, 0, 255);\"></td><td title=\"Index: [3, 3]&#10;Color: (0, 0, 255)\" style=\"width: 20px; height: 20px;background-color: rgb(0, 0, 255);\"></td><td title=\"Index: [3, 4]&#10;Color: (0, 0, 255)\" style=\"width: 20px; height: 20px;background-color: rgb(0, 0, 255);\"></td></tr><tr><td title=\"Index: [4, 0]&#10;Color: (0, 0, 0)\" style=\"width: 20px; height: 20px;background-color: rgb(0, 0, 0);\"></td><td title=\"Index: [4, 1]&#10;Color: (0, 0, 0)\" style=\"width: 20px; height: 20px;background-color: rgb(0, 0, 0);\"></td><td title=\"Index: [4, 2]&#10;Color: (0, 0, 0)\" style=\"width: 20px; height: 20px;background-color: rgb(0, 0, 0);\"></td><td title=\"Index: [4, 3]&#10;Color: (0, 0, 0)\" style=\"width: 20px; height: 20px;background-color: rgb(0, 0, 0);\"></td><td title=\"Index: [4, 4]&#10;Color: (0, 0, 0)\" style=\"width: 20px; height: 20px;background-color: rgb(0, 0, 0);\"></td></tr></tbody></table>"
            ]
          },
          "metadata": {},
          "execution_count": 39
        }
      ]
    },
    {
      "cell_type": "code",
      "source": [
        "for block in grade:\n",
        "  block.rgb = colors.Black\n",
        "grade"
      ],
      "metadata": {
        "colab": {
          "base_uri": "https://localhost:8080/"
        },
        "id": "6ryIPrt8mUAH",
        "outputId": "a7259653-bf08-41c3-ca83-b57a425b1854"
      },
      "execution_count": null,
      "outputs": [
        {
          "output_type": "execute_result",
          "data": {
            "text/plain": [
              "<ipythonblocks.ipythonblocks.BlockGrid at 0x7f3acc968ad0>"
            ],
            "text/html": [
              "<style type=\"text/css\">table.blockgrid {border: none;} .blockgrid tr {border: none;} .blockgrid td {padding: 0px;} #blocks06770fd6-3570-4a79-af47-21dc53c2dded td {border: 1px solid white;}</style><table id=\"blocks06770fd6-3570-4a79-af47-21dc53c2dded\" class=\"blockgrid\"><tbody><tr><td title=\"Index: [0, 0]&#10;Color: (0, 0, 0)\" style=\"width: 20px; height: 20px;background-color: rgb(0, 0, 0);\"></td><td title=\"Index: [0, 1]&#10;Color: (0, 0, 0)\" style=\"width: 20px; height: 20px;background-color: rgb(0, 0, 0);\"></td><td title=\"Index: [0, 2]&#10;Color: (0, 0, 0)\" style=\"width: 20px; height: 20px;background-color: rgb(0, 0, 0);\"></td><td title=\"Index: [0, 3]&#10;Color: (0, 0, 0)\" style=\"width: 20px; height: 20px;background-color: rgb(0, 0, 0);\"></td><td title=\"Index: [0, 4]&#10;Color: (0, 0, 0)\" style=\"width: 20px; height: 20px;background-color: rgb(0, 0, 0);\"></td></tr><tr><td title=\"Index: [1, 0]&#10;Color: (0, 0, 0)\" style=\"width: 20px; height: 20px;background-color: rgb(0, 0, 0);\"></td><td title=\"Index: [1, 1]&#10;Color: (0, 0, 0)\" style=\"width: 20px; height: 20px;background-color: rgb(0, 0, 0);\"></td><td title=\"Index: [1, 2]&#10;Color: (0, 0, 0)\" style=\"width: 20px; height: 20px;background-color: rgb(0, 0, 0);\"></td><td title=\"Index: [1, 3]&#10;Color: (0, 0, 0)\" style=\"width: 20px; height: 20px;background-color: rgb(0, 0, 0);\"></td><td title=\"Index: [1, 4]&#10;Color: (0, 0, 0)\" style=\"width: 20px; height: 20px;background-color: rgb(0, 0, 0);\"></td></tr><tr><td title=\"Index: [2, 0]&#10;Color: (0, 0, 0)\" style=\"width: 20px; height: 20px;background-color: rgb(0, 0, 0);\"></td><td title=\"Index: [2, 1]&#10;Color: (0, 0, 0)\" style=\"width: 20px; height: 20px;background-color: rgb(0, 0, 0);\"></td><td title=\"Index: [2, 2]&#10;Color: (0, 0, 0)\" style=\"width: 20px; height: 20px;background-color: rgb(0, 0, 0);\"></td><td title=\"Index: [2, 3]&#10;Color: (0, 0, 0)\" style=\"width: 20px; height: 20px;background-color: rgb(0, 0, 0);\"></td><td title=\"Index: [2, 4]&#10;Color: (0, 0, 0)\" style=\"width: 20px; height: 20px;background-color: rgb(0, 0, 0);\"></td></tr><tr><td title=\"Index: [3, 0]&#10;Color: (0, 0, 0)\" style=\"width: 20px; height: 20px;background-color: rgb(0, 0, 0);\"></td><td title=\"Index: [3, 1]&#10;Color: (0, 0, 0)\" style=\"width: 20px; height: 20px;background-color: rgb(0, 0, 0);\"></td><td title=\"Index: [3, 2]&#10;Color: (0, 0, 0)\" style=\"width: 20px; height: 20px;background-color: rgb(0, 0, 0);\"></td><td title=\"Index: [3, 3]&#10;Color: (0, 0, 0)\" style=\"width: 20px; height: 20px;background-color: rgb(0, 0, 0);\"></td><td title=\"Index: [3, 4]&#10;Color: (0, 0, 0)\" style=\"width: 20px; height: 20px;background-color: rgb(0, 0, 0);\"></td></tr><tr><td title=\"Index: [4, 0]&#10;Color: (0, 0, 0)\" style=\"width: 20px; height: 20px;background-color: rgb(0, 0, 0);\"></td><td title=\"Index: [4, 1]&#10;Color: (0, 0, 0)\" style=\"width: 20px; height: 20px;background-color: rgb(0, 0, 0);\"></td><td title=\"Index: [4, 2]&#10;Color: (0, 0, 0)\" style=\"width: 20px; height: 20px;background-color: rgb(0, 0, 0);\"></td><td title=\"Index: [4, 3]&#10;Color: (0, 0, 0)\" style=\"width: 20px; height: 20px;background-color: rgb(0, 0, 0);\"></td><td title=\"Index: [4, 4]&#10;Color: (0, 0, 0)\" style=\"width: 20px; height: 20px;background-color: rgb(0, 0, 0);\"></td></tr></tbody></table>"
            ]
          },
          "metadata": {},
          "execution_count": 40
        }
      ]
    },
    {
      "cell_type": "code",
      "source": [
        "for block in grade.animate():\n",
        "  block.rgb = colors.Blue\n"
      ],
      "metadata": {
        "colab": {
          "base_uri": "https://localhost:8080/"
        },
        "id": "NJ55YXLC8KDG",
        "outputId": "2009bb8c-4eee-4ee4-f021-bd2b0c759e13"
      },
      "execution_count": null,
      "outputs": [
        {
          "output_type": "display_data",
          "data": {
            "text/plain": [
              "<IPython.core.display.HTML object>"
            ],
            "text/html": [
              "<style type=\"text/css\">table.blockgrid {border: none;} .blockgrid tr {border: none;} .blockgrid td {padding: 0px;} #blocksa9f7ab93-914a-44ce-8ff9-1b465ff1da54 td {border: 1px solid white;}</style><table id=\"blocksa9f7ab93-914a-44ce-8ff9-1b465ff1da54\" class=\"blockgrid\"><tbody><tr><td title=\"Index: [0, 0]&#10;Color: (0, 0, 255)\" style=\"width: 20px; height: 20px;background-color: rgb(0, 0, 255);\"></td><td title=\"Index: [0, 1]&#10;Color: (0, 0, 255)\" style=\"width: 20px; height: 20px;background-color: rgb(0, 0, 255);\"></td><td title=\"Index: [0, 2]&#10;Color: (0, 0, 255)\" style=\"width: 20px; height: 20px;background-color: rgb(0, 0, 255);\"></td><td title=\"Index: [0, 3]&#10;Color: (0, 0, 255)\" style=\"width: 20px; height: 20px;background-color: rgb(0, 0, 255);\"></td><td title=\"Index: [0, 4]&#10;Color: (0, 0, 255)\" style=\"width: 20px; height: 20px;background-color: rgb(0, 0, 255);\"></td></tr><tr><td title=\"Index: [1, 0]&#10;Color: (0, 0, 255)\" style=\"width: 20px; height: 20px;background-color: rgb(0, 0, 255);\"></td><td title=\"Index: [1, 1]&#10;Color: (0, 0, 255)\" style=\"width: 20px; height: 20px;background-color: rgb(0, 0, 255);\"></td><td title=\"Index: [1, 2]&#10;Color: (0, 0, 255)\" style=\"width: 20px; height: 20px;background-color: rgb(0, 0, 255);\"></td><td title=\"Index: [1, 3]&#10;Color: (0, 0, 255)\" style=\"width: 20px; height: 20px;background-color: rgb(0, 0, 255);\"></td><td title=\"Index: [1, 4]&#10;Color: (0, 0, 255)\" style=\"width: 20px; height: 20px;background-color: rgb(0, 0, 255);\"></td></tr><tr><td title=\"Index: [2, 0]&#10;Color: (0, 0, 255)\" style=\"width: 20px; height: 20px;background-color: rgb(0, 0, 255);\"></td><td title=\"Index: [2, 1]&#10;Color: (0, 0, 255)\" style=\"width: 20px; height: 20px;background-color: rgb(0, 0, 255);\"></td><td title=\"Index: [2, 2]&#10;Color: (0, 0, 255)\" style=\"width: 20px; height: 20px;background-color: rgb(0, 0, 255);\"></td><td title=\"Index: [2, 3]&#10;Color: (0, 0, 255)\" style=\"width: 20px; height: 20px;background-color: rgb(0, 0, 255);\"></td><td title=\"Index: [2, 4]&#10;Color: (0, 0, 255)\" style=\"width: 20px; height: 20px;background-color: rgb(0, 0, 255);\"></td></tr><tr><td title=\"Index: [3, 0]&#10;Color: (0, 0, 255)\" style=\"width: 20px; height: 20px;background-color: rgb(0, 0, 255);\"></td><td title=\"Index: [3, 1]&#10;Color: (0, 0, 255)\" style=\"width: 20px; height: 20px;background-color: rgb(0, 0, 255);\"></td><td title=\"Index: [3, 2]&#10;Color: (0, 0, 255)\" style=\"width: 20px; height: 20px;background-color: rgb(0, 0, 255);\"></td><td title=\"Index: [3, 3]&#10;Color: (0, 0, 255)\" style=\"width: 20px; height: 20px;background-color: rgb(0, 0, 255);\"></td><td title=\"Index: [3, 4]&#10;Color: (0, 0, 255)\" style=\"width: 20px; height: 20px;background-color: rgb(0, 0, 255);\"></td></tr><tr><td title=\"Index: [4, 0]&#10;Color: (0, 0, 255)\" style=\"width: 20px; height: 20px;background-color: rgb(0, 0, 255);\"></td><td title=\"Index: [4, 1]&#10;Color: (0, 0, 255)\" style=\"width: 20px; height: 20px;background-color: rgb(0, 0, 255);\"></td><td title=\"Index: [4, 2]&#10;Color: (0, 0, 255)\" style=\"width: 20px; height: 20px;background-color: rgb(0, 0, 255);\"></td><td title=\"Index: [4, 3]&#10;Color: (0, 0, 255)\" style=\"width: 20px; height: 20px;background-color: rgb(0, 0, 255);\"></td><td title=\"Index: [4, 4]&#10;Color: (0, 0, 255)\" style=\"width: 20px; height: 20px;background-color: rgb(0, 0, 255);\"></td></tr></tbody></table>"
            ]
          },
          "metadata": {}
        }
      ]
    },
    {
      "cell_type": "markdown",
      "source": [
        "### Os condicionais `If`, `else`e `elif`"
      ],
      "metadata": {
        "id": "DjBYnG2w-EdA"
      }
    },
    {
      "cell_type": "code",
      "source": [
        "for block in grade.animate():\n",
        "  if block.row == 2:\n",
        "    block.rgb = colors.Black\n"
      ],
      "metadata": {
        "colab": {
          "base_uri": "https://localhost:8080/"
        },
        "id": "EGx_KJLS92MW",
        "outputId": "5a7d0263-b39b-4cd2-c9c5-7a8253345898"
      },
      "execution_count": null,
      "outputs": [
        {
          "output_type": "display_data",
          "data": {
            "text/plain": [
              "<IPython.core.display.HTML object>"
            ],
            "text/html": [
              "<style type=\"text/css\">table.blockgrid {border: none;} .blockgrid tr {border: none;} .blockgrid td {padding: 0px;} #blocks67c9fa54-5f4e-4631-8d46-f4ff4da53674 td {border: 1px solid white;}</style><table id=\"blocks67c9fa54-5f4e-4631-8d46-f4ff4da53674\" class=\"blockgrid\"><tbody><tr><td title=\"Index: [0, 0]&#10;Color: (0, 0, 255)\" style=\"width: 20px; height: 20px;background-color: rgb(0, 0, 255);\"></td><td title=\"Index: [0, 1]&#10;Color: (0, 0, 255)\" style=\"width: 20px; height: 20px;background-color: rgb(0, 0, 255);\"></td><td title=\"Index: [0, 2]&#10;Color: (0, 0, 255)\" style=\"width: 20px; height: 20px;background-color: rgb(0, 0, 255);\"></td><td title=\"Index: [0, 3]&#10;Color: (0, 0, 255)\" style=\"width: 20px; height: 20px;background-color: rgb(0, 0, 255);\"></td><td title=\"Index: [0, 4]&#10;Color: (0, 0, 255)\" style=\"width: 20px; height: 20px;background-color: rgb(0, 0, 255);\"></td></tr><tr><td title=\"Index: [1, 0]&#10;Color: (0, 0, 255)\" style=\"width: 20px; height: 20px;background-color: rgb(0, 0, 255);\"></td><td title=\"Index: [1, 1]&#10;Color: (0, 0, 255)\" style=\"width: 20px; height: 20px;background-color: rgb(0, 0, 255);\"></td><td title=\"Index: [1, 2]&#10;Color: (0, 0, 255)\" style=\"width: 20px; height: 20px;background-color: rgb(0, 0, 255);\"></td><td title=\"Index: [1, 3]&#10;Color: (0, 0, 255)\" style=\"width: 20px; height: 20px;background-color: rgb(0, 0, 255);\"></td><td title=\"Index: [1, 4]&#10;Color: (0, 0, 255)\" style=\"width: 20px; height: 20px;background-color: rgb(0, 0, 255);\"></td></tr><tr><td title=\"Index: [2, 0]&#10;Color: (0, 0, 0)\" style=\"width: 20px; height: 20px;background-color: rgb(0, 0, 0);\"></td><td title=\"Index: [2, 1]&#10;Color: (0, 0, 0)\" style=\"width: 20px; height: 20px;background-color: rgb(0, 0, 0);\"></td><td title=\"Index: [2, 2]&#10;Color: (0, 0, 0)\" style=\"width: 20px; height: 20px;background-color: rgb(0, 0, 0);\"></td><td title=\"Index: [2, 3]&#10;Color: (0, 0, 0)\" style=\"width: 20px; height: 20px;background-color: rgb(0, 0, 0);\"></td><td title=\"Index: [2, 4]&#10;Color: (0, 0, 0)\" style=\"width: 20px; height: 20px;background-color: rgb(0, 0, 0);\"></td></tr><tr><td title=\"Index: [3, 0]&#10;Color: (0, 0, 255)\" style=\"width: 20px; height: 20px;background-color: rgb(0, 0, 255);\"></td><td title=\"Index: [3, 1]&#10;Color: (0, 0, 255)\" style=\"width: 20px; height: 20px;background-color: rgb(0, 0, 255);\"></td><td title=\"Index: [3, 2]&#10;Color: (0, 0, 255)\" style=\"width: 20px; height: 20px;background-color: rgb(0, 0, 255);\"></td><td title=\"Index: [3, 3]&#10;Color: (0, 0, 255)\" style=\"width: 20px; height: 20px;background-color: rgb(0, 0, 255);\"></td><td title=\"Index: [3, 4]&#10;Color: (0, 0, 255)\" style=\"width: 20px; height: 20px;background-color: rgb(0, 0, 255);\"></td></tr><tr><td title=\"Index: [4, 0]&#10;Color: (0, 0, 255)\" style=\"width: 20px; height: 20px;background-color: rgb(0, 0, 255);\"></td><td title=\"Index: [4, 1]&#10;Color: (0, 0, 255)\" style=\"width: 20px; height: 20px;background-color: rgb(0, 0, 255);\"></td><td title=\"Index: [4, 2]&#10;Color: (0, 0, 255)\" style=\"width: 20px; height: 20px;background-color: rgb(0, 0, 255);\"></td><td title=\"Index: [4, 3]&#10;Color: (0, 0, 255)\" style=\"width: 20px; height: 20px;background-color: rgb(0, 0, 255);\"></td><td title=\"Index: [4, 4]&#10;Color: (0, 0, 255)\" style=\"width: 20px; height: 20px;background-color: rgb(0, 0, 255);\"></td></tr></tbody></table>"
            ]
          },
          "metadata": {}
        }
      ]
    },
    {
      "cell_type": "code",
      "source": [
        "for block in grade.animate():\n",
        "  if block.row == 0 or block.row == 1:\n",
        "    block.rgb = colors.Black"
      ],
      "metadata": {
        "colab": {
          "base_uri": "https://localhost:8080/"
        },
        "id": "vD2CKMIVAGt-",
        "outputId": "daaf6b97-9165-47ae-bcb9-47dc81c722ac"
      },
      "execution_count": null,
      "outputs": [
        {
          "output_type": "display_data",
          "data": {
            "text/plain": [
              "<IPython.core.display.HTML object>"
            ],
            "text/html": [
              "<style type=\"text/css\">table.blockgrid {border: none;} .blockgrid tr {border: none;} .blockgrid td {padding: 0px;} #blocks3f42ca06-1b1c-4567-9c9c-6d2cb85136b7 td {border: 1px solid white;}</style><table id=\"blocks3f42ca06-1b1c-4567-9c9c-6d2cb85136b7\" class=\"blockgrid\"><tbody><tr><td title=\"Index: [0, 0]&#10;Color: (0, 0, 0)\" style=\"width: 20px; height: 20px;background-color: rgb(0, 0, 0);\"></td><td title=\"Index: [0, 1]&#10;Color: (0, 0, 0)\" style=\"width: 20px; height: 20px;background-color: rgb(0, 0, 0);\"></td><td title=\"Index: [0, 2]&#10;Color: (0, 0, 0)\" style=\"width: 20px; height: 20px;background-color: rgb(0, 0, 0);\"></td><td title=\"Index: [0, 3]&#10;Color: (0, 0, 0)\" style=\"width: 20px; height: 20px;background-color: rgb(0, 0, 0);\"></td><td title=\"Index: [0, 4]&#10;Color: (0, 0, 0)\" style=\"width: 20px; height: 20px;background-color: rgb(0, 0, 0);\"></td></tr><tr><td title=\"Index: [1, 0]&#10;Color: (0, 0, 0)\" style=\"width: 20px; height: 20px;background-color: rgb(0, 0, 0);\"></td><td title=\"Index: [1, 1]&#10;Color: (0, 0, 0)\" style=\"width: 20px; height: 20px;background-color: rgb(0, 0, 0);\"></td><td title=\"Index: [1, 2]&#10;Color: (0, 0, 0)\" style=\"width: 20px; height: 20px;background-color: rgb(0, 0, 0);\"></td><td title=\"Index: [1, 3]&#10;Color: (0, 0, 0)\" style=\"width: 20px; height: 20px;background-color: rgb(0, 0, 0);\"></td><td title=\"Index: [1, 4]&#10;Color: (0, 0, 0)\" style=\"width: 20px; height: 20px;background-color: rgb(0, 0, 0);\"></td></tr><tr><td title=\"Index: [2, 0]&#10;Color: (0, 0, 0)\" style=\"width: 20px; height: 20px;background-color: rgb(0, 0, 0);\"></td><td title=\"Index: [2, 1]&#10;Color: (0, 0, 0)\" style=\"width: 20px; height: 20px;background-color: rgb(0, 0, 0);\"></td><td title=\"Index: [2, 2]&#10;Color: (0, 0, 0)\" style=\"width: 20px; height: 20px;background-color: rgb(0, 0, 0);\"></td><td title=\"Index: [2, 3]&#10;Color: (0, 0, 0)\" style=\"width: 20px; height: 20px;background-color: rgb(0, 0, 0);\"></td><td title=\"Index: [2, 4]&#10;Color: (0, 0, 0)\" style=\"width: 20px; height: 20px;background-color: rgb(0, 0, 0);\"></td></tr><tr><td title=\"Index: [3, 0]&#10;Color: (0, 0, 255)\" style=\"width: 20px; height: 20px;background-color: rgb(0, 0, 255);\"></td><td title=\"Index: [3, 1]&#10;Color: (0, 0, 255)\" style=\"width: 20px; height: 20px;background-color: rgb(0, 0, 255);\"></td><td title=\"Index: [3, 2]&#10;Color: (0, 0, 255)\" style=\"width: 20px; height: 20px;background-color: rgb(0, 0, 255);\"></td><td title=\"Index: [3, 3]&#10;Color: (0, 0, 255)\" style=\"width: 20px; height: 20px;background-color: rgb(0, 0, 255);\"></td><td title=\"Index: [3, 4]&#10;Color: (0, 0, 255)\" style=\"width: 20px; height: 20px;background-color: rgb(0, 0, 255);\"></td></tr><tr><td title=\"Index: [4, 0]&#10;Color: (0, 0, 255)\" style=\"width: 20px; height: 20px;background-color: rgb(0, 0, 255);\"></td><td title=\"Index: [4, 1]&#10;Color: (0, 0, 255)\" style=\"width: 20px; height: 20px;background-color: rgb(0, 0, 255);\"></td><td title=\"Index: [4, 2]&#10;Color: (0, 0, 255)\" style=\"width: 20px; height: 20px;background-color: rgb(0, 0, 255);\"></td><td title=\"Index: [4, 3]&#10;Color: (0, 0, 255)\" style=\"width: 20px; height: 20px;background-color: rgb(0, 0, 255);\"></td><td title=\"Index: [4, 4]&#10;Color: (0, 0, 255)\" style=\"width: 20px; height: 20px;background-color: rgb(0, 0, 255);\"></td></tr></tbody></table>"
            ]
          },
          "metadata": {}
        }
      ]
    },
    {
      "cell_type": "code",
      "source": [
        "for block in grade.animate():\n",
        "  if block.row == 3 and block.rgb == colors.Blue:\n",
        "    block.rgb = colors.Green"
      ],
      "metadata": {
        "colab": {
          "base_uri": "https://localhost:8080/"
        },
        "id": "jheNL48rBysZ",
        "outputId": "879d8b81-ef2b-4b9e-ad8a-c4c0da685565"
      },
      "execution_count": null,
      "outputs": [
        {
          "output_type": "display_data",
          "data": {
            "text/plain": [
              "<IPython.core.display.HTML object>"
            ],
            "text/html": [
              "<style type=\"text/css\">table.blockgrid {border: none;} .blockgrid tr {border: none;} .blockgrid td {padding: 0px;} #blocks5c3ed101-d2a4-4ad2-8eec-43a38dd1501e td {border: 1px solid white;}</style><table id=\"blocks5c3ed101-d2a4-4ad2-8eec-43a38dd1501e\" class=\"blockgrid\"><tbody><tr><td title=\"Index: [0, 0]&#10;Color: (0, 0, 0)\" style=\"width: 20px; height: 20px;background-color: rgb(0, 0, 0);\"></td><td title=\"Index: [0, 1]&#10;Color: (0, 0, 0)\" style=\"width: 20px; height: 20px;background-color: rgb(0, 0, 0);\"></td><td title=\"Index: [0, 2]&#10;Color: (0, 0, 0)\" style=\"width: 20px; height: 20px;background-color: rgb(0, 0, 0);\"></td><td title=\"Index: [0, 3]&#10;Color: (0, 0, 0)\" style=\"width: 20px; height: 20px;background-color: rgb(0, 0, 0);\"></td><td title=\"Index: [0, 4]&#10;Color: (0, 0, 0)\" style=\"width: 20px; height: 20px;background-color: rgb(0, 0, 0);\"></td></tr><tr><td title=\"Index: [1, 0]&#10;Color: (0, 0, 0)\" style=\"width: 20px; height: 20px;background-color: rgb(0, 0, 0);\"></td><td title=\"Index: [1, 1]&#10;Color: (0, 0, 0)\" style=\"width: 20px; height: 20px;background-color: rgb(0, 0, 0);\"></td><td title=\"Index: [1, 2]&#10;Color: (0, 0, 0)\" style=\"width: 20px; height: 20px;background-color: rgb(0, 0, 0);\"></td><td title=\"Index: [1, 3]&#10;Color: (0, 0, 0)\" style=\"width: 20px; height: 20px;background-color: rgb(0, 0, 0);\"></td><td title=\"Index: [1, 4]&#10;Color: (0, 0, 0)\" style=\"width: 20px; height: 20px;background-color: rgb(0, 0, 0);\"></td></tr><tr><td title=\"Index: [2, 0]&#10;Color: (0, 0, 0)\" style=\"width: 20px; height: 20px;background-color: rgb(0, 0, 0);\"></td><td title=\"Index: [2, 1]&#10;Color: (0, 0, 0)\" style=\"width: 20px; height: 20px;background-color: rgb(0, 0, 0);\"></td><td title=\"Index: [2, 2]&#10;Color: (0, 0, 0)\" style=\"width: 20px; height: 20px;background-color: rgb(0, 0, 0);\"></td><td title=\"Index: [2, 3]&#10;Color: (0, 0, 0)\" style=\"width: 20px; height: 20px;background-color: rgb(0, 0, 0);\"></td><td title=\"Index: [2, 4]&#10;Color: (0, 0, 0)\" style=\"width: 20px; height: 20px;background-color: rgb(0, 0, 0);\"></td></tr><tr><td title=\"Index: [3, 0]&#10;Color: (0, 128, 0)\" style=\"width: 20px; height: 20px;background-color: rgb(0, 128, 0);\"></td><td title=\"Index: [3, 1]&#10;Color: (0, 128, 0)\" style=\"width: 20px; height: 20px;background-color: rgb(0, 128, 0);\"></td><td title=\"Index: [3, 2]&#10;Color: (0, 128, 0)\" style=\"width: 20px; height: 20px;background-color: rgb(0, 128, 0);\"></td><td title=\"Index: [3, 3]&#10;Color: (0, 128, 0)\" style=\"width: 20px; height: 20px;background-color: rgb(0, 128, 0);\"></td><td title=\"Index: [3, 4]&#10;Color: (0, 128, 0)\" style=\"width: 20px; height: 20px;background-color: rgb(0, 128, 0);\"></td></tr><tr><td title=\"Index: [4, 0]&#10;Color: (0, 0, 255)\" style=\"width: 20px; height: 20px;background-color: rgb(0, 0, 255);\"></td><td title=\"Index: [4, 1]&#10;Color: (0, 0, 255)\" style=\"width: 20px; height: 20px;background-color: rgb(0, 0, 255);\"></td><td title=\"Index: [4, 2]&#10;Color: (0, 0, 255)\" style=\"width: 20px; height: 20px;background-color: rgb(0, 0, 255);\"></td><td title=\"Index: [4, 3]&#10;Color: (0, 0, 255)\" style=\"width: 20px; height: 20px;background-color: rgb(0, 0, 255);\"></td><td title=\"Index: [4, 4]&#10;Color: (0, 0, 255)\" style=\"width: 20px; height: 20px;background-color: rgb(0, 0, 255);\"></td></tr></tbody></table>"
            ]
          },
          "metadata": {}
        }
      ]
    },
    {
      "cell_type": "code",
      "source": [
        "for block in grade.animate():\n",
        "  if block.row == 0:\n",
        "    block.rgb = colors.Black\n",
        "  elif block.row == 2:\n",
        "    block.rgb = colors.Wheat\n",
        "  else:\n",
        "    block.rgb = colors.Blue\n"
      ],
      "metadata": {
        "colab": {
          "base_uri": "https://localhost:8080/"
        },
        "id": "bnD0f9_KA2-U",
        "outputId": "6f25a660-46c4-4337-f278-5d9ff1f032e3"
      },
      "execution_count": null,
      "outputs": [
        {
          "output_type": "display_data",
          "data": {
            "text/plain": [
              "<IPython.core.display.HTML object>"
            ],
            "text/html": [
              "<style type=\"text/css\">table.blockgrid {border: none;} .blockgrid tr {border: none;} .blockgrid td {padding: 0px;} #blocksb3a6cc53-b4d7-4bb9-8116-966433e3d740 td {border: 1px solid white;}</style><table id=\"blocksb3a6cc53-b4d7-4bb9-8116-966433e3d740\" class=\"blockgrid\"><tbody><tr><td title=\"Index: [0, 0]&#10;Color: (0, 0, 0)\" style=\"width: 20px; height: 20px;background-color: rgb(0, 0, 0);\"></td><td title=\"Index: [0, 1]&#10;Color: (0, 0, 0)\" style=\"width: 20px; height: 20px;background-color: rgb(0, 0, 0);\"></td><td title=\"Index: [0, 2]&#10;Color: (0, 0, 0)\" style=\"width: 20px; height: 20px;background-color: rgb(0, 0, 0);\"></td><td title=\"Index: [0, 3]&#10;Color: (0, 0, 0)\" style=\"width: 20px; height: 20px;background-color: rgb(0, 0, 0);\"></td><td title=\"Index: [0, 4]&#10;Color: (0, 0, 0)\" style=\"width: 20px; height: 20px;background-color: rgb(0, 0, 0);\"></td></tr><tr><td title=\"Index: [1, 0]&#10;Color: (0, 0, 255)\" style=\"width: 20px; height: 20px;background-color: rgb(0, 0, 255);\"></td><td title=\"Index: [1, 1]&#10;Color: (0, 0, 255)\" style=\"width: 20px; height: 20px;background-color: rgb(0, 0, 255);\"></td><td title=\"Index: [1, 2]&#10;Color: (0, 0, 255)\" style=\"width: 20px; height: 20px;background-color: rgb(0, 0, 255);\"></td><td title=\"Index: [1, 3]&#10;Color: (0, 0, 255)\" style=\"width: 20px; height: 20px;background-color: rgb(0, 0, 255);\"></td><td title=\"Index: [1, 4]&#10;Color: (0, 0, 255)\" style=\"width: 20px; height: 20px;background-color: rgb(0, 0, 255);\"></td></tr><tr><td title=\"Index: [2, 0]&#10;Color: (245, 222, 179)\" style=\"width: 20px; height: 20px;background-color: rgb(245, 222, 179);\"></td><td title=\"Index: [2, 1]&#10;Color: (245, 222, 179)\" style=\"width: 20px; height: 20px;background-color: rgb(245, 222, 179);\"></td><td title=\"Index: [2, 2]&#10;Color: (245, 222, 179)\" style=\"width: 20px; height: 20px;background-color: rgb(245, 222, 179);\"></td><td title=\"Index: [2, 3]&#10;Color: (245, 222, 179)\" style=\"width: 20px; height: 20px;background-color: rgb(245, 222, 179);\"></td><td title=\"Index: [2, 4]&#10;Color: (245, 222, 179)\" style=\"width: 20px; height: 20px;background-color: rgb(245, 222, 179);\"></td></tr><tr><td title=\"Index: [3, 0]&#10;Color: (0, 0, 255)\" style=\"width: 20px; height: 20px;background-color: rgb(0, 0, 255);\"></td><td title=\"Index: [3, 1]&#10;Color: (0, 0, 255)\" style=\"width: 20px; height: 20px;background-color: rgb(0, 0, 255);\"></td><td title=\"Index: [3, 2]&#10;Color: (0, 0, 255)\" style=\"width: 20px; height: 20px;background-color: rgb(0, 0, 255);\"></td><td title=\"Index: [3, 3]&#10;Color: (0, 0, 255)\" style=\"width: 20px; height: 20px;background-color: rgb(0, 0, 255);\"></td><td title=\"Index: [3, 4]&#10;Color: (0, 0, 255)\" style=\"width: 20px; height: 20px;background-color: rgb(0, 0, 255);\"></td></tr><tr><td title=\"Index: [4, 0]&#10;Color: (0, 0, 255)\" style=\"width: 20px; height: 20px;background-color: rgb(0, 0, 255);\"></td><td title=\"Index: [4, 1]&#10;Color: (0, 0, 255)\" style=\"width: 20px; height: 20px;background-color: rgb(0, 0, 255);\"></td><td title=\"Index: [4, 2]&#10;Color: (0, 0, 255)\" style=\"width: 20px; height: 20px;background-color: rgb(0, 0, 255);\"></td><td title=\"Index: [4, 3]&#10;Color: (0, 0, 255)\" style=\"width: 20px; height: 20px;background-color: rgb(0, 0, 255);\"></td><td title=\"Index: [4, 4]&#10;Color: (0, 0, 255)\" style=\"width: 20px; height: 20px;background-color: rgb(0, 0, 255);\"></td></tr></tbody></table>"
            ]
          },
          "metadata": {}
        }
      ]
    },
    {
      "cell_type": "markdown",
      "source": [
        "### Indexação (subconjuntos)"
      ],
      "metadata": {
        "id": "dQs6wLB8J37b"
      }
    },
    {
      "cell_type": "code",
      "source": [
        "grade[:,:] = colors.Blue\n",
        "grade"
      ],
      "metadata": {
        "colab": {
          "base_uri": "https://localhost:8080/"
        },
        "id": "mVB2aKH8Kmkm",
        "outputId": "d5323788-0c6b-43a3-e6b0-5579ac6c841a"
      },
      "execution_count": null,
      "outputs": [
        {
          "output_type": "execute_result",
          "data": {
            "text/plain": [
              "<ipythonblocks.ipythonblocks.BlockGrid at 0x7f3acc968ad0>"
            ],
            "text/html": [
              "<style type=\"text/css\">table.blockgrid {border: none;} .blockgrid tr {border: none;} .blockgrid td {padding: 0px;} #blocks12f1ec80-e7b5-4ea4-b95a-d9109d49183b td {border: 1px solid white;}</style><table id=\"blocks12f1ec80-e7b5-4ea4-b95a-d9109d49183b\" class=\"blockgrid\"><tbody><tr><td title=\"Index: [0, 0]&#10;Color: (0, 0, 255)\" style=\"width: 20px; height: 20px;background-color: rgb(0, 0, 255);\"></td><td title=\"Index: [0, 1]&#10;Color: (0, 0, 255)\" style=\"width: 20px; height: 20px;background-color: rgb(0, 0, 255);\"></td><td title=\"Index: [0, 2]&#10;Color: (0, 0, 255)\" style=\"width: 20px; height: 20px;background-color: rgb(0, 0, 255);\"></td><td title=\"Index: [0, 3]&#10;Color: (0, 0, 255)\" style=\"width: 20px; height: 20px;background-color: rgb(0, 0, 255);\"></td><td title=\"Index: [0, 4]&#10;Color: (0, 0, 255)\" style=\"width: 20px; height: 20px;background-color: rgb(0, 0, 255);\"></td></tr><tr><td title=\"Index: [1, 0]&#10;Color: (0, 0, 255)\" style=\"width: 20px; height: 20px;background-color: rgb(0, 0, 255);\"></td><td title=\"Index: [1, 1]&#10;Color: (0, 0, 255)\" style=\"width: 20px; height: 20px;background-color: rgb(0, 0, 255);\"></td><td title=\"Index: [1, 2]&#10;Color: (0, 0, 255)\" style=\"width: 20px; height: 20px;background-color: rgb(0, 0, 255);\"></td><td title=\"Index: [1, 3]&#10;Color: (0, 0, 255)\" style=\"width: 20px; height: 20px;background-color: rgb(0, 0, 255);\"></td><td title=\"Index: [1, 4]&#10;Color: (0, 0, 255)\" style=\"width: 20px; height: 20px;background-color: rgb(0, 0, 255);\"></td></tr><tr><td title=\"Index: [2, 0]&#10;Color: (0, 0, 255)\" style=\"width: 20px; height: 20px;background-color: rgb(0, 0, 255);\"></td><td title=\"Index: [2, 1]&#10;Color: (0, 0, 255)\" style=\"width: 20px; height: 20px;background-color: rgb(0, 0, 255);\"></td><td title=\"Index: [2, 2]&#10;Color: (0, 0, 255)\" style=\"width: 20px; height: 20px;background-color: rgb(0, 0, 255);\"></td><td title=\"Index: [2, 3]&#10;Color: (0, 0, 255)\" style=\"width: 20px; height: 20px;background-color: rgb(0, 0, 255);\"></td><td title=\"Index: [2, 4]&#10;Color: (0, 0, 255)\" style=\"width: 20px; height: 20px;background-color: rgb(0, 0, 255);\"></td></tr><tr><td title=\"Index: [3, 0]&#10;Color: (0, 0, 255)\" style=\"width: 20px; height: 20px;background-color: rgb(0, 0, 255);\"></td><td title=\"Index: [3, 1]&#10;Color: (0, 0, 255)\" style=\"width: 20px; height: 20px;background-color: rgb(0, 0, 255);\"></td><td title=\"Index: [3, 2]&#10;Color: (0, 0, 255)\" style=\"width: 20px; height: 20px;background-color: rgb(0, 0, 255);\"></td><td title=\"Index: [3, 3]&#10;Color: (0, 0, 255)\" style=\"width: 20px; height: 20px;background-color: rgb(0, 0, 255);\"></td><td title=\"Index: [3, 4]&#10;Color: (0, 0, 255)\" style=\"width: 20px; height: 20px;background-color: rgb(0, 0, 255);\"></td></tr><tr><td title=\"Index: [4, 0]&#10;Color: (0, 0, 255)\" style=\"width: 20px; height: 20px;background-color: rgb(0, 0, 255);\"></td><td title=\"Index: [4, 1]&#10;Color: (0, 0, 255)\" style=\"width: 20px; height: 20px;background-color: rgb(0, 0, 255);\"></td><td title=\"Index: [4, 2]&#10;Color: (0, 0, 255)\" style=\"width: 20px; height: 20px;background-color: rgb(0, 0, 255);\"></td><td title=\"Index: [4, 3]&#10;Color: (0, 0, 255)\" style=\"width: 20px; height: 20px;background-color: rgb(0, 0, 255);\"></td><td title=\"Index: [4, 4]&#10;Color: (0, 0, 255)\" style=\"width: 20px; height: 20px;background-color: rgb(0, 0, 255);\"></td></tr></tbody></table>"
            ]
          },
          "metadata": {},
          "execution_count": 46
        }
      ]
    },
    {
      "cell_type": "code",
      "source": [
        "grade[2,:] = colors.Black\n",
        "grade"
      ],
      "metadata": {
        "colab": {
          "base_uri": "https://localhost:8080/"
        },
        "id": "U7mf81tDIACE",
        "outputId": "c89e0b78-f8c6-4a10-f65d-055c0980b414"
      },
      "execution_count": null,
      "outputs": [
        {
          "output_type": "execute_result",
          "data": {
            "text/plain": [
              "<ipythonblocks.ipythonblocks.BlockGrid at 0x7f3acc968ad0>"
            ],
            "text/html": [
              "<style type=\"text/css\">table.blockgrid {border: none;} .blockgrid tr {border: none;} .blockgrid td {padding: 0px;} #blocks7e4a43c9-c199-493d-987b-e6979b8de35e td {border: 1px solid white;}</style><table id=\"blocks7e4a43c9-c199-493d-987b-e6979b8de35e\" class=\"blockgrid\"><tbody><tr><td title=\"Index: [0, 0]&#10;Color: (0, 0, 255)\" style=\"width: 20px; height: 20px;background-color: rgb(0, 0, 255);\"></td><td title=\"Index: [0, 1]&#10;Color: (0, 0, 255)\" style=\"width: 20px; height: 20px;background-color: rgb(0, 0, 255);\"></td><td title=\"Index: [0, 2]&#10;Color: (0, 0, 255)\" style=\"width: 20px; height: 20px;background-color: rgb(0, 0, 255);\"></td><td title=\"Index: [0, 3]&#10;Color: (0, 0, 255)\" style=\"width: 20px; height: 20px;background-color: rgb(0, 0, 255);\"></td><td title=\"Index: [0, 4]&#10;Color: (0, 0, 255)\" style=\"width: 20px; height: 20px;background-color: rgb(0, 0, 255);\"></td></tr><tr><td title=\"Index: [1, 0]&#10;Color: (0, 0, 255)\" style=\"width: 20px; height: 20px;background-color: rgb(0, 0, 255);\"></td><td title=\"Index: [1, 1]&#10;Color: (0, 0, 255)\" style=\"width: 20px; height: 20px;background-color: rgb(0, 0, 255);\"></td><td title=\"Index: [1, 2]&#10;Color: (0, 0, 255)\" style=\"width: 20px; height: 20px;background-color: rgb(0, 0, 255);\"></td><td title=\"Index: [1, 3]&#10;Color: (0, 0, 255)\" style=\"width: 20px; height: 20px;background-color: rgb(0, 0, 255);\"></td><td title=\"Index: [1, 4]&#10;Color: (0, 0, 255)\" style=\"width: 20px; height: 20px;background-color: rgb(0, 0, 255);\"></td></tr><tr><td title=\"Index: [2, 0]&#10;Color: (0, 0, 0)\" style=\"width: 20px; height: 20px;background-color: rgb(0, 0, 0);\"></td><td title=\"Index: [2, 1]&#10;Color: (0, 0, 0)\" style=\"width: 20px; height: 20px;background-color: rgb(0, 0, 0);\"></td><td title=\"Index: [2, 2]&#10;Color: (0, 0, 0)\" style=\"width: 20px; height: 20px;background-color: rgb(0, 0, 0);\"></td><td title=\"Index: [2, 3]&#10;Color: (0, 0, 0)\" style=\"width: 20px; height: 20px;background-color: rgb(0, 0, 0);\"></td><td title=\"Index: [2, 4]&#10;Color: (0, 0, 0)\" style=\"width: 20px; height: 20px;background-color: rgb(0, 0, 0);\"></td></tr><tr><td title=\"Index: [3, 0]&#10;Color: (0, 0, 255)\" style=\"width: 20px; height: 20px;background-color: rgb(0, 0, 255);\"></td><td title=\"Index: [3, 1]&#10;Color: (0, 0, 255)\" style=\"width: 20px; height: 20px;background-color: rgb(0, 0, 255);\"></td><td title=\"Index: [3, 2]&#10;Color: (0, 0, 255)\" style=\"width: 20px; height: 20px;background-color: rgb(0, 0, 255);\"></td><td title=\"Index: [3, 3]&#10;Color: (0, 0, 255)\" style=\"width: 20px; height: 20px;background-color: rgb(0, 0, 255);\"></td><td title=\"Index: [3, 4]&#10;Color: (0, 0, 255)\" style=\"width: 20px; height: 20px;background-color: rgb(0, 0, 255);\"></td></tr><tr><td title=\"Index: [4, 0]&#10;Color: (0, 0, 255)\" style=\"width: 20px; height: 20px;background-color: rgb(0, 0, 255);\"></td><td title=\"Index: [4, 1]&#10;Color: (0, 0, 255)\" style=\"width: 20px; height: 20px;background-color: rgb(0, 0, 255);\"></td><td title=\"Index: [4, 2]&#10;Color: (0, 0, 255)\" style=\"width: 20px; height: 20px;background-color: rgb(0, 0, 255);\"></td><td title=\"Index: [4, 3]&#10;Color: (0, 0, 255)\" style=\"width: 20px; height: 20px;background-color: rgb(0, 0, 255);\"></td><td title=\"Index: [4, 4]&#10;Color: (0, 0, 255)\" style=\"width: 20px; height: 20px;background-color: rgb(0, 0, 255);\"></td></tr></tbody></table>"
            ]
          },
          "metadata": {},
          "execution_count": 47
        }
      ]
    },
    {
      "cell_type": "code",
      "source": [
        "grade[0:3,:] = colors.Black\n",
        "grade"
      ],
      "metadata": {
        "colab": {
          "base_uri": "https://localhost:8080/"
        },
        "id": "w8JKOw2gLM7j",
        "outputId": "451b9d6e-3fd3-4c1d-8916-a5629c9c9c2b"
      },
      "execution_count": null,
      "outputs": [
        {
          "output_type": "execute_result",
          "data": {
            "text/plain": [
              "<ipythonblocks.ipythonblocks.BlockGrid at 0x7f3acc968ad0>"
            ],
            "text/html": [
              "<style type=\"text/css\">table.blockgrid {border: none;} .blockgrid tr {border: none;} .blockgrid td {padding: 0px;} #blocks72910312-8904-448a-83b3-ea85a7aaaff9 td {border: 1px solid white;}</style><table id=\"blocks72910312-8904-448a-83b3-ea85a7aaaff9\" class=\"blockgrid\"><tbody><tr><td title=\"Index: [0, 0]&#10;Color: (0, 0, 0)\" style=\"width: 20px; height: 20px;background-color: rgb(0, 0, 0);\"></td><td title=\"Index: [0, 1]&#10;Color: (0, 0, 0)\" style=\"width: 20px; height: 20px;background-color: rgb(0, 0, 0);\"></td><td title=\"Index: [0, 2]&#10;Color: (0, 0, 0)\" style=\"width: 20px; height: 20px;background-color: rgb(0, 0, 0);\"></td><td title=\"Index: [0, 3]&#10;Color: (0, 0, 0)\" style=\"width: 20px; height: 20px;background-color: rgb(0, 0, 0);\"></td><td title=\"Index: [0, 4]&#10;Color: (0, 0, 0)\" style=\"width: 20px; height: 20px;background-color: rgb(0, 0, 0);\"></td></tr><tr><td title=\"Index: [1, 0]&#10;Color: (0, 0, 0)\" style=\"width: 20px; height: 20px;background-color: rgb(0, 0, 0);\"></td><td title=\"Index: [1, 1]&#10;Color: (0, 0, 0)\" style=\"width: 20px; height: 20px;background-color: rgb(0, 0, 0);\"></td><td title=\"Index: [1, 2]&#10;Color: (0, 0, 0)\" style=\"width: 20px; height: 20px;background-color: rgb(0, 0, 0);\"></td><td title=\"Index: [1, 3]&#10;Color: (0, 0, 0)\" style=\"width: 20px; height: 20px;background-color: rgb(0, 0, 0);\"></td><td title=\"Index: [1, 4]&#10;Color: (0, 0, 0)\" style=\"width: 20px; height: 20px;background-color: rgb(0, 0, 0);\"></td></tr><tr><td title=\"Index: [2, 0]&#10;Color: (0, 0, 0)\" style=\"width: 20px; height: 20px;background-color: rgb(0, 0, 0);\"></td><td title=\"Index: [2, 1]&#10;Color: (0, 0, 0)\" style=\"width: 20px; height: 20px;background-color: rgb(0, 0, 0);\"></td><td title=\"Index: [2, 2]&#10;Color: (0, 0, 0)\" style=\"width: 20px; height: 20px;background-color: rgb(0, 0, 0);\"></td><td title=\"Index: [2, 3]&#10;Color: (0, 0, 0)\" style=\"width: 20px; height: 20px;background-color: rgb(0, 0, 0);\"></td><td title=\"Index: [2, 4]&#10;Color: (0, 0, 0)\" style=\"width: 20px; height: 20px;background-color: rgb(0, 0, 0);\"></td></tr><tr><td title=\"Index: [3, 0]&#10;Color: (0, 0, 255)\" style=\"width: 20px; height: 20px;background-color: rgb(0, 0, 255);\"></td><td title=\"Index: [3, 1]&#10;Color: (0, 0, 255)\" style=\"width: 20px; height: 20px;background-color: rgb(0, 0, 255);\"></td><td title=\"Index: [3, 2]&#10;Color: (0, 0, 255)\" style=\"width: 20px; height: 20px;background-color: rgb(0, 0, 255);\"></td><td title=\"Index: [3, 3]&#10;Color: (0, 0, 255)\" style=\"width: 20px; height: 20px;background-color: rgb(0, 0, 255);\"></td><td title=\"Index: [3, 4]&#10;Color: (0, 0, 255)\" style=\"width: 20px; height: 20px;background-color: rgb(0, 0, 255);\"></td></tr><tr><td title=\"Index: [4, 0]&#10;Color: (0, 0, 255)\" style=\"width: 20px; height: 20px;background-color: rgb(0, 0, 255);\"></td><td title=\"Index: [4, 1]&#10;Color: (0, 0, 255)\" style=\"width: 20px; height: 20px;background-color: rgb(0, 0, 255);\"></td><td title=\"Index: [4, 2]&#10;Color: (0, 0, 255)\" style=\"width: 20px; height: 20px;background-color: rgb(0, 0, 255);\"></td><td title=\"Index: [4, 3]&#10;Color: (0, 0, 255)\" style=\"width: 20px; height: 20px;background-color: rgb(0, 0, 255);\"></td><td title=\"Index: [4, 4]&#10;Color: (0, 0, 255)\" style=\"width: 20px; height: 20px;background-color: rgb(0, 0, 255);\"></td></tr></tbody></table>"
            ]
          },
          "metadata": {},
          "execution_count": 48
        }
      ]
    },
    {
      "cell_type": "code",
      "source": [
        "grade[0:2,2:4] = colors.Red\n",
        "grade"
      ],
      "metadata": {
        "colab": {
          "base_uri": "https://localhost:8080/"
        },
        "id": "QqUWhGnFLM5K",
        "outputId": "40804a75-542b-4162-8e93-eec62e518911"
      },
      "execution_count": null,
      "outputs": [
        {
          "output_type": "execute_result",
          "data": {
            "text/plain": [
              "<ipythonblocks.ipythonblocks.BlockGrid at 0x7f3acc968ad0>"
            ],
            "text/html": [
              "<style type=\"text/css\">table.blockgrid {border: none;} .blockgrid tr {border: none;} .blockgrid td {padding: 0px;} #blocks794b1e32-ec77-4c14-822f-4cececd1c8d9 td {border: 1px solid white;}</style><table id=\"blocks794b1e32-ec77-4c14-822f-4cececd1c8d9\" class=\"blockgrid\"><tbody><tr><td title=\"Index: [0, 0]&#10;Color: (0, 0, 0)\" style=\"width: 20px; height: 20px;background-color: rgb(0, 0, 0);\"></td><td title=\"Index: [0, 1]&#10;Color: (0, 0, 0)\" style=\"width: 20px; height: 20px;background-color: rgb(0, 0, 0);\"></td><td title=\"Index: [0, 2]&#10;Color: (255, 0, 0)\" style=\"width: 20px; height: 20px;background-color: rgb(255, 0, 0);\"></td><td title=\"Index: [0, 3]&#10;Color: (255, 0, 0)\" style=\"width: 20px; height: 20px;background-color: rgb(255, 0, 0);\"></td><td title=\"Index: [0, 4]&#10;Color: (0, 0, 0)\" style=\"width: 20px; height: 20px;background-color: rgb(0, 0, 0);\"></td></tr><tr><td title=\"Index: [1, 0]&#10;Color: (0, 0, 0)\" style=\"width: 20px; height: 20px;background-color: rgb(0, 0, 0);\"></td><td title=\"Index: [1, 1]&#10;Color: (0, 0, 0)\" style=\"width: 20px; height: 20px;background-color: rgb(0, 0, 0);\"></td><td title=\"Index: [1, 2]&#10;Color: (255, 0, 0)\" style=\"width: 20px; height: 20px;background-color: rgb(255, 0, 0);\"></td><td title=\"Index: [1, 3]&#10;Color: (255, 0, 0)\" style=\"width: 20px; height: 20px;background-color: rgb(255, 0, 0);\"></td><td title=\"Index: [1, 4]&#10;Color: (0, 0, 0)\" style=\"width: 20px; height: 20px;background-color: rgb(0, 0, 0);\"></td></tr><tr><td title=\"Index: [2, 0]&#10;Color: (0, 0, 0)\" style=\"width: 20px; height: 20px;background-color: rgb(0, 0, 0);\"></td><td title=\"Index: [2, 1]&#10;Color: (0, 0, 0)\" style=\"width: 20px; height: 20px;background-color: rgb(0, 0, 0);\"></td><td title=\"Index: [2, 2]&#10;Color: (0, 0, 0)\" style=\"width: 20px; height: 20px;background-color: rgb(0, 0, 0);\"></td><td title=\"Index: [2, 3]&#10;Color: (0, 0, 0)\" style=\"width: 20px; height: 20px;background-color: rgb(0, 0, 0);\"></td><td title=\"Index: [2, 4]&#10;Color: (0, 0, 0)\" style=\"width: 20px; height: 20px;background-color: rgb(0, 0, 0);\"></td></tr><tr><td title=\"Index: [3, 0]&#10;Color: (0, 0, 255)\" style=\"width: 20px; height: 20px;background-color: rgb(0, 0, 255);\"></td><td title=\"Index: [3, 1]&#10;Color: (0, 0, 255)\" style=\"width: 20px; height: 20px;background-color: rgb(0, 0, 255);\"></td><td title=\"Index: [3, 2]&#10;Color: (0, 0, 255)\" style=\"width: 20px; height: 20px;background-color: rgb(0, 0, 255);\"></td><td title=\"Index: [3, 3]&#10;Color: (0, 0, 255)\" style=\"width: 20px; height: 20px;background-color: rgb(0, 0, 255);\"></td><td title=\"Index: [3, 4]&#10;Color: (0, 0, 255)\" style=\"width: 20px; height: 20px;background-color: rgb(0, 0, 255);\"></td></tr><tr><td title=\"Index: [4, 0]&#10;Color: (0, 0, 255)\" style=\"width: 20px; height: 20px;background-color: rgb(0, 0, 255);\"></td><td title=\"Index: [4, 1]&#10;Color: (0, 0, 255)\" style=\"width: 20px; height: 20px;background-color: rgb(0, 0, 255);\"></td><td title=\"Index: [4, 2]&#10;Color: (0, 0, 255)\" style=\"width: 20px; height: 20px;background-color: rgb(0, 0, 255);\"></td><td title=\"Index: [4, 3]&#10;Color: (0, 0, 255)\" style=\"width: 20px; height: 20px;background-color: rgb(0, 0, 255);\"></td><td title=\"Index: [4, 4]&#10;Color: (0, 0, 255)\" style=\"width: 20px; height: 20px;background-color: rgb(0, 0, 255);\"></td></tr></tbody></table>"
            ]
          },
          "metadata": {},
          "execution_count": 49
        }
      ]
    },
    {
      "cell_type": "code",
      "source": [
        "letters  = ('a','b','c','d','e')\n",
        "letters[0:3]\n"
      ],
      "metadata": {
        "colab": {
          "base_uri": "https://localhost:8080/"
        },
        "id": "vTFb-kP6L1OP",
        "outputId": "84719047-923c-4b30-8436-73f6de245fbb"
      },
      "execution_count": null,
      "outputs": [
        {
          "output_type": "execute_result",
          "data": {
            "text/plain": [
              "('a', 'b', 'c')"
            ]
          },
          "metadata": {},
          "execution_count": 50
        }
      ]
    },
    {
      "cell_type": "markdown",
      "source": [
        "## Funções em Python"
      ],
      "metadata": {
        "id": "cHleJTePHMSm"
      }
    },
    {
      "cell_type": "code",
      "source": [
        "def fahr_to_celsius(temp):\n",
        "    return ((temp - 32) * (5 / 9))"
      ],
      "metadata": {
        "id": "Uodr5CbMH_FX"
      },
      "execution_count": null,
      "outputs": []
    },
    {
      "cell_type": "code",
      "source": [
        "fahr_to_celsius(100)"
      ],
      "metadata": {
        "colab": {
          "base_uri": "https://localhost:8080/"
        },
        "id": "fRh4pdO_NPvp",
        "outputId": "54ebc4cd-6e0b-4860-ce99-b8c51ee577f5"
      },
      "execution_count": null,
      "outputs": [
        {
          "output_type": "execute_result",
          "data": {
            "text/plain": [
              "37.77777777777778"
            ]
          },
          "metadata": {},
          "execution_count": 52
        }
      ]
    },
    {
      "cell_type": "code",
      "source": [
        "def fahr_to_celsius(temp):\n",
        "    \"\"\"\n",
        "    Converte a temperatura de graus Fahrenheit para graus Celsius\n",
        "\n",
        "    Argumentos:\n",
        "    Temp - número inteiro ou real (float) que indica a temperatura em graus Fahrenheit\n",
        "\n",
        "    Retorna:\n",
        "    Temperatura convertida em graus Celsius\n",
        "    \"\"\"\n",
        "    return ((temp - 32) * (5 / 9))"
      ],
      "metadata": {
        "id": "w9Yu-36XOf8q"
      },
      "execution_count": null,
      "outputs": []
    },
    {
      "cell_type": "code",
      "source": [
        "def numero_par(numero):\n",
        "  '''\n",
        "  Informa se um número é par ou impar\n",
        "\n",
        "  Argumentos: \n",
        "    numbero : um número inteiro qualquer\n",
        "\n",
        "  Retorna:\n",
        "    True: se o número for par\n",
        "    False: se o número for ímpar\n",
        "  '''\n",
        "  if numero % 2 == 0:\n",
        "    return True\n",
        "  return False"
      ],
      "metadata": {
        "id": "tDo5FN38ic29"
      },
      "execution_count": null,
      "outputs": []
    },
    {
      "cell_type": "code",
      "source": [
        "print(numero_par(10))\n",
        "print(numero_par(11))"
      ],
      "metadata": {
        "colab": {
          "base_uri": "https://localhost:8080/"
        },
        "id": "fDPTjwHOjJmE",
        "outputId": "8bd0ae6a-02d0-4806-da6f-61833b67ea24"
      },
      "execution_count": null,
      "outputs": [
        {
          "output_type": "stream",
          "name": "stdout",
          "text": [
            "True\n",
            "False\n"
          ]
        }
      ]
    },
    {
      "cell_type": "code",
      "source": [
        "show_color(0,0,0)"
      ],
      "metadata": {
        "colab": {
          "base_uri": "https://localhost:8080/"
        },
        "id": "O0qcMMsKjYv6",
        "outputId": "2ee36fec-9b43-4074-d41a-0acebbbcdf5b"
      },
      "execution_count": null,
      "outputs": [
        {
          "output_type": "display_data",
          "data": {
            "text/plain": [
              "<IPython.core.display.HTML object>"
            ],
            "text/html": [
              "<div style=\"height: 60px; min-width: 200px; background-color: rgb(0, 0, 0)\"></div>"
            ]
          },
          "metadata": {}
        }
      ]
    },
    {
      "cell_type": "code",
      "source": [
        "show_color(255-0,255-0,255-0)"
      ],
      "metadata": {
        "colab": {
          "base_uri": "https://localhost:8080/"
        },
        "id": "EqIOeuanyMco",
        "outputId": "e8500cc3-f786-4cb4-bcb8-d47e5dd38eae"
      },
      "execution_count": null,
      "outputs": [
        {
          "output_type": "display_data",
          "data": {
            "text/plain": [
              "<IPython.core.display.HTML object>"
            ],
            "text/html": [
              "<div style=\"height: 60px; min-width: 200px; background-color: rgb(255, 255, 255)\"></div>"
            ]
          },
          "metadata": {}
        }
      ]
    },
    {
      "cell_type": "code",
      "source": [
        "def inverter(grade):\n",
        "  \"\"\"\n",
        "  Inverte as cores de uma grade (grid)\n",
        "\n",
        "  Argumentos:\n",
        "    Grade: Uma grade qualquer com blocos\n",
        "\n",
        "  Retorna:\n",
        "    A grade com cores invertidas\n",
        "  \"\"\"\n",
        "  nova_grade = grade.copy()\n",
        "  for bloco in grade:\n",
        "    novo_bloco = nova_grade[bloco.row, bloco.col]\n",
        "    novo_bloco.red = 255 - bloco.red\n",
        "    novo_bloco.green = 255 - bloco.green\n",
        "    novo_bloco.blue = 255 - bloco.blue\n",
        "  return nova_grade"
      ],
      "metadata": {
        "id": "KowhFE20yviG"
      },
      "execution_count": null,
      "outputs": []
    },
    {
      "cell_type": "code",
      "source": [
        "grade"
      ],
      "metadata": {
        "colab": {
          "base_uri": "https://localhost:8080/"
        },
        "id": "zWdmth0tzwDH",
        "outputId": "6ae91f58-641f-41bf-ca1d-30749921a4f2"
      },
      "execution_count": null,
      "outputs": [
        {
          "output_type": "execute_result",
          "data": {
            "text/plain": [
              "<ipythonblocks.ipythonblocks.BlockGrid at 0x7f3acc968ad0>"
            ],
            "text/html": [
              "<style type=\"text/css\">table.blockgrid {border: none;} .blockgrid tr {border: none;} .blockgrid td {padding: 0px;} #blocks22e2e95d-ddc4-4ff8-bffa-c5047cd38f2f td {border: 1px solid white;}</style><table id=\"blocks22e2e95d-ddc4-4ff8-bffa-c5047cd38f2f\" class=\"blockgrid\"><tbody><tr><td title=\"Index: [0, 0]&#10;Color: (0, 0, 0)\" style=\"width: 20px; height: 20px;background-color: rgb(0, 0, 0);\"></td><td title=\"Index: [0, 1]&#10;Color: (0, 0, 0)\" style=\"width: 20px; height: 20px;background-color: rgb(0, 0, 0);\"></td><td title=\"Index: [0, 2]&#10;Color: (255, 0, 0)\" style=\"width: 20px; height: 20px;background-color: rgb(255, 0, 0);\"></td><td title=\"Index: [0, 3]&#10;Color: (255, 0, 0)\" style=\"width: 20px; height: 20px;background-color: rgb(255, 0, 0);\"></td><td title=\"Index: [0, 4]&#10;Color: (0, 0, 0)\" style=\"width: 20px; height: 20px;background-color: rgb(0, 0, 0);\"></td></tr><tr><td title=\"Index: [1, 0]&#10;Color: (0, 0, 0)\" style=\"width: 20px; height: 20px;background-color: rgb(0, 0, 0);\"></td><td title=\"Index: [1, 1]&#10;Color: (0, 0, 0)\" style=\"width: 20px; height: 20px;background-color: rgb(0, 0, 0);\"></td><td title=\"Index: [1, 2]&#10;Color: (255, 0, 0)\" style=\"width: 20px; height: 20px;background-color: rgb(255, 0, 0);\"></td><td title=\"Index: [1, 3]&#10;Color: (255, 0, 0)\" style=\"width: 20px; height: 20px;background-color: rgb(255, 0, 0);\"></td><td title=\"Index: [1, 4]&#10;Color: (0, 0, 0)\" style=\"width: 20px; height: 20px;background-color: rgb(0, 0, 0);\"></td></tr><tr><td title=\"Index: [2, 0]&#10;Color: (0, 0, 0)\" style=\"width: 20px; height: 20px;background-color: rgb(0, 0, 0);\"></td><td title=\"Index: [2, 1]&#10;Color: (0, 0, 0)\" style=\"width: 20px; height: 20px;background-color: rgb(0, 0, 0);\"></td><td title=\"Index: [2, 2]&#10;Color: (0, 0, 0)\" style=\"width: 20px; height: 20px;background-color: rgb(0, 0, 0);\"></td><td title=\"Index: [2, 3]&#10;Color: (0, 0, 0)\" style=\"width: 20px; height: 20px;background-color: rgb(0, 0, 0);\"></td><td title=\"Index: [2, 4]&#10;Color: (0, 0, 0)\" style=\"width: 20px; height: 20px;background-color: rgb(0, 0, 0);\"></td></tr><tr><td title=\"Index: [3, 0]&#10;Color: (0, 0, 255)\" style=\"width: 20px; height: 20px;background-color: rgb(0, 0, 255);\"></td><td title=\"Index: [3, 1]&#10;Color: (0, 0, 255)\" style=\"width: 20px; height: 20px;background-color: rgb(0, 0, 255);\"></td><td title=\"Index: [3, 2]&#10;Color: (0, 0, 255)\" style=\"width: 20px; height: 20px;background-color: rgb(0, 0, 255);\"></td><td title=\"Index: [3, 3]&#10;Color: (0, 0, 255)\" style=\"width: 20px; height: 20px;background-color: rgb(0, 0, 255);\"></td><td title=\"Index: [3, 4]&#10;Color: (0, 0, 255)\" style=\"width: 20px; height: 20px;background-color: rgb(0, 0, 255);\"></td></tr><tr><td title=\"Index: [4, 0]&#10;Color: (0, 0, 255)\" style=\"width: 20px; height: 20px;background-color: rgb(0, 0, 255);\"></td><td title=\"Index: [4, 1]&#10;Color: (0, 0, 255)\" style=\"width: 20px; height: 20px;background-color: rgb(0, 0, 255);\"></td><td title=\"Index: [4, 2]&#10;Color: (0, 0, 255)\" style=\"width: 20px; height: 20px;background-color: rgb(0, 0, 255);\"></td><td title=\"Index: [4, 3]&#10;Color: (0, 0, 255)\" style=\"width: 20px; height: 20px;background-color: rgb(0, 0, 255);\"></td><td title=\"Index: [4, 4]&#10;Color: (0, 0, 255)\" style=\"width: 20px; height: 20px;background-color: rgb(0, 0, 255);\"></td></tr></tbody></table>"
            ]
          },
          "metadata": {},
          "execution_count": 59
        }
      ]
    },
    {
      "cell_type": "code",
      "source": [
        "inverter(grade)"
      ],
      "metadata": {
        "colab": {
          "base_uri": "https://localhost:8080/"
        },
        "id": "80MhYyoWRzXb",
        "outputId": "1530528f-faae-4407-8f68-7dfcb1022a3e"
      },
      "execution_count": null,
      "outputs": [
        {
          "output_type": "execute_result",
          "data": {
            "text/plain": [
              "<ipythonblocks.ipythonblocks.BlockGrid at 0x7f3ab3b65ed0>"
            ],
            "text/html": [
              "<style type=\"text/css\">table.blockgrid {border: none;} .blockgrid tr {border: none;} .blockgrid td {padding: 0px;} #blocks756cc538-3aff-4707-9416-b206e865879c td {border: 1px solid white;}</style><table id=\"blocks756cc538-3aff-4707-9416-b206e865879c\" class=\"blockgrid\"><tbody><tr><td title=\"Index: [0, 0]&#10;Color: (255, 255, 255)\" style=\"width: 20px; height: 20px;background-color: rgb(255, 255, 255);\"></td><td title=\"Index: [0, 1]&#10;Color: (255, 255, 255)\" style=\"width: 20px; height: 20px;background-color: rgb(255, 255, 255);\"></td><td title=\"Index: [0, 2]&#10;Color: (0, 255, 255)\" style=\"width: 20px; height: 20px;background-color: rgb(0, 255, 255);\"></td><td title=\"Index: [0, 3]&#10;Color: (0, 255, 255)\" style=\"width: 20px; height: 20px;background-color: rgb(0, 255, 255);\"></td><td title=\"Index: [0, 4]&#10;Color: (255, 255, 255)\" style=\"width: 20px; height: 20px;background-color: rgb(255, 255, 255);\"></td></tr><tr><td title=\"Index: [1, 0]&#10;Color: (255, 255, 255)\" style=\"width: 20px; height: 20px;background-color: rgb(255, 255, 255);\"></td><td title=\"Index: [1, 1]&#10;Color: (255, 255, 255)\" style=\"width: 20px; height: 20px;background-color: rgb(255, 255, 255);\"></td><td title=\"Index: [1, 2]&#10;Color: (0, 255, 255)\" style=\"width: 20px; height: 20px;background-color: rgb(0, 255, 255);\"></td><td title=\"Index: [1, 3]&#10;Color: (0, 255, 255)\" style=\"width: 20px; height: 20px;background-color: rgb(0, 255, 255);\"></td><td title=\"Index: [1, 4]&#10;Color: (255, 255, 255)\" style=\"width: 20px; height: 20px;background-color: rgb(255, 255, 255);\"></td></tr><tr><td title=\"Index: [2, 0]&#10;Color: (255, 255, 255)\" style=\"width: 20px; height: 20px;background-color: rgb(255, 255, 255);\"></td><td title=\"Index: [2, 1]&#10;Color: (255, 255, 255)\" style=\"width: 20px; height: 20px;background-color: rgb(255, 255, 255);\"></td><td title=\"Index: [2, 2]&#10;Color: (255, 255, 255)\" style=\"width: 20px; height: 20px;background-color: rgb(255, 255, 255);\"></td><td title=\"Index: [2, 3]&#10;Color: (255, 255, 255)\" style=\"width: 20px; height: 20px;background-color: rgb(255, 255, 255);\"></td><td title=\"Index: [2, 4]&#10;Color: (255, 255, 255)\" style=\"width: 20px; height: 20px;background-color: rgb(255, 255, 255);\"></td></tr><tr><td title=\"Index: [3, 0]&#10;Color: (255, 255, 0)\" style=\"width: 20px; height: 20px;background-color: rgb(255, 255, 0);\"></td><td title=\"Index: [3, 1]&#10;Color: (255, 255, 0)\" style=\"width: 20px; height: 20px;background-color: rgb(255, 255, 0);\"></td><td title=\"Index: [3, 2]&#10;Color: (255, 255, 0)\" style=\"width: 20px; height: 20px;background-color: rgb(255, 255, 0);\"></td><td title=\"Index: [3, 3]&#10;Color: (255, 255, 0)\" style=\"width: 20px; height: 20px;background-color: rgb(255, 255, 0);\"></td><td title=\"Index: [3, 4]&#10;Color: (255, 255, 0)\" style=\"width: 20px; height: 20px;background-color: rgb(255, 255, 0);\"></td></tr><tr><td title=\"Index: [4, 0]&#10;Color: (255, 255, 0)\" style=\"width: 20px; height: 20px;background-color: rgb(255, 255, 0);\"></td><td title=\"Index: [4, 1]&#10;Color: (255, 255, 0)\" style=\"width: 20px; height: 20px;background-color: rgb(255, 255, 0);\"></td><td title=\"Index: [4, 2]&#10;Color: (255, 255, 0)\" style=\"width: 20px; height: 20px;background-color: rgb(255, 255, 0);\"></td><td title=\"Index: [4, 3]&#10;Color: (255, 255, 0)\" style=\"width: 20px; height: 20px;background-color: rgb(255, 255, 0);\"></td><td title=\"Index: [4, 4]&#10;Color: (255, 255, 0)\" style=\"width: 20px; height: 20px;background-color: rgb(255, 255, 0);\"></td></tr></tbody></table>"
            ]
          },
          "metadata": {},
          "execution_count": 60
        }
      ]
    },
    {
      "cell_type": "markdown",
      "source": [
        "\n",
        "## Tipos de variáveis e estrutura de dados\n",
        "---\n",
        "\n"
      ],
      "metadata": {
        "id": "O4neJUDQUUar"
      }
    },
    {
      "cell_type": "code",
      "source": [
        "True, False # booleanas\n",
        "None # None\n",
        "1, 2, 3 # integers\n",
        "3.0, 2.5, 3.14 # float\n",
        "'abc', 'Hello' # strings\n",
        "[1,2,3, 'abc','def'] # listas\n",
        "(1,2,3,'abc','def') # tuplas (tuples), parecem listas, mas não podem ser alteradas\n",
        "{'Nome': ['Paulo','Victor','Zulmira'], 'Telefone': [6532236623, 6540042001, 6533002019]} # dicionário\n"
      ],
      "metadata": {
        "id": "zbYE7H2YUOx-",
        "colab": {
          "base_uri": "https://localhost:8080/"
        },
        "outputId": "49c4e86a-d879-415d-8f34-b2cbe7f96910"
      },
      "execution_count": null,
      "outputs": [
        {
          "output_type": "execute_result",
          "data": {
            "text/plain": [
              "{'Nome': ['Paulo', 'Victor', 'Zulmira'],\n",
              " 'Telefone': [6532236623, 6540042001, 6533002019]}"
            ]
          },
          "metadata": {},
          "execution_count": 61
        }
      ]
    },
    {
      "cell_type": "code",
      "source": [
        "string = \"Hello people\""
      ],
      "metadata": {
        "id": "Q7Yr9K3jSbId"
      },
      "execution_count": null,
      "outputs": []
    },
    {
      "cell_type": "code",
      "source": [
        "string[:5]"
      ],
      "metadata": {
        "colab": {
          "base_uri": "https://localhost:8080/"
        },
        "id": "Pz4422ARV5yf",
        "outputId": "1335d490-f941-4e80-e926-ce41d950c459"
      },
      "execution_count": null,
      "outputs": [
        {
          "output_type": "execute_result",
          "data": {
            "text/plain": [
              "'Hello'"
            ],
            "application/vnd.google.colaboratory.intrinsic+json": {
              "type": "string"
            }
          },
          "metadata": {},
          "execution_count": 63
        }
      ]
    },
    {
      "cell_type": "code",
      "source": [
        "string[2]"
      ],
      "metadata": {
        "colab": {
          "base_uri": "https://localhost:8080/"
        },
        "id": "KBACb-v1V-V-",
        "outputId": "65d52c73-1616-4c45-9edc-8972fd3bdb27"
      },
      "execution_count": null,
      "outputs": [
        {
          "output_type": "execute_result",
          "data": {
            "text/plain": [
              "'l'"
            ],
            "application/vnd.google.colaboratory.intrinsic+json": {
              "type": "string"
            }
          },
          "metadata": {},
          "execution_count": 64
        }
      ]
    },
    {
      "cell_type": "code",
      "source": [
        "exemplo_lista = [1,2,3, 'abc','def']"
      ],
      "metadata": {
        "id": "bpaTD_3iWCUI"
      },
      "execution_count": null,
      "outputs": []
    },
    {
      "cell_type": "code",
      "source": [
        "exemplo_lista[:2]"
      ],
      "metadata": {
        "colab": {
          "base_uri": "https://localhost:8080/"
        },
        "id": "UY0ja4fKWVDO",
        "outputId": "12c75dac-9021-423b-f341-af626c61facc"
      },
      "execution_count": null,
      "outputs": [
        {
          "output_type": "execute_result",
          "data": {
            "text/plain": [
              "[1, 2]"
            ]
          },
          "metadata": {},
          "execution_count": 66
        }
      ]
    },
    {
      "cell_type": "code",
      "source": [
        "exemplo_lista[3]"
      ],
      "metadata": {
        "colab": {
          "base_uri": "https://localhost:8080/"
        },
        "id": "6L8o0K7LX1gF",
        "outputId": "8204abef-7faf-4c05-c24c-fa2cfbd8c8f5"
      },
      "execution_count": null,
      "outputs": [
        {
          "output_type": "execute_result",
          "data": {
            "text/plain": [
              "'abc'"
            ],
            "application/vnd.google.colaboratory.intrinsic+json": {
              "type": "string"
            }
          },
          "metadata": {},
          "execution_count": 67
        }
      ]
    },
    {
      "cell_type": "code",
      "source": [
        "exemplo_lista.append(16)\n",
        "exemplo_lista"
      ],
      "metadata": {
        "colab": {
          "base_uri": "https://localhost:8080/"
        },
        "id": "xf4w6-qXWY_Y",
        "outputId": "52e237b6-6ad8-4462-dcfd-33997c141fe7"
      },
      "execution_count": null,
      "outputs": [
        {
          "output_type": "execute_result",
          "data": {
            "text/plain": [
              "[1, 2, 3, 'abc', 'def', 16]"
            ]
          },
          "metadata": {},
          "execution_count": 68
        }
      ]
    },
    {
      "cell_type": "code",
      "source": [
        "len(exemplo_lista)"
      ],
      "metadata": {
        "colab": {
          "base_uri": "https://localhost:8080/"
        },
        "id": "DtqQ_ZgbWl46",
        "outputId": "f0af0140-386f-4a63-cf10-81a4ee0a6af7"
      },
      "execution_count": null,
      "outputs": [
        {
          "output_type": "execute_result",
          "data": {
            "text/plain": [
              "6"
            ]
          },
          "metadata": {},
          "execution_count": 69
        }
      ]
    },
    {
      "cell_type": "code",
      "source": [
        "exemplo_tupla=(1,2,3,'abc','def')"
      ],
      "metadata": {
        "id": "I4h1SF4BaNya"
      },
      "execution_count": null,
      "outputs": []
    },
    {
      "cell_type": "code",
      "source": [
        "dicionario = {'Nome': ['Paulo','Victor','Zulmira'], 'Telefone': [6532236623, 6540042001, 6533002019]}"
      ],
      "metadata": {
        "id": "3RNaPAFDWxnI"
      },
      "execution_count": null,
      "outputs": []
    },
    {
      "cell_type": "code",
      "source": [
        "dicionario['Nome']"
      ],
      "metadata": {
        "colab": {
          "base_uri": "https://localhost:8080/"
        },
        "id": "xVdIuAowXyAK",
        "outputId": "6a5b0bb5-747e-4edb-cc32-4b44ecda590b"
      },
      "execution_count": null,
      "outputs": [
        {
          "output_type": "execute_result",
          "data": {
            "text/plain": [
              "['Paulo', 'Victor', 'Zulmira']"
            ]
          },
          "metadata": {},
          "execution_count": 72
        }
      ]
    },
    {
      "cell_type": "code",
      "source": [
        "dicionario['Linguagem de programação']=['Python', 'R', 'Matlab']\n",
        "dicionario"
      ],
      "metadata": {
        "colab": {
          "base_uri": "https://localhost:8080/"
        },
        "id": "b4LPihtPYAdG",
        "outputId": "34253214-f1a6-4a3d-ad62-e0d28c3a4eb4"
      },
      "execution_count": null,
      "outputs": [
        {
          "output_type": "execute_result",
          "data": {
            "text/plain": [
              "{'Nome': ['Paulo', 'Victor', 'Zulmira'],\n",
              " 'Telefone': [6532236623, 6540042001, 6533002019],\n",
              " 'Linguagem de programação': ['Python', 'R', 'Matlab']}"
            ]
          },
          "metadata": {},
          "execution_count": 73
        }
      ]
    },
    {
      "cell_type": "markdown",
      "source": [
        "# Referências:\n",
        "\n",
        "- Severance, C. R. (2009) Python \n",
        "para Todos: Explorando Dados com Python 3,disponível em: http://do1.dr-chuck.com/pythonlearn/PT_br/pythonlearn.pdf\n",
        "- GRUPO PET-TELE. (2011) Tutorial de introdução ao Python. Niterói – RJ: Universidade Federal Fluminense (UFF), disponível em: http://www.telecom.uff.br/pet/petws/downloads/tutoriais/python/tut_python_2k100127.pdf\n",
        "- https://peps.python.org/pep-0008/\n",
        "- https://flake8.pycqa.org/en/latest/\n",
        "- https://pypi.org/project/pylint/"
      ],
      "metadata": {
        "id": "IJrkmaE5Ygib"
      }
    },
    {
      "cell_type": "markdown",
      "source": [
        "# Introdução ao Numpy"
      ],
      "metadata": {
        "id": "lXRC5GuMk5yh"
      }
    },
    {
      "cell_type": "markdown",
      "source": [
        "## Listas do Python vs. Arrays do Numpy"
      ],
      "metadata": {
        "id": "aCxwfOWUnCcB"
      }
    },
    {
      "cell_type": "markdown",
      "source": [
        "### Exemplo 1:"
      ],
      "metadata": {
        "id": "J1OE9U_anOJN"
      }
    },
    {
      "cell_type": "code",
      "source": [
        "altura=[1.83,1.87,1.73,1.89]"
      ],
      "metadata": {
        "id": "UQhIUWAPk99a"
      },
      "execution_count": null,
      "outputs": []
    },
    {
      "cell_type": "code",
      "source": [
        "peso=[65.4,59.2,63.6,88.4]"
      ],
      "metadata": {
        "id": "PKtKpb6dlKxs"
      },
      "execution_count": null,
      "outputs": []
    },
    {
      "cell_type": "code",
      "source": [
        "IMC = peso/altura**2\n",
        "IMC"
      ],
      "metadata": {
        "colab": {
          "base_uri": "https://localhost:8080/",
          "height": 184
        },
        "id": "_v0MkAK8lRpD",
        "outputId": "a92d4f69-e4f3-45e3-8cdd-22c938e0901b"
      },
      "execution_count": null,
      "outputs": [
        {
          "output_type": "error",
          "ename": "TypeError",
          "evalue": "ignored",
          "traceback": [
            "\u001b[0;31m---------------------------------------------------------------------------\u001b[0m",
            "\u001b[0;31mTypeError\u001b[0m                                 Traceback (most recent call last)",
            "\u001b[0;32m<ipython-input-76-5f3f98c7c885>\u001b[0m in \u001b[0;36m<module>\u001b[0;34m\u001b[0m\n\u001b[0;32m----> 1\u001b[0;31m \u001b[0mIMC\u001b[0m \u001b[0;34m=\u001b[0m \u001b[0mpeso\u001b[0m\u001b[0;34m/\u001b[0m\u001b[0maltura\u001b[0m\u001b[0;34m**\u001b[0m\u001b[0;36m2\u001b[0m\u001b[0;34m\u001b[0m\u001b[0;34m\u001b[0m\u001b[0m\n\u001b[0m\u001b[1;32m      2\u001b[0m \u001b[0mIMC\u001b[0m\u001b[0;34m\u001b[0m\u001b[0;34m\u001b[0m\u001b[0m\n",
            "\u001b[0;31mTypeError\u001b[0m: unsupported operand type(s) for ** or pow(): 'list' and 'int'"
          ]
        }
      ]
    },
    {
      "cell_type": "code",
      "source": [
        "import numpy as np"
      ],
      "metadata": {
        "id": "7W63uGpTlZ40"
      },
      "execution_count": null,
      "outputs": []
    },
    {
      "cell_type": "code",
      "source": [
        "altura_np = np.array(altura)\n",
        "peso_np = np.array(peso)\n",
        "IMC = peso_np/altura_np**2\n",
        "IMC"
      ],
      "metadata": {
        "colab": {
          "base_uri": "https://localhost:8080/"
        },
        "id": "PtCnYksAlnxJ",
        "outputId": "2260832a-2c01-459f-abac-f3b5c0f84567"
      },
      "execution_count": null,
      "outputs": [
        {
          "output_type": "execute_result",
          "data": {
            "text/plain": [
              "array([19.5288005 , 16.92928022, 21.25029236, 24.7473475 ])"
            ]
          },
          "metadata": {},
          "execution_count": 78
        }
      ]
    },
    {
      "cell_type": "markdown",
      "source": [
        "### Exemplo 2:\n",
        "\n"
      ],
      "metadata": {
        "id": "l840VYPQnMoM"
      }
    },
    {
      "cell_type": "code",
      "source": [
        "lista_do_python=[1,2,3]\n",
        "array_do_numpy=np.array([1,2,3])"
      ],
      "metadata": {
        "id": "k_7H2bXenkXN"
      },
      "execution_count": null,
      "outputs": []
    },
    {
      "cell_type": "code",
      "source": [
        "lista_do_python + lista_do_python"
      ],
      "metadata": {
        "colab": {
          "base_uri": "https://localhost:8080/"
        },
        "id": "YI_8L_iRn1H9",
        "outputId": "55dd4e2a-3e25-44d3-9801-11f4922f0dca"
      },
      "execution_count": null,
      "outputs": [
        {
          "output_type": "execute_result",
          "data": {
            "text/plain": [
              "[1, 2, 3, 1, 2, 3]"
            ]
          },
          "metadata": {},
          "execution_count": 80
        }
      ]
    },
    {
      "cell_type": "code",
      "source": [
        "array_do_numpy + array_do_numpy"
      ],
      "metadata": {
        "colab": {
          "base_uri": "https://localhost:8080/"
        },
        "id": "Ewrb-wXzn6Cw",
        "outputId": "ca371e17-4ad5-4fc3-82a0-8e5de00bfa02"
      },
      "execution_count": null,
      "outputs": [
        {
          "output_type": "execute_result",
          "data": {
            "text/plain": [
              "array([2, 4, 6])"
            ]
          },
          "metadata": {},
          "execution_count": 81
        }
      ]
    },
    {
      "cell_type": "markdown",
      "source": [
        "## Subconjuntos de arrays do numpy"
      ],
      "metadata": {
        "id": "yz2kzZR_oNBi"
      }
    },
    {
      "cell_type": "code",
      "source": [
        "IMC[2]"
      ],
      "metadata": {
        "colab": {
          "base_uri": "https://localhost:8080/"
        },
        "id": "_qT4NL2-oSLe",
        "outputId": "5fb1fb96-0675-42cb-bee3-b44c30a6e002"
      },
      "execution_count": null,
      "outputs": [
        {
          "output_type": "execute_result",
          "data": {
            "text/plain": [
              "21.250292358581977"
            ]
          },
          "metadata": {},
          "execution_count": 82
        }
      ]
    },
    {
      "cell_type": "code",
      "source": [
        "IMC > 22"
      ],
      "metadata": {
        "colab": {
          "base_uri": "https://localhost:8080/"
        },
        "id": "9bnCCUuboU-S",
        "outputId": "43ca2f46-a1e8-4cc7-e887-35b69e7dccdc"
      },
      "execution_count": null,
      "outputs": [
        {
          "output_type": "execute_result",
          "data": {
            "text/plain": [
              "array([False, False, False,  True])"
            ]
          },
          "metadata": {},
          "execution_count": 83
        }
      ]
    },
    {
      "cell_type": "markdown",
      "source": [
        "## Tipos de arrays do numpy"
      ],
      "metadata": {
        "id": "wKZg7NtMywKA"
      }
    },
    {
      "cell_type": "code",
      "source": [
        "peso_np"
      ],
      "metadata": {
        "colab": {
          "base_uri": "https://localhost:8080/"
        },
        "id": "wdbcW4mnwAi2",
        "outputId": "09b06c1c-c7dc-4611-cd20-7103af0cae41"
      },
      "execution_count": null,
      "outputs": [
        {
          "output_type": "execute_result",
          "data": {
            "text/plain": [
              "array([65.4, 59.2, 63.6, 88.4])"
            ]
          },
          "metadata": {},
          "execution_count": 84
        }
      ]
    },
    {
      "cell_type": "code",
      "source": [
        "altura_np"
      ],
      "metadata": {
        "colab": {
          "base_uri": "https://localhost:8080/"
        },
        "id": "LaUY252XwdkP",
        "outputId": "9b77999d-b6b1-4729-9638-611b84336c45"
      },
      "execution_count": null,
      "outputs": [
        {
          "output_type": "execute_result",
          "data": {
            "text/plain": [
              "array([1.83, 1.87, 1.73, 1.89])"
            ]
          },
          "metadata": {},
          "execution_count": 85
        }
      ]
    },
    {
      "cell_type": "code",
      "source": [
        "type(peso_np)"
      ],
      "metadata": {
        "colab": {
          "base_uri": "https://localhost:8080/"
        },
        "id": "NECCSGI7we3V",
        "outputId": "6da760fc-6951-411b-c6ed-dc447ef150dc"
      },
      "execution_count": null,
      "outputs": [
        {
          "output_type": "execute_result",
          "data": {
            "text/plain": [
              "numpy.ndarray"
            ]
          },
          "metadata": {},
          "execution_count": 86
        }
      ]
    },
    {
      "cell_type": "code",
      "source": [
        "type(altura_np)"
      ],
      "metadata": {
        "colab": {
          "base_uri": "https://localhost:8080/"
        },
        "id": "Fw5QoP-Swig3",
        "outputId": "a3bfaa30-474c-41f3-8b0a-00684190cc32"
      },
      "execution_count": null,
      "outputs": [
        {
          "output_type": "execute_result",
          "data": {
            "text/plain": [
              "numpy.ndarray"
            ]
          },
          "metadata": {},
          "execution_count": 87
        }
      ]
    },
    {
      "cell_type": "markdown",
      "source": [
        "## Arrays do numpy com dimensão 2d"
      ],
      "metadata": {
        "id": "dv9slRUMwtOt"
      }
    },
    {
      "cell_type": "code",
      "source": [
        "np_2d = np.array([[1.73,1.68,1.71,1.89,1.79],\n",
        "                  [65.4,59.2,63.6,88.4,68.7]])\n",
        "np_2d"
      ],
      "metadata": {
        "colab": {
          "base_uri": "https://localhost:8080/"
        },
        "id": "GR4hgQc4w2yt",
        "outputId": "09221a34-14ea-45e1-8c00-0583f83f931c"
      },
      "execution_count": null,
      "outputs": [
        {
          "output_type": "execute_result",
          "data": {
            "text/plain": [
              "array([[ 1.73,  1.68,  1.71,  1.89,  1.79],\n",
              "       [65.4 , 59.2 , 63.6 , 88.4 , 68.7 ]])"
            ]
          },
          "metadata": {},
          "execution_count": 88
        }
      ]
    },
    {
      "cell_type": "code",
      "source": [
        "np_2d.shape"
      ],
      "metadata": {
        "colab": {
          "base_uri": "https://localhost:8080/"
        },
        "id": "tv7vQMHRxK1e",
        "outputId": "966124b2-fe24-4618-e5d1-7b692ba9490e"
      },
      "execution_count": null,
      "outputs": [
        {
          "output_type": "execute_result",
          "data": {
            "text/plain": [
              "(2, 5)"
            ]
          },
          "metadata": {},
          "execution_count": 89
        }
      ]
    },
    {
      "cell_type": "code",
      "source": [
        "np_2d_string = np.array([[1.73,1.68,1.71,1.89,1.79],\n",
        "                  [65.4,59.2,63.6,88.4,\"68.7\"]]) # mundando um dos valores para string, todos os outros valores mudam para string\n",
        "np_2d_string "
      ],
      "metadata": {
        "colab": {
          "base_uri": "https://localhost:8080/"
        },
        "id": "WGFMBQoKxiOr",
        "outputId": "e6322fdc-419c-4a36-c2d2-eb4816fd223e"
      },
      "execution_count": null,
      "outputs": [
        {
          "output_type": "execute_result",
          "data": {
            "text/plain": [
              "array([['1.73', '1.68', '1.71', '1.89', '1.79'],\n",
              "       ['65.4', '59.2', '63.6', '88.4', '68.7']], dtype='<U32')"
            ]
          },
          "metadata": {},
          "execution_count": 90
        }
      ]
    },
    {
      "cell_type": "markdown",
      "source": [
        "## Subconjuntos"
      ],
      "metadata": {
        "id": "y4n6BbmnyeQf"
      }
    },
    {
      "cell_type": "code",
      "source": [
        "np_2d[0]  # subconjunto com apenas a primeira linha do array"
      ],
      "metadata": {
        "colab": {
          "base_uri": "https://localhost:8080/"
        },
        "id": "9qX07sTFx8pi",
        "outputId": "5dde6552-7c9d-4e9d-f06b-a4a9eff08f29"
      },
      "execution_count": null,
      "outputs": [
        {
          "output_type": "execute_result",
          "data": {
            "text/plain": [
              "array([1.73, 1.68, 1.71, 1.89, 1.79])"
            ]
          },
          "metadata": {},
          "execution_count": 91
        }
      ]
    },
    {
      "cell_type": "code",
      "source": [
        "np_2d[0][2]  # subconjunto com apenas o terceiro elemento da primeira linha do array"
      ],
      "metadata": {
        "colab": {
          "base_uri": "https://localhost:8080/"
        },
        "id": "nh1wlxhhyhZt",
        "outputId": "2183b04d-6331-4ac6-f954-c267dbd2d5c8"
      },
      "execution_count": null,
      "outputs": [
        {
          "output_type": "execute_result",
          "data": {
            "text/plain": [
              "1.71"
            ]
          },
          "metadata": {},
          "execution_count": 92
        }
      ]
    },
    {
      "cell_type": "code",
      "source": [
        "np_2d[0,2]  # subconjunto com apenas o terceiro elemento da primeira linha do array"
      ],
      "metadata": {
        "colab": {
          "base_uri": "https://localhost:8080/"
        },
        "id": "0jtBpPAGyw6b",
        "outputId": "27669ae2-8da8-47ef-feb4-735866c5c321"
      },
      "execution_count": null,
      "outputs": [
        {
          "output_type": "execute_result",
          "data": {
            "text/plain": [
              "1.71"
            ]
          },
          "metadata": {},
          "execution_count": 93
        }
      ]
    },
    {
      "cell_type": "code",
      "source": [
        "np_2d[:,1:3]  # subconjunto com todas as linha e apenas a segunda e terceira colunas do array"
      ],
      "metadata": {
        "colab": {
          "base_uri": "https://localhost:8080/"
        },
        "id": "D7qUVSQSy6bU",
        "outputId": "41a0f561-7167-4bb4-96b5-9c33f35c76e4"
      },
      "execution_count": null,
      "outputs": [
        {
          "output_type": "execute_result",
          "data": {
            "text/plain": [
              "array([[ 1.68,  1.71],\n",
              "       [59.2 , 63.6 ]])"
            ]
          },
          "metadata": {},
          "execution_count": 94
        }
      ]
    },
    {
      "cell_type": "code",
      "source": [
        "np_2d[1,:]  # subconjunto com todas as colunas e apenas a segunda linha do array"
      ],
      "metadata": {
        "colab": {
          "base_uri": "https://localhost:8080/"
        },
        "id": "0IuTpAPqzSEg",
        "outputId": "0a43a6c5-d986-48ec-83e7-cce9f8ca9612"
      },
      "execution_count": null,
      "outputs": [
        {
          "output_type": "execute_result",
          "data": {
            "text/plain": [
              "array([65.4, 59.2, 63.6, 88.4, 68.7])"
            ]
          },
          "metadata": {},
          "execution_count": 95
        }
      ]
    },
    {
      "cell_type": "markdown",
      "source": [
        "## Calcular Média, Mediana, Desvio-padrão e Correlação"
      ],
      "metadata": {
        "id": "adb4uud_Pn1n"
      }
    },
    {
      "cell_type": "code",
      "source": [
        "np.mean(peso_np)"
      ],
      "metadata": {
        "colab": {
          "base_uri": "https://localhost:8080/"
        },
        "id": "nFg9mM9xP1QM",
        "outputId": "babc1475-3013-475d-b6d3-03b496cc7735"
      },
      "execution_count": null,
      "outputs": [
        {
          "output_type": "execute_result",
          "data": {
            "text/plain": [
              "69.15"
            ]
          },
          "metadata": {},
          "execution_count": 96
        }
      ]
    },
    {
      "cell_type": "code",
      "source": [
        "np.median(altura_np)"
      ],
      "metadata": {
        "colab": {
          "base_uri": "https://localhost:8080/"
        },
        "id": "mr2aB6Q0RxD-",
        "outputId": "bf7df0ee-4759-4095-84b9-08d7a0fb032e"
      },
      "execution_count": null,
      "outputs": [
        {
          "output_type": "execute_result",
          "data": {
            "text/plain": [
              "1.85"
            ]
          },
          "metadata": {},
          "execution_count": 97
        }
      ]
    },
    {
      "cell_type": "code",
      "source": [
        "np.std(peso_np)"
      ],
      "metadata": {
        "colab": {
          "base_uri": "https://localhost:8080/"
        },
        "id": "gjyrKiV5SHFb",
        "outputId": "fd855deb-7e4b-4874-ce26-c9d27b52a466"
      },
      "execution_count": null,
      "outputs": [
        {
          "output_type": "execute_result",
          "data": {
            "text/plain": [
              "11.340524679220094"
            ]
          },
          "metadata": {},
          "execution_count": 98
        }
      ]
    },
    {
      "cell_type": "code",
      "source": [
        "np.corrcoef(altura_np,peso_np)"
      ],
      "metadata": {
        "colab": {
          "base_uri": "https://localhost:8080/"
        },
        "id": "iRqekqk_SL1i",
        "outputId": "40e0b61f-b499-49e1-9f56-6f793f47b59b"
      },
      "execution_count": null,
      "outputs": [
        {
          "output_type": "execute_result",
          "data": {
            "text/plain": [
              "array([[1.        , 0.46919016],\n",
              "       [0.46919016, 1.        ]])"
            ]
          },
          "metadata": {},
          "execution_count": 99
        }
      ]
    },
    {
      "cell_type": "markdown",
      "source": [
        "## Outras funções:\n",
        "- soma: np.sum()\n",
        "- ordenar: np.sort()\n",
        "- arrendondar valores: np.round()\n",
        "- gerar números aleatórios normalmente distribuídos: np.random.normal()\n",
        "\n"
      ],
      "metadata": {
        "id": "daY5BScDSsaP"
      }
    },
    {
      "cell_type": "markdown",
      "source": [
        "## Vantagem do Numpy: Velocidade!"
      ],
      "metadata": {
        "id": "8gvxFuxvTD7N"
      }
    },
    {
      "cell_type": "markdown",
      "source": [
        "# Referências\n",
        "\n",
        "- https://numpy.org/devdocs/user/quickstart.html\n",
        "\n",
        "- https://www.datacamp.com/cheat-sheet/numpy-cheat-sheet-data-analysis-in-python\n",
        "- datacamp.com\n",
        "- coursera.org\n",
        "- edx.org"
      ],
      "metadata": {
        "id": "mgT4dyisrRyw"
      }
    },
    {
      "cell_type": "markdown",
      "source": [
        "# Pandas"
      ],
      "metadata": {
        "id": "pjdaqlCkT7_m"
      }
    },
    {
      "cell_type": "markdown",
      "source": [
        " - **Pandas** é uma biblioteca que permite usar matrizes ou arrays como tabelas.\n",
        " - Um **DataFrame** do Pandas é uma estrura de dados com colunas e linhas.\n",
        " - Uma coluna ou uma linha pode ser utilizada como uma série, outro tipo de dado no pandas.\n",
        " - Estas séries são NumPy arrays.\n",
        " - A biblioteca do pandas possui funções para importar e exportar dados de/para CSV, Excel e muito outros formatos.\n",
        "  - pd.read_csv()\n",
        "  - pd.read_excel() "
      ],
      "metadata": {
        "id": "gu8eQCiieoC7"
      }
    },
    {
      "cell_type": "code",
      "source": [
        "import pandas as pd\n",
        "\n",
        "#criar um dataframe:\n",
        "df2 = pd.DataFrame({\"A\": [1, 2], \"B\": [3, 4]})\n",
        "# fazer o gráfico de uma coluna no eixo x e a outra no eixo y\n",
        "df2.plot(x='A', y='B', kind='scatter')\n",
        "# converter para uma matriz do numpy\n",
        "df2.to_numpy()"
      ],
      "metadata": {
        "colab": {
          "base_uri": "https://localhost:8080/",
          "height": 314
        },
        "id": "r4p2elmoT_nw",
        "outputId": "c8ebdd69-7a22-49cb-b8f5-8fcd5aad27b1"
      },
      "execution_count": null,
      "outputs": [
        {
          "output_type": "execute_result",
          "data": {
            "text/plain": [
              "array([[1, 3],\n",
              "       [2, 4]])"
            ]
          },
          "metadata": {},
          "execution_count": 102
        },
        {
          "output_type": "display_data",
          "data": {
            "text/plain": [
              "<Figure size 432x288 with 1 Axes>"
            ],
            "image/png": "[encoded data removed]"
          },
          "metadata": {
            "needs_background": "light"
          }
        }
      ]
    },
    {
      "cell_type": "code",
      "source": [
        "# Criar uma série temporal (apenas o índice)\n",
        "aulas = pd.date_range(start='2022-08-19', end='2022-11-27',freq='W-FRI')\n",
        "print(len(aulas))\n",
        "print(aulas)\n"
      ],
      "metadata": {
        "colab": {
          "base_uri": "https://localhost:8080/"
        },
        "id": "rb9BVAvov5T5",
        "outputId": "2d97e652-dfa0-4871-8b6a-355b45f3bf08"
      },
      "execution_count": null,
      "outputs": [
        {
          "output_type": "stream",
          "name": "stdout",
          "text": [
            "15\n",
            "DatetimeIndex(['2022-08-19', '2022-08-26', '2022-09-02', '2022-09-09',\n",
            "               '2022-09-16', '2022-09-23', '2022-09-30', '2022-10-07',\n",
            "               '2022-10-14', '2022-10-21', '2022-10-28', '2022-11-04',\n",
            "               '2022-11-11', '2022-11-18', '2022-11-25'],\n",
            "              dtype='datetime64[ns]', freq='W-FRI')\n"
          ]
        }
      ]
    },
    {
      "cell_type": "code",
      "source": [
        "# Criar uma série temporal usando pd.Series (apenas o índice)\n",
        "pd.Series(pd.date_range(\"2022\",freq=\"D\",periods=3))"
      ],
      "metadata": {
        "colab": {
          "base_uri": "https://localhost:8080/"
        },
        "id": "AU3lC-8wxDSR",
        "outputId": "435ce33a-454b-4eee-89a6-f05561c8def0"
      },
      "execution_count": null,
      "outputs": [
        {
          "output_type": "execute_result",
          "data": {
            "text/plain": [
              "0   2022-01-01\n",
              "1   2022-01-02\n",
              "2   2022-01-03\n",
              "dtype: datetime64[ns]"
            ]
          },
          "metadata": {},
          "execution_count": 104
        }
      ]
    },
    {
      "cell_type": "code",
      "source": [
        "# Converter DataFrames em DataTime\n",
        "import pandas as pd\n",
        "df = pd.DataFrame({'year': [2021, 2022],\n",
        "                  'month': [3, 4],\n",
        "                  'day': [24, 25]}\n",
        ")\n",
        "ts1 = pd.to_datetime(df)\n",
        "\n",
        "#Converter uma string em DataTime\n",
        "string='20210324'\n",
        "ts2 = pd.to_datetime(string, format='%Y%m%d')"
      ],
      "metadata": {
        "id": "jraA-J870mDm"
      },
      "execution_count": null,
      "outputs": []
    },
    {
      "cell_type": "code",
      "source": [
        "ts1"
      ],
      "metadata": {
        "colab": {
          "base_uri": "https://localhost:8080/"
        },
        "id": "hGAOCS6M0vDD",
        "outputId": "de94a469-b387-4c3c-c1aa-c420cf312e41"
      },
      "execution_count": null,
      "outputs": [
        {
          "output_type": "execute_result",
          "data": {
            "text/plain": [
              "0   2021-03-24\n",
              "1   2022-04-25\n",
              "dtype: datetime64[ns]"
            ]
          },
          "metadata": {},
          "execution_count": 106
        }
      ]
    },
    {
      "cell_type": "code",
      "source": [
        "ts2"
      ],
      "metadata": {
        "colab": {
          "base_uri": "https://localhost:8080/"
        },
        "id": "n6WcuC890y-2",
        "outputId": "439c5ab2-25f9-4ab3-80c0-e97b86ed749b"
      },
      "execution_count": null,
      "outputs": [
        {
          "output_type": "execute_result",
          "data": {
            "text/plain": [
              "Timestamp('2021-03-24 00:00:00')"
            ]
          },
          "metadata": {},
          "execution_count": 107
        }
      ]
    },
    {
      "cell_type": "code",
      "source": [
        "# Janela rolante (rolling Window)\n",
        "s = pd.Series([1,2,3,4,5])\n",
        "s"
      ],
      "metadata": {
        "colab": {
          "base_uri": "https://localhost:8080/"
        },
        "id": "5XF-5uD228bS",
        "outputId": "74fa8c0a-ff90-424e-ca52-8d803d022d82"
      },
      "execution_count": null,
      "outputs": [
        {
          "output_type": "execute_result",
          "data": {
            "text/plain": [
              "0    1\n",
              "1    2\n",
              "2    3\n",
              "3    4\n",
              "4    5\n",
              "dtype: int64"
            ]
          },
          "metadata": {},
          "execution_count": 108
        }
      ]
    },
    {
      "cell_type": "code",
      "source": [
        "s.rolling(3).sum()"
      ],
      "metadata": {
        "colab": {
          "base_uri": "https://localhost:8080/"
        },
        "id": "7cyGA3eW4D6-",
        "outputId": "7ae1a121-5bfb-4d21-be61-3058cfc2508a"
      },
      "execution_count": null,
      "outputs": [
        {
          "output_type": "execute_result",
          "data": {
            "text/plain": [
              "0     NaN\n",
              "1     NaN\n",
              "2     6.0\n",
              "3     9.0\n",
              "4    12.0\n",
              "dtype: float64"
            ]
          },
          "metadata": {},
          "execution_count": 109
        }
      ]
    },
    {
      "cell_type": "code",
      "source": [
        "s.rolling(2).sum()"
      ],
      "metadata": {
        "id": "qIxE72Jz70ck",
        "colab": {
          "base_uri": "https://localhost:8080/"
        },
        "outputId": "e1249f2a-336f-4804-81a5-6382879b703e"
      },
      "execution_count": null,
      "outputs": [
        {
          "output_type": "execute_result",
          "data": {
            "text/plain": [
              "0    NaN\n",
              "1    3.0\n",
              "2    5.0\n",
              "3    7.0\n",
              "4    9.0\n",
              "dtype: float64"
            ]
          },
          "metadata": {},
          "execution_count": 110
        }
      ]
    },
    {
      "cell_type": "markdown",
      "source": [
        "- Uma série temporal geralmente possui um índice com um objeto de tempo (time object) e uma ou mais colunas com números ou variáveis de outros tipos:"
      ],
      "metadata": {
        "id": "UrSLdJrY77hj"
      }
    },
    {
      "cell_type": "code",
      "source": [
        "# Criar uma série temporal\n",
        "import numpy as np\n",
        "rng = pd.date_range('2021-03-24', '2021-09-01', freq='D')\n",
        "ts = pd.Series(np.random.randn(len(rng)), index=rng,)\n",
        "ts"
      ],
      "metadata": {
        "colab": {
          "base_uri": "https://localhost:8080/"
        },
        "id": "2rkeGQ9072gl",
        "outputId": "533d4c30-cad8-4345-c64b-305f8b24d0c8"
      },
      "execution_count": null,
      "outputs": [
        {
          "output_type": "execute_result",
          "data": {
            "text/plain": [
              "2021-03-24   -0.990634\n",
              "2021-03-25   -0.149092\n",
              "2021-03-26    0.747977\n",
              "2021-03-27    0.084194\n",
              "2021-03-28    0.347989\n",
              "                ...   \n",
              "2021-08-28   -0.199445\n",
              "2021-08-29    0.744735\n",
              "2021-08-30   -0.676742\n",
              "2021-08-31   -0.461857\n",
              "2021-09-01    1.261523\n",
              "Freq: D, Length: 162, dtype: float64"
            ]
          },
          "metadata": {},
          "execution_count": 111
        }
      ]
    },
    {
      "cell_type": "code",
      "source": [
        "# Criar subconjuntos usando datas, como índice:\n",
        "ts['2021-03-28':'2021-03-30']"
      ],
      "metadata": {
        "colab": {
          "base_uri": "https://localhost:8080/"
        },
        "id": "kjKgRrBn9DQk",
        "outputId": "06856b4f-87c1-40ea-88bf-61c0878297aa"
      },
      "execution_count": null,
      "outputs": [
        {
          "output_type": "execute_result",
          "data": {
            "text/plain": [
              "2021-03-28    0.347989\n",
              "2021-03-29   -0.600497\n",
              "2021-03-30    0.295720\n",
              "Freq: D, dtype: float64"
            ]
          },
          "metadata": {},
          "execution_count": 112
        }
      ]
    },
    {
      "cell_type": "code",
      "source": [
        "# Criar subconjuntos:\n",
        "ts[:5]"
      ],
      "metadata": {
        "colab": {
          "base_uri": "https://localhost:8080/"
        },
        "id": "FtMv1OZj8wUM",
        "outputId": "1d8c85cf-cdeb-48dd-80de-d14cc79892ff"
      },
      "execution_count": null,
      "outputs": [
        {
          "output_type": "execute_result",
          "data": {
            "text/plain": [
              "2021-03-24   -0.990634\n",
              "2021-03-25   -0.149092\n",
              "2021-03-26    0.747977\n",
              "2021-03-27    0.084194\n",
              "2021-03-28    0.347989\n",
              "Freq: D, dtype: float64"
            ]
          },
          "metadata": {},
          "execution_count": 113
        }
      ]
    },
    {
      "cell_type": "code",
      "source": [
        "# Criando lags nas série temporal:\n",
        "ts.shift(1)[:5]"
      ],
      "metadata": {
        "colab": {
          "base_uri": "https://localhost:8080/"
        },
        "id": "2uSDUeUn9NJo",
        "outputId": "db5ad566-bbd6-45ff-e36e-976f4d66d8b9"
      },
      "execution_count": null,
      "outputs": [
        {
          "output_type": "execute_result",
          "data": {
            "text/plain": [
              "2021-03-24         NaN\n",
              "2021-03-25   -0.990634\n",
              "2021-03-26   -0.149092\n",
              "2021-03-27    0.747977\n",
              "2021-03-28    0.084194\n",
              "Freq: D, dtype: float64"
            ]
          },
          "metadata": {},
          "execution_count": 114
        }
      ]
    },
    {
      "cell_type": "code",
      "source": [],
      "metadata": {
        "id": "JfBLOTqb1EVA"
      },
      "execution_count": null,
      "outputs": []
    },
    {
      "cell_type": "markdown",
      "metadata": {
        "pycharm": {
          "name": "#%% md\n"
        },
        "id": "dc980b42"
      },
      "source": [
        "# Pré-requisitos\n",
        "- **Conhecimento básico de Python**\n",
        "- Conhecimento básico de Estatística"
      ]
    },
    {
      "cell_type": "markdown",
      "metadata": {
        "pycharm": {
          "name": "#%% md\n"
        },
        "id": "cb566d40"
      },
      "source": [
        "# Objetivos de aprendizagem\n",
        "\n",
        "## 1 Introdução à Linguagem Python\n",
        "\n",
        "- Instalar e importar pacotes\n",
        "- Usar os recursos de ajuda do IPython\n",
        "- Atribuir valores para variáveis\n",
        "- `For loop` (Repetição) (tanto no estilo iterador quanto no estilo range)\n",
        "- `If else` (Condicionais)\n",
        "- Indexação (subconjuntos)\n",
        "- Funções\n",
        "- Tipos de variáveis e estrutura de dados\n",
        "- Introdução ao Numpy\n",
        "- Introdução ao Pandas\n",
        "- **Gráficos em Python**\n",
        "\n"
      ]
    },
    {
      "cell_type": "markdown",
      "metadata": {
        "pycharm": {
          "name": "#%% md\n"
        },
        "id": "4db948d3"
      },
      "source": [
        "## Preparar o Caderno (importar as bibliotecas necessárias)"
      ]
    },
    {
      "cell_type": "code",
      "execution_count": null,
      "metadata": {
        "execution": {
          "iopub.execute_input": "2022-06-09T00:35:31.174020Z",
          "iopub.status.busy": "2022-06-09T00:35:31.173318Z",
          "iopub.status.idle": "2022-06-09T00:35:32.227750Z",
          "shell.execute_reply": "2022-06-09T00:35:32.226812Z"
        },
        "lang": "en",
        "papermill": {
          "duration": 1.06135,
          "end_time": "2022-06-09T00:35:32.230310",
          "exception": false,
          "start_time": "2022-06-09T00:35:31.168960",
          "status": "completed"
        },
        "pycharm": {
          "name": "#%%\n"
        },
        "tags": [],
        "id": "5f2613ee"
      },
      "outputs": [],
      "source": [
        "import pandas as pd\n",
        "pd.plotting.register_matplotlib_converters()\n",
        "import matplotlib.pyplot as plt\n",
        "%matplotlib inline\n",
        "import seaborn as sns"
      ]
    },
    {
      "cell_type": "markdown",
      "metadata": {
        "lang": "en",
        "papermill": {
          "duration": 0.002995,
          "end_time": "2022-06-09T00:35:32.238715",
          "exception": false,
          "start_time": "2022-06-09T00:35:32.235720",
          "status": "completed"
        },
        "pycharm": {
          "name": "#%% md\n"
        },
        "tags": [],
        "id": "542b9b15"
      },
      "source": [
        "# Load the data\n",
        "\n",
        "In this notebook, we'll work with a dataset of historical FIFA rankings for six countries: Argentina (ARG), Brazil (BRA), Spain (ESP), France (FRA), Germany (GER), and Italy (ITA).  The dataset is stored as a CSV file (short for [comma-separated values file](https://bit.ly/2Iu5D4x). Opening the CSV file in Excel shows a row for each date, along with a column for each country. \n",
        "\n",
        "![tut0_fifa_head](https://i.imgur.com/W0E7GjV.png)\n",
        "\n",
        "To load the data into the notebook, we'll use two distinct steps, implemented in the code cell below as follows:\n",
        "- begin by specifying the location (or [filepath](https://bit.ly/1lWCX7s)) where the dataset can be accessed, and then\n",
        "- use the filepath to load the contents of the dataset into the notebook."
      ]
    },
    {
      "cell_type": "markdown",
      "metadata": {
        "lang": "pt",
        "pycharm": {
          "name": "#%% md\n"
        },
        "id": "cf2a0fb7"
      },
      "source": [
        "## Carregar os dados\n",
        "\n",
        "- Neste caderno, trabalharemos com um conjunto de dados de classificações históricas da FIFA para seis países: Argentina (ARG), Brasil (BRA), Espanha (ESP), França (FRA), Alemanha (GER) e Itália (ITA). O conjunto de dados é armazenado como um arquivo CSV (abreviação de [arquivo de valores separados por vírgula]. O arquivo CSV pode ser aberto no Excel e mostra uma linha para cada data, juntamente com uma coluna para cada país ."
      ]
    },
    {
      "cell_type": "markdown",
      "metadata": {
        "id": "b17e0275"
      },
      "source": [
        "\n",
        "![tut0_fiaoufa_cabeça](https://i.imgur.com/W0E7GjV.png)"
      ]
    },
    {
      "cell_type": "markdown",
      "metadata": {
        "id": "6c6410bf"
      },
      "source": [
        "- Para carregar os dados no notebook, usaremos duas etapas distintas, implementadas na célula de código abaixo da seguinte forma:\n",
        " - comece especificando o local (ou [filepath]) onde o conjunto de dados pode ser acessado e, em seguida,\n",
        " - use o caminho do arquivo para carregar o conteúdo do conjunto de dados no notebook."
      ]
    },
    {
      "cell_type": "code",
      "execution_count": null,
      "metadata": {
        "execution": {
          "iopub.execute_input": "2022-06-09T00:35:32.246012Z",
          "iopub.status.busy": "2022-06-09T00:35:32.245635Z",
          "iopub.status.idle": "2022-06-09T00:35:32.275787Z",
          "shell.execute_reply": "2022-06-09T00:35:32.275075Z"
        },
        "papermill": {
          "duration": 0.036173,
          "end_time": "2022-06-09T00:35:32.277815",
          "exception": false,
          "start_time": "2022-06-09T00:35:32.241642",
          "status": "completed"
        },
        "pycharm": {
          "name": "#%%\n"
        },
        "tags": [],
        "id": "83c3bd3c"
      },
      "outputs": [],
      "source": [
        "# Caminho para o arquivo de dados\n",
        "fifa_filepath = \"data/fifa.csv\"\n",
        "\n",
        "# Ler o arquivo e atribuir os dado a uma variável chamada fifa_data\n",
        "fifa_data = pd.read_csv(fifa_filepath, index_col=\"Date\", parse_dates=True)"
      ]
    },
    {
      "cell_type": "markdown",
      "metadata": {
        "lang": "pt",
        "pycharm": {
          "name": "#%% md\n"
        },
        "id": "3dda9ea4"
      },
      "source": [
        "### Código executável\n",
        "\n",
        "- A primeira linha define o valor de `fifa_filepath` para o local onde o conjunto de dados pode ser acessado. Nesse caso, fornecemos o caminho do arquivo para você (entre aspas)._\n",
        "- segunda linha define o valor de `fifa_data` para conter todas as informações do conjunto de dados. Isso é feito com `pd.read_csv`.  - `fifa_filepath` - O caminho do arquivo para o conjunto de dados sempre precisa ser fornecido primeiro."
      ]
    },
    {
      "cell_type": "markdown",
      "metadata": {
        "id": "415b3f4c"
      },
      "source": [
        "- `index_col=\"Date\"` - Quando carregamos o conjunto de dados, queremos que cada entrada na primeira coluna denote uma linha diferente. Para fazer isso, definimos o valor de `index_col` para o nome da primeira coluna (`\"Date\"`, encontrada na célula A1 do arquivo quando ele é aberto no Excel).\n",
        "- `parse_dates=True` - Isso diz ao notebook para entender o rótulo de cada linha como uma data (em oposição a um número ou outro texto com um significado diferente).\n",
        "- O resultado final da execução das duas linhas de código é que agora podemos acessar o conjunto de dados do notebook usando `fifa_data`."
      ]
    },
    {
      "cell_type": "markdown",
      "metadata": {
        "id": "5a028911"
      },
      "source": [
        "# Ver os dados\n",
        "\n",
        "- Agora, vamos dar uma olhada rápida no conjunto de dados em `fifa_data`, para ter certeza de que ele foi carregado corretamente.\n",
        "- Imprimimos as_primeiras_cinco linhas do conjunto de dados escrevendo uma linha de código da seguinte forma:\n",
        " - comece com a variável que contém o dataset (neste caso, `fifa_data`), e então\n",
        " - siga com `.head()`.\n",
        "- Você pode ver isso na linha de código abaixo."
      ]
    },
    {
      "cell_type": "code",
      "execution_count": null,
      "metadata": {
        "execution": {
          "iopub.execute_input": "2022-06-09T00:35:32.294240Z",
          "iopub.status.busy": "2022-06-09T00:35:32.293699Z",
          "iopub.status.idle": "2022-06-09T00:35:32.314060Z",
          "shell.execute_reply": "2022-06-09T00:35:32.313430Z"
        },
        "papermill": {
          "duration": 0.026266,
          "end_time": "2022-06-09T00:35:32.315765",
          "exception": false,
          "start_time": "2022-06-09T00:35:32.289499",
          "status": "completed"
        },
        "pycharm": {
          "name": "#%%\n"
        },
        "tags": [],
        "id": "f0554a7d",
        "outputId": "7c874f7f-c70c-4e9c-b446-47e9d6069fe3"
      },
      "outputs": [
        {
          "data": {
            "text/html": [
              "<div>\n",
              "<style scoped>\n",
              "    .dataframe tbody tr th:only-of-type {\n",
              "        vertical-align: middle;\n",
              "    }\n",
              "\n",
              "    .dataframe tbody tr th {\n",
              "        vertical-align: top;\n",
              "    }\n",
              "\n",
              "    .dataframe thead th {\n",
              "        text-align: right;\n",
              "    }\n",
              "</style>\n",
              "<table border=\"1\" class=\"dataframe\">\n",
              "  <thead>\n",
              "    <tr style=\"text-align: right;\">\n",
              "      <th></th>\n",
              "      <th>ARG</th>\n",
              "      <th>BRA</th>\n",
              "      <th>ESP</th>\n",
              "      <th>FRA</th>\n",
              "      <th>GER</th>\n",
              "      <th>ITA</th>\n",
              "    </tr>\n",
              "    <tr>\n",
              "      <th>Date</th>\n",
              "      <th></th>\n",
              "      <th></th>\n",
              "      <th></th>\n",
              "      <th></th>\n",
              "      <th></th>\n",
              "      <th></th>\n",
              "    </tr>\n",
              "  </thead>\n",
              "  <tbody>\n",
              "    <tr>\n",
              "      <th>1993-08-08</th>\n",
              "      <td>5.0</td>\n",
              "      <td>8.0</td>\n",
              "      <td>13.0</td>\n",
              "      <td>12.0</td>\n",
              "      <td>1.0</td>\n",
              "      <td>2.0</td>\n",
              "    </tr>\n",
              "    <tr>\n",
              "      <th>1993-09-23</th>\n",
              "      <td>12.0</td>\n",
              "      <td>1.0</td>\n",
              "      <td>14.0</td>\n",
              "      <td>7.0</td>\n",
              "      <td>5.0</td>\n",
              "      <td>2.0</td>\n",
              "    </tr>\n",
              "    <tr>\n",
              "      <th>1993-10-22</th>\n",
              "      <td>9.0</td>\n",
              "      <td>1.0</td>\n",
              "      <td>7.0</td>\n",
              "      <td>14.0</td>\n",
              "      <td>4.0</td>\n",
              "      <td>3.0</td>\n",
              "    </tr>\n",
              "    <tr>\n",
              "      <th>1993-11-19</th>\n",
              "      <td>9.0</td>\n",
              "      <td>4.0</td>\n",
              "      <td>7.0</td>\n",
              "      <td>15.0</td>\n",
              "      <td>3.0</td>\n",
              "      <td>1.0</td>\n",
              "    </tr>\n",
              "    <tr>\n",
              "      <th>1993-12-23</th>\n",
              "      <td>8.0</td>\n",
              "      <td>3.0</td>\n",
              "      <td>5.0</td>\n",
              "      <td>15.0</td>\n",
              "      <td>1.0</td>\n",
              "      <td>2.0</td>\n",
              "    </tr>\n",
              "  </tbody>\n",
              "</table>\n",
              "</div>"
            ],
            "text/plain": [
              "             ARG  BRA   ESP   FRA  GER  ITA\n",
              "Date                                       \n",
              "1993-08-08   5.0  8.0  13.0  12.0  1.0  2.0\n",
              "1993-09-23  12.0  1.0  14.0   7.0  5.0  2.0\n",
              "1993-10-22   9.0  1.0   7.0  14.0  4.0  3.0\n",
              "1993-11-19   9.0  4.0   7.0  15.0  3.0  1.0\n",
              "1993-12-23   8.0  3.0   5.0  15.0  1.0  2.0"
            ]
          },
          "execution_count": 4,
          "metadata": {},
          "output_type": "execute_result"
        }
      ],
      "source": [
        "# Ver as primeiras 5 linhas dos dados\n",
        "\n",
        "fifa_data.head()"
      ]
    },
    {
      "cell_type": "markdown",
      "metadata": {
        "id": "6da0d378"
      },
      "source": [
        "- Verifique agora se as cinco primeiras linhas estão de acordo com a imagem do conjunto de dados (_de quando vimos como ficaria no Excel_) acima."
      ]
    },
    {
      "cell_type": "markdown",
      "metadata": {
        "lang": "pt",
        "pycharm": {
          "name": "#%% md\n"
        },
        "id": "617ceee2"
      },
      "source": [
        "# Plotar os dados\n",
        "\n",
        "- Em muitos casos, você só precisará de poucas linhas de código para fazer um gráfico!"
      ]
    },
    {
      "cell_type": "code",
      "execution_count": null,
      "metadata": {
        "execution": {
          "iopub.execute_input": "2022-06-09T00:35:32.330856Z",
          "iopub.status.busy": "2022-06-09T00:35:32.330273Z",
          "iopub.status.idle": "2022-06-09T00:35:32.826571Z",
          "shell.execute_reply": "2022-06-09T00:35:32.825609Z"
        },
        "papermill": {
          "duration": 0.505428,
          "end_time": "2022-06-09T00:35:32.831067",
          "exception": false,
          "start_time": "2022-06-09T00:35:32.325639",
          "status": "completed"
        },
        "pycharm": {
          "name": "#%%\n"
        },
        "tags": [],
        "id": "60c38a0f",
        "outputId": "79a7472d-d17c-4dda-c1ba-1d86c3c153cb"
      },
      "outputs": [
        {
          "data": {
            "text/plain": [
              "<Figure size 1152x432 with 0 Axes>"
            ]
          },
          "metadata": {},
          "output_type": "display_data"
        },
        {
          "data": {
            "image/png": "[encoded data removed]",
            "text/plain": [
              "<Figure size 1152x432 with 1 Axes>"
            ]
          },
          "metadata": {
            "needs_background": "light"
          },
          "output_type": "display_data"
        }
      ],
      "source": [
        "# Defina a largura e a altura da figura\n",
        "plt.figure(figsize=(16,6))\n",
        "\n",
        "# Gráfico de linhas mostrando como os rankings da FIFA evoluíram ao longo do tempo\n",
        "\n",
        "import matplotlib.pyplot as plt\n",
        "import seaborn as sns\n",
        "plt.figure(figsize=(16,6))\n",
        "plt.xlabel(\"Data\")\n",
        "plt.ylabel(\"Ranking\")\n",
        "sns.lineplot(data=fifa_data)\n",
        "plt.show()"
      ]
    },
    {
      "cell_type": "markdown",
      "metadata": {
        "lang": "en",
        "id": "5e00c769"
      },
      "source": []
    },
    {
      "cell_type": "markdown",
      "metadata": {
        "lang": "pt",
        "id": "a9ce7f03"
      },
      "source": [
        "## Exemplo 1:"
      ]
    },
    {
      "cell_type": "code",
      "execution_count": null,
      "metadata": {
        "lang": "pt",
        "id": "4f3308a5",
        "outputId": "7cfc7e69-b404-46cb-80fc-8bae0be3b0bb"
      },
      "outputs": [
        {
          "data": {
            "text/plain": [
              "2021-03-24    0.100202\n",
              "2021-03-25    1.496695\n",
              "2021-03-26    0.112749\n",
              "2021-03-27    1.997233\n",
              "2021-03-28    1.023969\n",
              "                ...   \n",
              "2021-08-28   -0.370649\n",
              "2021-08-29    0.726923\n",
              "2021-08-30    0.520809\n",
              "2021-08-31   -1.382365\n",
              "2021-09-01    0.668663\n",
              "Freq: D, Length: 162, dtype: float64"
            ]
          },
          "execution_count": 6,
          "metadata": {},
          "output_type": "execute_result"
        }
      ],
      "source": [
        "# Criar uma serie\n",
        "import numpy as np\n",
        "rng = pd.date_range('2021-03-24', '2021-09-01', freq='D')\n",
        "ts = pd.Series(np.random.randn(len(rng)), index=rng)\n",
        "ts\n"
      ]
    },
    {
      "cell_type": "code",
      "execution_count": null,
      "metadata": {
        "lang": "pt",
        "id": "e247ffd8",
        "outputId": "98a1353e-84bb-4665-aee7-2a0cbc746de1"
      },
      "outputs": [
        {
          "data": {
            "image/png": "[encoded data removed]",
            "text/plain": [
              "<Figure size 1152x432 with 1 Axes>"
            ]
          },
          "metadata": {
            "needs_background": "light"
          },
          "output_type": "display_data"
        }
      ],
      "source": [
        "# plota a serie\n",
        "plt.figure(figsize=(16,6))\n",
        "plt.xlabel(\"Data\")\n",
        "plt.ylabel(\"Número Aleatório\")\n",
        "sns.lineplot(data=ts)\n",
        "plt.show()\n"
      ]
    },
    {
      "cell_type": "markdown",
      "metadata": {
        "id": "a9ca107e"
      },
      "source": [
        "# Exemplo 2:\n",
        "## Selecione um conjunto de dados\n",
        "\n",
        "- O conjunto de dados que vamos utilizar se baseia nos fluxos diários globais do serviço de streaming de música [Spotify]\n",
        "\n",
        "- Nós nos concentramos em cinco músicas populares entre 2017 e 2018:\n",
        "\n",
        "1. \"Shape of You\", de Ed Sheeran [(link)](https://bit.ly/2tmbfXp)\n",
        "2. \"Despacito\", de Luis Fonzi [(link)](https://bit.ly/2vh7Uy6)\n",
        "3. \"Something Just Like This\", de The Chainsmokers e Coldplay [(link)](https://bit.ly/2OfSsKk)\n",
        "4. \"HUMILDE.\", de Kendrick Lamar [(link)](https://bit.ly/2YlhPw4)\n",
        "5. \"Inesquecível\", de French Montana [(link)](https://bit.ly/2oL7w8b)\n"
      ]
    },
    {
      "cell_type": "markdown",
      "metadata": {
        "id": "8695ae7f"
      },
      "source": [
        "![tut1_spotify_head](https://i.imgur.com/GAGf6Td.png)\n",
        "\n",
        "- Observe que a primeira data que aparece é 6 de janeiro de 2017, correspondente à data de lançamento de \"The Shape of You\", de Ed Sheeran. Na tabela, você pode ver que \"The Shape of You\" foi transmitido 12.287.078 vezes globalmente no dia de seu lançamento. Observe que as outras músicas têm valores ausentes (*missing*) na primeira linha, porque só foram lançadas mais tarde!\n"
      ]
    },
    {
      "cell_type": "markdown",
      "metadata": {
        "id": "2dc3af42"
      },
      "source": [
        "# Carregar os dados\n",
        "\n",
        "- Carregamos o conjunto de dados usando o comando `pd.read_csv`."
      ]
    },
    {
      "cell_type": "code",
      "execution_count": null,
      "metadata": {
        "id": "65ec04bd"
      },
      "outputs": [],
      "source": [
        "# Caminho para o arquivo de dados\n",
        "spotify_filepath = \"data/spotify.csv\"\n",
        "\n",
        "# Ler o arquivo e atribuir os dado a uma variável chamada spotify_data\n",
        "spotify_data = pd.read_csv(spotify_filepath, index_col=\"Date\", parse_dates=True)\n"
      ]
    },
    {
      "cell_type": "markdown",
      "metadata": {
        "lang": "pt",
        "id": "dcfe13ef"
      },
      "source": [
        "# Examinar os dados\n",
        "\n",
        "Podemos imprimir as _primeiras_ cinco linhas do conjunto de dados usando o comando `head` "
      ]
    },
    {
      "cell_type": "code",
      "execution_count": null,
      "metadata": {
        "id": "dbb51ae5",
        "outputId": "0800d3e2-42f2-4199-de5a-54c11ece4a1b"
      },
      "outputs": [
        {
          "data": {
            "text/html": [
              "<div>\n",
              "<style scoped>\n",
              "    .dataframe tbody tr th:only-of-type {\n",
              "        vertical-align: middle;\n",
              "    }\n",
              "\n",
              "    .dataframe tbody tr th {\n",
              "        vertical-align: top;\n",
              "    }\n",
              "\n",
              "    .dataframe thead th {\n",
              "        text-align: right;\n",
              "    }\n",
              "</style>\n",
              "<table border=\"1\" class=\"dataframe\">\n",
              "  <thead>\n",
              "    <tr style=\"text-align: right;\">\n",
              "      <th></th>\n",
              "      <th>Shape of You</th>\n",
              "      <th>Despacito</th>\n",
              "      <th>Something Just Like This</th>\n",
              "      <th>HUMBLE.</th>\n",
              "      <th>Unforgettable</th>\n",
              "    </tr>\n",
              "    <tr>\n",
              "      <th>Date</th>\n",
              "      <th></th>\n",
              "      <th></th>\n",
              "      <th></th>\n",
              "      <th></th>\n",
              "      <th></th>\n",
              "    </tr>\n",
              "  </thead>\n",
              "  <tbody>\n",
              "    <tr>\n",
              "      <th>2017-01-06</th>\n",
              "      <td>12287078</td>\n",
              "      <td>NaN</td>\n",
              "      <td>NaN</td>\n",
              "      <td>NaN</td>\n",
              "      <td>NaN</td>\n",
              "    </tr>\n",
              "    <tr>\n",
              "      <th>2017-01-07</th>\n",
              "      <td>13190270</td>\n",
              "      <td>NaN</td>\n",
              "      <td>NaN</td>\n",
              "      <td>NaN</td>\n",
              "      <td>NaN</td>\n",
              "    </tr>\n",
              "    <tr>\n",
              "      <th>2017-01-08</th>\n",
              "      <td>13099919</td>\n",
              "      <td>NaN</td>\n",
              "      <td>NaN</td>\n",
              "      <td>NaN</td>\n",
              "      <td>NaN</td>\n",
              "    </tr>\n",
              "    <tr>\n",
              "      <th>2017-01-09</th>\n",
              "      <td>14506351</td>\n",
              "      <td>NaN</td>\n",
              "      <td>NaN</td>\n",
              "      <td>NaN</td>\n",
              "      <td>NaN</td>\n",
              "    </tr>\n",
              "    <tr>\n",
              "      <th>2017-01-10</th>\n",
              "      <td>14275628</td>\n",
              "      <td>NaN</td>\n",
              "      <td>NaN</td>\n",
              "      <td>NaN</td>\n",
              "      <td>NaN</td>\n",
              "    </tr>\n",
              "  </tbody>\n",
              "</table>\n",
              "</div>"
            ],
            "text/plain": [
              "            Shape of You  Despacito  Something Just Like This  HUMBLE.  \\\n",
              "Date                                                                     \n",
              "2017-01-06      12287078        NaN                       NaN      NaN   \n",
              "2017-01-07      13190270        NaN                       NaN      NaN   \n",
              "2017-01-08      13099919        NaN                       NaN      NaN   \n",
              "2017-01-09      14506351        NaN                       NaN      NaN   \n",
              "2017-01-10      14275628        NaN                       NaN      NaN   \n",
              "\n",
              "            Unforgettable  \n",
              "Date                       \n",
              "2017-01-06            NaN  \n",
              "2017-01-07            NaN  \n",
              "2017-01-08            NaN  \n",
              "2017-01-09            NaN  \n",
              "2017-01-10            NaN  "
            ]
          },
          "execution_count": 10,
          "metadata": {},
          "output_type": "execute_result"
        }
      ],
      "source": [
        "# Print the first 5 rows of the data\n",
        "spotify_data.head()\n"
      ]
    },
    {
      "cell_type": "markdown",
      "metadata": {
        "lang": "pt",
        "id": "7457052f"
      },
      "source": [
        "- As entradas vazias aparecerão como `NaN`, que é a abreviação de \"Not a Number\".\n",
        "\n",
        "- Também podemos dar uma olhada nas _últimas_ cinco linhas dos dados fazendo apenas uma pequena alteração (substituindo `.head()` por `.tail()`):"
      ]
    },
    {
      "cell_type": "code",
      "execution_count": null,
      "metadata": {
        "id": "61c125e5",
        "outputId": "14bf69cb-2ad4-4f0a-89df-c4e34dfd3e86"
      },
      "outputs": [
        {
          "data": {
            "text/html": [
              "<div>\n",
              "<style scoped>\n",
              "    .dataframe tbody tr th:only-of-type {\n",
              "        vertical-align: middle;\n",
              "    }\n",
              "\n",
              "    .dataframe tbody tr th {\n",
              "        vertical-align: top;\n",
              "    }\n",
              "\n",
              "    .dataframe thead th {\n",
              "        text-align: right;\n",
              "    }\n",
              "</style>\n",
              "<table border=\"1\" class=\"dataframe\">\n",
              "  <thead>\n",
              "    <tr style=\"text-align: right;\">\n",
              "      <th></th>\n",
              "      <th>Shape of You</th>\n",
              "      <th>Despacito</th>\n",
              "      <th>Something Just Like This</th>\n",
              "      <th>HUMBLE.</th>\n",
              "      <th>Unforgettable</th>\n",
              "    </tr>\n",
              "    <tr>\n",
              "      <th>Date</th>\n",
              "      <th></th>\n",
              "      <th></th>\n",
              "      <th></th>\n",
              "      <th></th>\n",
              "      <th></th>\n",
              "    </tr>\n",
              "  </thead>\n",
              "  <tbody>\n",
              "    <tr>\n",
              "      <th>2018-01-05</th>\n",
              "      <td>4492978</td>\n",
              "      <td>3450315.0</td>\n",
              "      <td>2408365.0</td>\n",
              "      <td>2685857.0</td>\n",
              "      <td>2869783.0</td>\n",
              "    </tr>\n",
              "    <tr>\n",
              "      <th>2018-01-06</th>\n",
              "      <td>4416476</td>\n",
              "      <td>3394284.0</td>\n",
              "      <td>2188035.0</td>\n",
              "      <td>2559044.0</td>\n",
              "      <td>2743748.0</td>\n",
              "    </tr>\n",
              "    <tr>\n",
              "      <th>2018-01-07</th>\n",
              "      <td>4009104</td>\n",
              "      <td>3020789.0</td>\n",
              "      <td>1908129.0</td>\n",
              "      <td>2350985.0</td>\n",
              "      <td>2441045.0</td>\n",
              "    </tr>\n",
              "    <tr>\n",
              "      <th>2018-01-08</th>\n",
              "      <td>4135505</td>\n",
              "      <td>2755266.0</td>\n",
              "      <td>2023251.0</td>\n",
              "      <td>2523265.0</td>\n",
              "      <td>2622693.0</td>\n",
              "    </tr>\n",
              "    <tr>\n",
              "      <th>2018-01-09</th>\n",
              "      <td>4168506</td>\n",
              "      <td>2791601.0</td>\n",
              "      <td>2058016.0</td>\n",
              "      <td>2727678.0</td>\n",
              "      <td>2627334.0</td>\n",
              "    </tr>\n",
              "  </tbody>\n",
              "</table>\n",
              "</div>"
            ],
            "text/plain": [
              "            Shape of You  Despacito  Something Just Like This    HUMBLE.  \\\n",
              "Date                                                                       \n",
              "2018-01-05       4492978  3450315.0                 2408365.0  2685857.0   \n",
              "2018-01-06       4416476  3394284.0                 2188035.0  2559044.0   \n",
              "2018-01-07       4009104  3020789.0                 1908129.0  2350985.0   \n",
              "2018-01-08       4135505  2755266.0                 2023251.0  2523265.0   \n",
              "2018-01-09       4168506  2791601.0                 2058016.0  2727678.0   \n",
              "\n",
              "            Unforgettable  \n",
              "Date                       \n",
              "2018-01-05      2869783.0  \n",
              "2018-01-06      2743748.0  \n",
              "2018-01-07      2441045.0  \n",
              "2018-01-08      2622693.0  \n",
              "2018-01-09      2627334.0  "
            ]
          },
          "execution_count": 11,
          "metadata": {},
          "output_type": "execute_result"
        }
      ],
      "source": [
        "# Print the last five rows of the data\n",
        "spotify_data.tail()\n"
      ]
    },
    {
      "cell_type": "markdown",
      "metadata": {
        "lang": "pt",
        "id": "3697a151"
      },
      "source": [
        "# Plotar os dados\n",
        "\n",
        "- Agora que o conjunto de dados está carregado no notebook, precisamos apenas de uma linha de código para fazer um gráfico de linhas!"
      ]
    },
    {
      "cell_type": "code",
      "execution_count": null,
      "metadata": {
        "id": "128925e8",
        "outputId": "07b2de18-7ff2-4bb0-c29c-f272384382b7"
      },
      "outputs": [
        {
          "data": {
            "text/plain": [
              "<AxesSubplot:xlabel='Date'>"
            ]
          },
          "execution_count": 12,
          "metadata": {},
          "output_type": "execute_result"
        },
        {
          "data": {
            "image/png": "[encoded data removed]",
            "text/plain": [
              "<Figure size 432x288 with 1 Axes>"
            ]
          },
          "metadata": {
            "needs_background": "light"
          },
          "output_type": "display_data"
        }
      ],
      "source": [
        "# Gráfico de linhas mostrando streams diários de cada música\n",
        "sns.lineplot(data=spotify_data)\n"
      ]
    },
    {
      "cell_type": "markdown",
      "metadata": {
        "lang": "en",
        "id": "e3a9a72d"
      },
      "source": [
        "As you can see above, the line of code is relatively short and has two main components:\n",
        "- `sns.lineplot` tells the notebook that we want to create a line chart. \n",
        " - _Every command that you learn about in this course will start with `sns`, which indicates that the command comes from the [seaborn](https://seaborn.pydata.org/) package. For instance, we use `sns.lineplot` to make line charts.  Soon, you'll learn that we use `sns.barplot` and `sns.heatmap` to make bar charts and heatmaps, respectively._\n",
        "- `data=spotify_data` selects the data that will be used to create the chart.\n"
      ]
    },
    {
      "cell_type": "markdown",
      "metadata": {
        "lang": "pt",
        "id": "cfb0c98c"
      },
      "source": [
        "Como você pode ver acima, a linha de código é relativamente curta e tem dois componentes principais:\n",
        "- `sns.lineplot` informa ao notebook que queremos criar um gráfico de linhas.\n",
        " - _Todo comando que você aprender neste curso começará com `sns`, que indica que o comando vem do pacote [seaborn](https://seaborn.pydata.org/). Por exemplo, usamos `sns.lineplot` para fazer gráficos de linhas. Usamos `sns.barplot` e `sns.heatmap` para fazer gráficos de barras e mapas de calor, respectivamente._\n",
        "- `data=spotify_data` seleciona os dados que serão usados ​​para criar o gráfico."
      ]
    },
    {
      "cell_type": "markdown",
      "metadata": {
        "lang": "pt",
        "id": "a5ea3fd6"
      },
      "source": [
        "- Observe que você sempre usará esse mesmo formato ao criar um gráfico de linhas e **_a única coisa que muda com um novo conjunto de dados é o nome do conjunto de dados_**. \n",
        "- Então, se você estivesse trabalhando com um conjunto de dados diferente, chamado `financial_data`, por exemplo, a linha de código apareceria da seguinte forma:\n",
        "```\n",
        "sns.lineplot(dados=financeiro_dados)\n",
        "```"
      ]
    },
    {
      "cell_type": "markdown",
      "metadata": {
        "lang": "pt",
        "id": "8274426c"
      },
      "source": [
        "- Às vezes, há detalhes adicionais que gostaríamos de modificar, como o tamanho da figura e o título do gráfico (exceto artigos científicos).\n",
        "- Em artigos científicos, é melhor colocar o título através do editor de texto, e não através do python.\n",
        "- Cada uma dessas opções pode ser facilmente configurada com uma única linha de código."
      ]
    },
    {
      "cell_type": "code",
      "execution_count": null,
      "metadata": {
        "lang": "pt",
        "id": "3eafc016",
        "outputId": "68c79553-a50f-4685-b450-e8aef8338269"
      },
      "outputs": [
        {
          "data": {
            "text/plain": [
              "<AxesSubplot:title={'center':'Transmissões mundiais diárias de músicas populares em 2017-2018'}, xlabel='Date'>"
            ]
          },
          "execution_count": 15,
          "metadata": {},
          "output_type": "execute_result"
        },
        {
          "data": {
            "image/png": "[encoded data removed]",
            "text/plain": [
              "<Figure size 1008x432 with 1 Axes>"
            ]
          },
          "metadata": {
            "needs_background": "light"
          },
          "output_type": "display_data"
        }
      ],
      "source": [
        "# Defina a largura e a altura da figura\n",
        "plt.figure(figsize=(14,6))\n",
        "\n",
        "# Adiciona título\n",
        "plt.title(\"Transmissões mundiais diárias de músicas populares em 2017-2018\")\n",
        "\n",
        "# Gráfico de linhas mostrando streams mundiais diários de cada música\n",
        "sns.lineplot(data=spotify_data)"
      ]
    },
    {
      "cell_type": "markdown",
      "metadata": {
        "lang": "pt",
        "id": "529f5cf0"
      },
      "source": [
        "- A primeira linha de código define o tamanho da figura para `14` polegadas (de largura) por `6` polegadas (de altura). Para definir o tamanho de _qualquer figura_, você só precisa copiar a mesma linha de código que aparece. Então, se você quiser usar um tamanho personalizado, altere os valores fornecidos de `14` e `6` para a largura e altura desejadas.\n",
        "- A segunda linha de código define o título da figura. Observe que o título deve *sempre* estar entre aspas (`\"...\"`)!"
      ]
    },
    {
      "cell_type": "markdown",
      "metadata": {
        "lang": "pt",
        "id": "3886021d"
      },
      "source": [
        "# Plotar um subconjunto dos dados\n",
        "\n",
        "- Até agora, traçamos uma linha para _cada_ coluna no conjunto de dados. Porém, podemos plotar um _subconjunto_ das colunas.\n",
        "\n",
        "- Começaremos imprimindo os nomes de todas as colunas. Isso é feito com uma linha de código e pode ser adaptado para qualquer conjunto de dados apenas trocando o nome do conjunto de dados (neste caso, `spotify_data`)."
      ]
    },
    {
      "cell_type": "code",
      "execution_count": null,
      "metadata": {
        "id": "81490515",
        "outputId": "67345527-1850-41e1-a669-fa877aeaa990"
      },
      "outputs": [
        {
          "data": {
            "text/plain": [
              "['Shape of You',\n",
              " 'Despacito',\n",
              " 'Something Just Like This',\n",
              " 'HUMBLE.',\n",
              " 'Unforgettable']"
            ]
          },
          "execution_count": 6,
          "metadata": {},
          "output_type": "execute_result"
        }
      ],
      "source": [
        "list(spotify_data.columns)"
      ]
    },
    {
      "cell_type": "markdown",
      "metadata": {
        "lang": "pt",
        "id": "efa04928"
      },
      "source": [
        "- Na próxima célula de código, plotamos as linhas correspondentes às duas primeiras colunas do conjunto de dados."
      ]
    },
    {
      "cell_type": "code",
      "execution_count": null,
      "metadata": {
        "lang": "pt",
        "id": "a5c598d7",
        "outputId": "a603d265-9cfd-40c8-accf-a264ea6b47ca"
      },
      "outputs": [
        {
          "data": {
            "text/plain": [
              "Text(0.5, 0, 'Data')"
            ]
          },
          "execution_count": 7,
          "metadata": {},
          "output_type": "execute_result"
        },
        {
          "data": {
            "image/png": "[encoded data removed]",
            "text/plain": [
              "<Figure size 1008x432 with 1 Axes>"
            ]
          },
          "metadata": {
            "needs_background": "light"
          },
          "output_type": "display_data"
        }
      ],
      "source": [
        "# Defina a largura e a altura da figura\n",
        "plt.figure(figsize=(14,6))\n",
        "\n",
        "# Adiciona título\n",
        "plt.title(\"Transmissões mundiais diárias de músicas populares em 2017-2018\")\n",
        "\n",
        "# Gráfico de linhas mostrando streams globais diários de 'Shape of You'\n",
        "sns.lineplot(data=spotify_data['Shape of You'], label=\"Shape of You\")\n",
        "\n",
        "# Gráfico de linhas mostrando streams globais diários de 'Despacito'\n",
        "sns.lineplot(data=spotify_data['Despacito'], label=\"Despacito\")\n",
        "\n",
        "# Adiciona rótulo para eixo horizontal\n",
        "plt.xlabel(\"Data\")"
      ]
    },
    {
      "cell_type": "markdown",
      "metadata": {
        "lang": "pt",
        "id": "53cd28a6"
      },
      "source": [
        "- As duas primeiras linhas de código definem o título e o tamanho da figura.\n",
        "- As próximas duas linhas adicionam uma linha ao gráfico de linhas. Por exemplo, considere o primeiro, que adiciona a linha para \"Shape of You\":\n",
        "``` python\n",
        "# Gráfico de linhas mostrando streams globais diários de 'Shape of You'\n",
        "sns.lineplot(data=spotify_data['Shape of You'], label=\"Shape of You\")\n",
        "```"
      ]
    },
    {
      "cell_type": "markdown",
      "metadata": {
        "id": "aa2aac96"
      },
      "source": [
        "- Essa linha parece muito com o código que usamos quando plotamos cada linha no conjunto de dados, mas tem algumas diferenças importantes:\n",
        "- Em vez de definir `data=spotify_data`, definimos `data=spotify_data['Shape of You']`. \n",
        "- Em geral, para plotar apenas uma única coluna, usamos esse formato colocando o nome da coluna entre aspas simples e entre colchetes. (_Para certificar-se de que você especificou corretamente o nome da coluna, você pode imprimir a lista de todos os nomes de coluna usando o comando que você aprendeu acima._)\n",
        "- Também adicionamos `label=\"Shape of You\"` para fazer a linha aparecer na legenda e definir seu rótulo correspondente.\n",
        "\n",
        "- A linha final do código modifica o rótulo para o eixo horizontal (ou eixo x), onde o rótulo desejado é colocado entre aspas (`\"...\"`)."
      ]
    },
    {
      "cell_type": "markdown",
      "metadata": {
        "id": "7fdb0dac"
      },
      "source": [
        "## Exemplo 3: Poluição\n",
        "\n",
        "- Os dados são do Our World in Data (OWID)\n",
        "site, uma coleção de estatísticas e artigos sobre o estado do mundo, mantido\n",
        "por Max Roser, diretor de pesquisa em economia da Universidade de Oxford."
      ]
    },
    {
      "cell_type": "code",
      "execution_count": null,
      "metadata": {
        "id": "40b2404d"
      },
      "outputs": [],
      "source": [
        "# importar a biblioteca datetime\n",
        "import datetime"
      ]
    },
    {
      "cell_type": "code",
      "execution_count": null,
      "metadata": {
        "id": "b2a44963"
      },
      "outputs": [],
      "source": [
        "# No pandas, você pode digitar a URL diretamente no read_csv()\n",
        "pollution = pd.read_csv(\n",
        "    'https://raw.githubusercontent.com/owid/owid-datasets/master/datasets/Air%20pollution%20by%20city%20-%20Fouquet%20and%20DPCC%20(2011)/Air%20pollution%20by%20city%20-%20Fouquet%20and%20DPCC%20(2011).csv'\n",
        ")"
      ]
    },
    {
      "cell_type": "code",
      "execution_count": null,
      "metadata": {
        "id": "7ef2ba80",
        "outputId": "9b6409b8-f660-4d9c-ad80-d4f7b9493832"
      },
      "outputs": [
        {
          "data": {
            "text/plain": [
              "Index(['Entity', 'Year', 'Smoke (Fouquet and DPCC (2011))',\n",
              "       'Suspended Particulate Matter (SPM) (Fouquet and DPCC (2011))'],\n",
              "      dtype='object')"
            ]
          },
          "execution_count": 5,
          "metadata": {},
          "output_type": "execute_result"
        }
      ],
      "source": [
        "# Listar as colunas\n",
        "pollution.columns"
      ]
    },
    {
      "cell_type": "code",
      "execution_count": null,
      "metadata": {
        "id": "df405e03",
        "outputId": "1188cd7e-ae8c-4b1f-ba25-259df5d0f160"
      },
      "outputs": [
        {
          "data": {
            "text/html": [
              "<div>\n",
              "<style scoped>\n",
              "    .dataframe tbody tr th:only-of-type {\n",
              "        vertical-align: middle;\n",
              "    }\n",
              "\n",
              "    .dataframe tbody tr th {\n",
              "        vertical-align: top;\n",
              "    }\n",
              "\n",
              "    .dataframe thead th {\n",
              "        text-align: right;\n",
              "    }\n",
              "</style>\n",
              "<table border=\"1\" class=\"dataframe\">\n",
              "  <thead>\n",
              "    <tr style=\"text-align: right;\">\n",
              "      <th></th>\n",
              "      <th>Entity</th>\n",
              "      <th>Year</th>\n",
              "      <th>Smoke (Fouquet and DPCC (2011))</th>\n",
              "      <th>Suspended Particulate Matter (SPM) (Fouquet and DPCC (2011))</th>\n",
              "    </tr>\n",
              "  </thead>\n",
              "  <tbody>\n",
              "    <tr>\n",
              "      <th>0</th>\n",
              "      <td>Delhi</td>\n",
              "      <td>1997</td>\n",
              "      <td>NaN</td>\n",
              "      <td>363.0</td>\n",
              "    </tr>\n",
              "    <tr>\n",
              "      <th>1</th>\n",
              "      <td>Delhi</td>\n",
              "      <td>1998</td>\n",
              "      <td>NaN</td>\n",
              "      <td>378.0</td>\n",
              "    </tr>\n",
              "    <tr>\n",
              "      <th>2</th>\n",
              "      <td>Delhi</td>\n",
              "      <td>1999</td>\n",
              "      <td>NaN</td>\n",
              "      <td>375.0</td>\n",
              "    </tr>\n",
              "    <tr>\n",
              "      <th>3</th>\n",
              "      <td>Delhi</td>\n",
              "      <td>2000</td>\n",
              "      <td>NaN</td>\n",
              "      <td>431.0</td>\n",
              "    </tr>\n",
              "    <tr>\n",
              "      <th>4</th>\n",
              "      <td>Delhi</td>\n",
              "      <td>2001</td>\n",
              "      <td>NaN</td>\n",
              "      <td>382.0</td>\n",
              "    </tr>\n",
              "  </tbody>\n",
              "</table>\n",
              "</div>"
            ],
            "text/plain": [
              "  Entity  Year  Smoke (Fouquet and DPCC (2011))  \\\n",
              "0  Delhi  1997                              NaN   \n",
              "1  Delhi  1998                              NaN   \n",
              "2  Delhi  1999                              NaN   \n",
              "3  Delhi  2000                              NaN   \n",
              "4  Delhi  2001                              NaN   \n",
              "\n",
              "   Suspended Particulate Matter (SPM) (Fouquet and DPCC (2011))  \n",
              "0                                              363.0             \n",
              "1                                              378.0             \n",
              "2                                              375.0             \n",
              "3                                              431.0             \n",
              "4                                              382.0             "
            ]
          },
          "execution_count": 7,
          "metadata": {},
          "output_type": "execute_result"
        }
      ],
      "source": [
        "# Listar as primeiras 5 linhas do DataFrame\n",
        "pollution.head()"
      ]
    },
    {
      "cell_type": "code",
      "execution_count": null,
      "metadata": {
        "id": "634802f9"
      },
      "outputs": [],
      "source": [
        "# Renomear as colunas\n",
        "pollution = pollution.rename(\n",
        "    columns={\n",
        "        'Suspended Particulate Matter (SPM) (Fouquet and DPCC (2011))': 'SPM',\n",
        "        'Entity': 'City',\n",
        "        'Smoke (Fouquet and DPCC (2011))' : 'Smoke'\n",
        "    }\n",
        ")"
      ]
    },
    {
      "cell_type": "code",
      "execution_count": null,
      "metadata": {
        "id": "0d8eba8d",
        "outputId": "df0d9143-6422-4d5b-853c-4e21855cf75a"
      },
      "outputs": [
        {
          "data": {
            "text/plain": [
              "City      object\n",
              "Year       int64\n",
              "Smoke    float64\n",
              "SPM      float64\n",
              "dtype: object"
            ]
          },
          "execution_count": 9,
          "metadata": {},
          "output_type": "execute_result"
        }
      ],
      "source": [
        "# Tipo de cada variável\n",
        "pollution.dtypes"
      ]
    },
    {
      "cell_type": "code",
      "execution_count": null,
      "metadata": {
        "id": "d4cbcaad",
        "outputId": "5d6ddd10-5a3d-4888-fda6-a551bdcf3fc0"
      },
      "outputs": [
        {
          "data": {
            "text/plain": [
              "array(['Delhi', 'London'], dtype=object)"
            ]
          },
          "execution_count": 10,
          "metadata": {},
          "output_type": "execute_result"
        }
      ],
      "source": [
        "# Listar as diferentes cidades que estão no DataFrame\n",
        "pollution['City'].unique()"
      ]
    },
    {
      "cell_type": "code",
      "execution_count": null,
      "metadata": {
        "id": "afa0c79a",
        "outputId": "655a0c04-1cbc-451d-fe21-c6ddf98e32a1"
      },
      "outputs": [
        {
          "data": {
            "text/plain": [
              "(1700, 2016)"
            ]
          },
          "execution_count": 11,
          "metadata": {},
          "output_type": "execute_result"
        }
      ],
      "source": [
        "# Os maiores e menores valores da variável ano são:\n",
        "pollution.Year.min(), pollution.Year.max()"
      ]
    },
    {
      "cell_type": "code",
      "execution_count": null,
      "metadata": {
        "id": "cd20f20f",
        "outputId": "f229e0bd-f173-427e-e1c8-03fe996209ad"
      },
      "outputs": [
        {
          "data": {
            "text/plain": [
              "City             object\n",
              "Year     datetime64[ns]\n",
              "Smoke           float64\n",
              "SPM             float64\n",
              "dtype: object"
            ]
          },
          "execution_count": 12,
          "metadata": {},
          "output_type": "execute_result"
        }
      ],
      "source": [
        "# Converter a variável ano de int64 para datetime\n",
        "pollution['Year'] = pollution['Year'].apply(\n",
        "lambda x: datetime.datetime.strptime(str(x), '%Y')\n",
        ")\n",
        "\n",
        "#Alternativa para converter a variável ano de int64 para datetime\n",
        "#pollution['Year'] = pd.to_datetime(pollution['Year'])\n",
        "# Cuidado: Esse dataframe tem dados anteriores a 1900!\n",
        "\n",
        "pollution.dtypes"
      ]
    },
    {
      "cell_type": "code",
      "execution_count": null,
      "metadata": {
        "id": "31268e51",
        "outputId": "806b1ee6-03bb-437f-ef7b-35f51db1017e"
      },
      "outputs": [
        {
          "name": "stdout",
          "output_type": "stream",
          "text": [
            "1700-01-01 00:00:00 2016-01-01 00:00:00\n"
          ]
        }
      ],
      "source": [
        "# Verificar se as datas foram convertidas corretamente\n",
        "print(pollution.Year.min(), pollution.Year.max())"
      ]
    },
    {
      "cell_type": "code",
      "execution_count": null,
      "metadata": {
        "id": "78d5b190",
        "outputId": "a8585165-aeac-4254-863f-adbf67cfab0e"
      },
      "outputs": [
        {
          "data": {
            "text/html": [
              "<div>\n",
              "<style scoped>\n",
              "    .dataframe tbody tr th:only-of-type {\n",
              "        vertical-align: middle;\n",
              "    }\n",
              "\n",
              "    .dataframe tbody tr th {\n",
              "        vertical-align: top;\n",
              "    }\n",
              "\n",
              "    .dataframe thead th {\n",
              "        text-align: right;\n",
              "    }\n",
              "</style>\n",
              "<table border=\"1\" class=\"dataframe\">\n",
              "  <thead>\n",
              "    <tr style=\"text-align: right;\">\n",
              "      <th></th>\n",
              "      <th>City</th>\n",
              "      <th>Year</th>\n",
              "      <th>Smoke</th>\n",
              "      <th>SPM</th>\n",
              "    </tr>\n",
              "  </thead>\n",
              "  <tbody>\n",
              "    <tr>\n",
              "      <th>0</th>\n",
              "      <td>Delhi</td>\n",
              "      <td>1997-01-01</td>\n",
              "      <td>NaN</td>\n",
              "      <td>363.0</td>\n",
              "    </tr>\n",
              "    <tr>\n",
              "      <th>1</th>\n",
              "      <td>Delhi</td>\n",
              "      <td>1998-01-01</td>\n",
              "      <td>NaN</td>\n",
              "      <td>378.0</td>\n",
              "    </tr>\n",
              "    <tr>\n",
              "      <th>2</th>\n",
              "      <td>Delhi</td>\n",
              "      <td>1999-01-01</td>\n",
              "      <td>NaN</td>\n",
              "      <td>375.0</td>\n",
              "    </tr>\n",
              "    <tr>\n",
              "      <th>3</th>\n",
              "      <td>Delhi</td>\n",
              "      <td>2000-01-01</td>\n",
              "      <td>NaN</td>\n",
              "      <td>431.0</td>\n",
              "    </tr>\n",
              "    <tr>\n",
              "      <th>4</th>\n",
              "      <td>Delhi</td>\n",
              "      <td>2001-01-01</td>\n",
              "      <td>NaN</td>\n",
              "      <td>382.0</td>\n",
              "    </tr>\n",
              "  </tbody>\n",
              "</table>\n",
              "</div>"
            ],
            "text/plain": [
              "    City       Year  Smoke    SPM\n",
              "0  Delhi 1997-01-01    NaN  363.0\n",
              "1  Delhi 1998-01-01    NaN  378.0\n",
              "2  Delhi 1999-01-01    NaN  375.0\n",
              "3  Delhi 2000-01-01    NaN  431.0\n",
              "4  Delhi 2001-01-01    NaN  382.0"
            ]
          },
          "execution_count": 14,
          "metadata": {},
          "output_type": "execute_result"
        }
      ],
      "source": [
        "# Listar as primeiras 5 linhas do DataFrame\n",
        "pollution.head()"
      ]
    },
    {
      "cell_type": "code",
      "execution_count": null,
      "metadata": {
        "id": "afe06561",
        "outputId": "5a33de93-4816-4125-a23e-3a5968dcf78d"
      },
      "outputs": [
        {
          "data": {
            "text/plain": [
              "City     0.000000\n",
              "Year     0.000000\n",
              "Smoke    0.090634\n",
              "SPM      0.000000\n",
              "dtype: float64"
            ]
          },
          "execution_count": 15,
          "metadata": {},
          "output_type": "execute_result"
        }
      ],
      "source": [
        "# Calcular o percentual de NANs (valores ausentes)\n",
        "pollution.isnull().sum() / len(pollution)\n"
      ]
    },
    {
      "cell_type": "code",
      "execution_count": null,
      "metadata": {
        "id": "0804523c",
        "outputId": "01af9f95-5f05-45d1-eb4d-40e0ce07ac9f"
      },
      "outputs": [
        {
          "data": {
            "text/html": [
              "<div>\n",
              "<style scoped>\n",
              "    .dataframe tbody tr th:only-of-type {\n",
              "        vertical-align: middle;\n",
              "    }\n",
              "\n",
              "    .dataframe tbody tr th {\n",
              "        vertical-align: top;\n",
              "    }\n",
              "\n",
              "    .dataframe thead th {\n",
              "        text-align: right;\n",
              "    }\n",
              "</style>\n",
              "<table border=\"1\" class=\"dataframe\">\n",
              "  <thead>\n",
              "    <tr style=\"text-align: right;\">\n",
              "      <th></th>\n",
              "      <th>Smoke</th>\n",
              "      <th>SPM</th>\n",
              "    </tr>\n",
              "  </thead>\n",
              "  <tbody>\n",
              "    <tr>\n",
              "      <th>count</th>\n",
              "      <td>301.000000</td>\n",
              "      <td>331.000000</td>\n",
              "    </tr>\n",
              "    <tr>\n",
              "      <th>mean</th>\n",
              "      <td>210.296440</td>\n",
              "      <td>365.970050</td>\n",
              "    </tr>\n",
              "    <tr>\n",
              "      <th>std</th>\n",
              "      <td>88.543288</td>\n",
              "      <td>172.512674</td>\n",
              "    </tr>\n",
              "    <tr>\n",
              "      <th>min</th>\n",
              "      <td>13.750000</td>\n",
              "      <td>15.000000</td>\n",
              "    </tr>\n",
              "    <tr>\n",
              "      <th>25%</th>\n",
              "      <td>168.571429</td>\n",
              "      <td>288.474026</td>\n",
              "    </tr>\n",
              "    <tr>\n",
              "      <th>50%</th>\n",
              "      <td>208.214286</td>\n",
              "      <td>375.324675</td>\n",
              "    </tr>\n",
              "    <tr>\n",
              "      <th>75%</th>\n",
              "      <td>291.818182</td>\n",
              "      <td>512.609209</td>\n",
              "    </tr>\n",
              "    <tr>\n",
              "      <th>max</th>\n",
              "      <td>342.857143</td>\n",
              "      <td>623.376623</td>\n",
              "    </tr>\n",
              "  </tbody>\n",
              "</table>\n",
              "</div>"
            ],
            "text/plain": [
              "            Smoke         SPM\n",
              "count  301.000000  331.000000\n",
              "mean   210.296440  365.970050\n",
              "std     88.543288  172.512674\n",
              "min     13.750000   15.000000\n",
              "25%    168.571429  288.474026\n",
              "50%    208.214286  375.324675\n",
              "75%    291.818182  512.609209\n",
              "max    342.857143  623.376623"
            ]
          },
          "execution_count": 16,
          "metadata": {},
          "output_type": "execute_result"
        }
      ],
      "source": [
        "# Análise descritiva\n",
        "pollution.describe()"
      ]
    },
    {
      "cell_type": "code",
      "execution_count": null,
      "metadata": {
        "id": "5767d60c",
        "outputId": "3421f149-5a6a-4e23-9e7c-a6ad366e5e4e"
      },
      "outputs": [
        {
          "data": {
            "image/png": "[encoded data removed]",
            "text/plain": [
              "<Figure size 864x432 with 1 Axes>"
            ]
          },
          "metadata": {
            "needs_background": "light"
          },
          "output_type": "display_data"
        }
      ],
      "source": [
        "# Série temporal da SPM\n",
        "pollution = pollution.pivot(\"Year\", \"City\", \"SPM\")\n",
        "plt.figure(figsize=(12, 6))\n",
        "sns.lineplot(data=pollution)\n",
        "plt.ylabel('SPM');"
      ]
    },
    {
      "cell_type": "markdown",
      "source": [
        "# Referências\n",
        "\n",
        "- https://pandas.pydata.org/Pandas_Cheat_Sheet.pdf\n",
        "- Auffarth, B. (2021). Machine Learning for Time-Series with Python_ Forecast, predict, and detect anomalies with state-of-the-art machine learning methods, Packt Publishing\n",
        "- https://kaggle.com"
      ],
      "metadata": {
        "id": "qnp6WM6AaW8r"
      }
    },
    {
      "cell_type": "markdown",
      "source": [
        "# Exercícios de Python\n",
        "\n",
        "## Exercício 1\n",
        "\n",
        "Faça um 'BlockGrid' 5x5 da sua cor favorita e atribua-o a uma variável chamada `grade`.\n",
        "\n"
      ],
      "metadata": {
        "id": "3owRlRB9Z9he"
      }
    },
    {
      "cell_type": "code",
      "source": [],
      "metadata": {
        "id": "aFouWUJyaSQt"
      },
      "execution_count": null,
      "outputs": []
    },
    {
      "cell_type": "markdown",
      "source": [
        "## Exercício 2\n",
        "\n",
        "Mude a cor dos blocos da terceira linha e da quarta coluna.\n",
        "\n"
      ],
      "metadata": {
        "id": "WgBRWx-PB8Kl"
      }
    },
    {
      "cell_type": "code",
      "source": [],
      "metadata": {
        "id": "YIg1cxq1aTZb"
      },
      "execution_count": null,
      "outputs": []
    },
    {
      "cell_type": "markdown",
      "source": [
        "## Exercício 3\n",
        "\n",
        "Mude a cor do bloco no canto inferior direito da grade.\n",
        "\n"
      ],
      "metadata": {
        "id": "dRQ54AkIaUVr"
      }
    },
    {
      "cell_type": "code",
      "source": [],
      "metadata": {
        "id": "5gJy6J6jartR"
      },
      "execution_count": null,
      "outputs": []
    },
    {
      "cell_type": "markdown",
      "source": [
        "## Exercício 4\n",
        "\n",
        "Use indexação negativa para mudar a cor do bloco na segunda linha\n",
        "e primeira coluna.\n"
      ],
      "metadata": {
        "id": "s8zypO2Eaqdt"
      }
    },
    {
      "cell_type": "code",
      "source": [],
      "metadata": {
        "id": "gM0wII17aw5y"
      },
      "execution_count": null,
      "outputs": []
    },
    {
      "cell_type": "markdown",
      "source": [
        "\n",
        "## Exercício 5\n",
        "\n",
        "Utilize uma repetição *for loop* para mudar a cor de cada bloco de sua grade.\n",
        "\n"
      ],
      "metadata": {
        "id": "KIuajXu5a1tp"
      }
    },
    {
      "cell_type": "code",
      "source": [],
      "metadata": {
        "id": "sKfomwsUa-Cr"
      },
      "execution_count": null,
      "outputs": []
    },
    {
      "cell_type": "markdown",
      "source": [
        "## Exercício 6\n",
        "\n",
        "Utilize uma repetição *for loop* e uma condição \"se\" para mudar a cor de cada bloco\n",
        "na quarta *coluna* de sua grade.\n"
      ],
      "metadata": {
        "id": "k-Gq3kqDa-mt"
      }
    },
    {
      "cell_type": "code",
      "source": [],
      "metadata": {
        "id": "riQjJnqBbCXQ"
      },
      "execution_count": null,
      "outputs": []
    },
    {
      "cell_type": "markdown",
      "source": [
        "\n",
        "## Exercício 7\n",
        "\n",
        "Amplie seu código do Exercício 6 com um 'elif' e um 'else' para mudar a cor de todos os blocos em sua grade. Mas deixe a segunda coluna vermelha, a\n",
        "terceira coluna verde, e todos os outros blocos dourados.\n",
        "\n"
      ],
      "metadata": {
        "id": "bWTDuYFubC6d"
      }
    },
    {
      "cell_type": "code",
      "source": [],
      "metadata": {
        "id": "nAxeqD6ebKMy"
      },
      "execution_count": null,
      "outputs": []
    },
    {
      "cell_type": "markdown",
      "source": [
        "## Exercício 8\n",
        "\n",
        "Utilize um \"se\" com um \"ou\" para mudar a cor dos blocos da primeira e da quinta linhas para preto.\n",
        "\n"
      ],
      "metadata": {
        "id": "EEPPy69UbLml"
      }
    },
    {
      "cell_type": "code",
      "source": [],
      "metadata": {
        "id": "gFQOdPiTbPaC"
      },
      "execution_count": null,
      "outputs": []
    },
    {
      "cell_type": "markdown",
      "source": [
        "## Exercício 9\n",
        "\n",
        "Utilize um condicional \"se\" com uma condição \"e\" para mudar a cor cada bloco que está na\n",
        "quarta coluna E que seja preto para azul.\n",
        "\n"
      ],
      "metadata": {
        "id": "BHISAcO9bP5n"
      }
    },
    {
      "cell_type": "code",
      "source": [],
      "metadata": {
        "id": "Mk3O3s6IbS0P"
      },
      "execution_count": null,
      "outputs": []
    },
    {
      "cell_type": "markdown",
      "source": [
        "## Exercício 10\n",
        "\n",
        "Faça uma nova grade de blocos de tamanho 20 por 20. Utilize uma repetição \"for loop\" com \"range\" para mudar a cor de cada bloco da terceira, 10ª e 18ª linhas.\n",
        "\n"
      ],
      "metadata": {
        "id": "Zx2efJWtbTPP"
      }
    },
    {
      "cell_type": "code",
      "source": [],
      "metadata": {
        "id": "7DpcB2AGbYsI"
      },
      "execution_count": null,
      "outputs": []
    },
    {
      "cell_type": "markdown",
      "source": [
        "## Exercício 11\n",
        "\n",
        "Utilize repetições \"for loop\" aninhados com \"range\" para mudar a cor do quadrante inferior esquerdo de sua grade 20 por 20 (ou seja, mude a cor das linhas de 10 a 20 e as colunas de 0 a 10).\n",
        "\n"
      ],
      "metadata": {
        "id": "flwNzpKAbZQo"
      }
    },
    {
      "cell_type": "code",
      "source": [],
      "metadata": {
        "id": "sLSR_afUbcKZ"
      },
      "execution_count": null,
      "outputs": []
    },
    {
      "cell_type": "markdown",
      "source": [
        "## Exercício 12\n",
        "\n",
        "Tente obter os mesmos resultados que nos Exercícios 10 e 11, mas usando \"[ ]\" ao invés de repetições \"for loop\".\n",
        "\n"
      ],
      "metadata": {
        "id": "dJMYsEIEbdbX"
      }
    },
    {
      "cell_type": "code",
      "source": [],
      "metadata": {
        "id": "uWaej8KxbgkF"
      },
      "execution_count": null,
      "outputs": []
    },
    {
      "cell_type": "markdown",
      "source": [
        "## Exercício 13\n",
        "\n",
        "Escreva uma função que recebe uma grade como entrada (*input*) e retorna uma nova grade com\n",
        "as cores invertidas (por exemplo, branco se torna preto, preto se torna branco,\n",
        "amarelo se torna ????).\n"
      ],
      "metadata": {
        "id": "uHm_SXWbbhGg"
      }
    },
    {
      "cell_type": "code",
      "source": [],
      "metadata": {
        "id": "RkMyuWhQbj_S"
      },
      "execution_count": null,
      "outputs": []
    },
    {
      "cell_type": "markdown",
      "source": [
        "## Exercício 14\n",
        "\n",
        "Escrever uma função que recebe uma grade e uma cor como entrada (*input*) retorna uma nova grade\n",
        "que é a grade de entrada com uma borda adicional da cor dada.\n",
        "\n",
        "BÔNUS: Tornar opcional o argumento de entrada (*input*) de cor.\n",
        "\n"
      ],
      "metadata": {
        "id": "FP8vd9GPbkSC"
      }
    },
    {
      "cell_type": "code",
      "source": [],
      "metadata": {
        "id": "-apOIo3pbmao"
      },
      "execution_count": null,
      "outputs": []
    },
    {
      "cell_type": "markdown",
      "source": [
        "## Exercício 15\n",
        "\n",
        "Escreva uma função que possa seguir uma lista de instruções (`'para cima'', `'para baixo'', `'esquerda'', `'direita'') ao longo de um caminho, mudando a cor dos blocos de acordo com o caminho. Um exemplo de definição de função:\n",
        "\n",
        "```python\n",
        "def path_color(grid, path, start_point, color):\n",
        "    ...\n",
        "```"
      ],
      "metadata": {
        "id": "1z8Gu-7bbmkw"
      }
    },
    {
      "cell_type": "markdown",
      "source": [
        "# Exercícios de Numpy"
      ],
      "metadata": {
        "id": "VLzaE6v31qQz"
      }
    },
    {
      "cell_type": "code",
      "source": [
        "# Crie uma lista chamada baseball\n",
        "baseball = [180, 215, 210, 210, 188, 176, 209, 200]\n",
        "\n",
        "# Importe o pacote numpy \n",
        "import numpy as np\n",
        "\n",
        "# Crie array do numpy a partir de baseball: np_baseball\n",
        "np_baseball = np.array(baseball)\n",
        "\n",
        "#1- Imprima o tipo de np_baseball\n",
        "print('#1-',type(np_baseball))\n",
        "\n",
        "#Altura em polegadas: height_in \n",
        "height_in =[74, 74, 72, 75, 75, 73]\n",
        "\n",
        "#Crie um array do numpy a partir de height_in: np_height_in\n",
        "np_height_in = np.array(height_in)\n",
        "\n",
        "#2- Imprima np_height_in\n",
        "print('#2-',np_height_in)\n",
        "\n",
        "#3- Imprima um sub-array de np_height_in: do índice 3 até o 5 (incluindo o 5)\n",
        "print('#3-',np_height_in[3:6])\n",
        "\n",
        "# Converta np_height_in de polegadas para metros: np_height_m\n",
        "np_height_m = np_height_in * 0.0254\n",
        "\n",
        "#4- Imprima np_height_m\n",
        "print('#4-',np_height_m)\n",
        "\n"
      ],
      "metadata": {
        "colab": {
          "base_uri": "https://localhost:8080/"
        },
        "outputId": "de171a1a-ad6f-43af-b9df-58a486ee3098",
        "id": "GPAYPq2g1qQ1"
      },
      "execution_count": null,
      "outputs": [
        {
          "output_type": "stream",
          "name": "stdout",
          "text": [
            "#1- <class 'numpy.ndarray'>\n",
            "#2- [74 74 72 75 75 73]\n",
            "#3- [75 75 73]\n",
            "#4- [1.8796 1.8796 1.8288 1.905  1.905  1.8542]\n"
          ]
        }
      ]
    },
    {
      "cell_type": "code",
      "source": [
        "# Crie um array de pesos em libras: weight_lb\n",
        "weight_lb = [180, 215, 210, 205, 190, 195]\n",
        "np_weight_lb = np.array(weight_lb)\n",
        "\n",
        "#5- Imprima o peso com índice 5\n",
        "print('5. ',np_weight_lb[5])\n",
        "\n",
        "#Converta o peso de lb para kg (basta multiplicar o peso em lb por 0.453592)\n",
        "np_weight_kg = np_weight_lb * 0.453592\n",
        "\n",
        "# Calcule o IMC: imc\n",
        "imc = np_weight_kg/np_height_m**2\n",
        "\n",
        "#6- Imprima o imc\n",
        "print('6. ',imc)\n",
        "\n",
        "# Crie o array com valor True para imcs abaixo de 24: light \n",
        "light = imc < 24\n",
        "\n",
        "#7 Imprima light\n",
        "print('7. ',light)\n",
        "\n",
        "#8 Imprima o IMC de todos os jogadores de Basquete cujo IMC está abaixo de 21\n",
        "print('8. ',imc[light])\n"
      ],
      "metadata": {
        "colab": {
          "base_uri": "https://localhost:8080/"
        },
        "outputId": "8753a66f-0840-446a-85da-f805045cc281",
        "id": "RQ9WhSAE1qQ3"
      },
      "execution_count": null,
      "outputs": [
        {
          "output_type": "stream",
          "name": "stdout",
          "text": [
            "5.  195\n",
            "6.  [23.11037639 27.60406069 28.48080465 25.62295933 23.74810865 25.72686361]\n",
            "7.  [ True False False False  True False]\n",
            "8.  [23.11037639 23.74810865]\n"
          ]
        }
      ]
    },
    {
      "cell_type": "code",
      "source": [
        "# Create baseball, a list of lists\n",
        "baseball = [[180, 78.4],\n",
        "            [215, 102.7],\n",
        "            [210, 98.5],\n",
        "            [188, 75.2]]\n",
        "\n",
        "# Import numpy\n",
        "import numpy as np\n",
        "\n",
        "# Crie um array do numpy com 2D a partir de baseball: np_baseball\n",
        "np_baseball = np.array(baseball)\n",
        "\n",
        "#9. Imprima o tipo de np_basebal\n",
        "print(type(np_baseball))\n",
        "\n",
        "#10. Imprima o formato de np_basebal\n",
        "print(np_baseball.shape)"
      ],
      "metadata": {
        "colab": {
          "base_uri": "https://localhost:8080/"
        },
        "outputId": "1ae4ab88-cd79-4da2-a2a5-cc366590de90",
        "id": "ngKALi3i1qQ3"
      },
      "execution_count": null,
      "outputs": [
        {
          "output_type": "stream",
          "name": "stdout",
          "text": [
            "<class 'numpy.ndarray'>\n",
            "(4, 2)\n"
          ]
        }
      ]
    },
    {
      "cell_type": "code",
      "source": [
        "from numpy.random.mtrand import seed\n",
        "height2 = np.round(np.random.normal(1.75,0.20,5000),2)\n",
        "weight2 = np.round(np.random.normal(60.32,15,5000),2)\n",
        "baseball2 = np.column_stack((height2,weight2))\n",
        "\n",
        "\n",
        "# Crie um array do numpy: np_baseball2 (2 cols)\n",
        "np_baseball2 = np.array(baseball2)\n",
        "\n",
        "# Imprima a linha 50 de np_baseball2\n",
        "print(np_baseball2[49,:])\n",
        "\n",
        "# Selecione a segunda coluna inteira de np_baseball: np_weight_lb\n",
        "np_weight_lb = np_baseball2[:,1]\n",
        "\n",
        "# Imprima a altura do 124º jogador\n",
        "print(np_baseball2[123,0])\n",
        "\n"
      ],
      "metadata": {
        "colab": {
          "base_uri": "https://localhost:8080/"
        },
        "outputId": "e35d709f-f8ae-4299-a77d-57500b38e2b4",
        "id": "4SkqdzSn1qQ4"
      },
      "execution_count": null,
      "outputs": [
        {
          "output_type": "stream",
          "name": "stdout",
          "text": [
            "[ 2.02 47.37]\n",
            "1.69\n"
          ]
        }
      ]
    },
    {
      "cell_type": "code",
      "source": [
        "# Crie np_height_in a partir de np_baseball2\n",
        "np_height_in = np_baseball2[:,0]\n",
        "\n",
        "#13. Imprima a média de np_height_in\n",
        "print(np.mean(np_height_in))\n",
        "\n",
        "#14. Imprima a mediana de np_height_in\n",
        "print(np.median(np_height_in))"
      ],
      "metadata": {
        "id": "ub-nkM_TSoGB"
      },
      "execution_count": null,
      "outputs": []
    },
    {
      "cell_type": "code",
      "source": [
        "# Crie np_height_in a partir de np_baseball2\n",
        "np_height_in = np_baseball2[:,0]\n",
        "\n",
        "#13. Imprima a média de np_height_in\n",
        "print(np.mean(np_height_in))\n",
        "\n",
        "#14. Imprima a mediana de np_height_in\n",
        "print(np.median(np_height_in))\n",
        "\n",
        "#15. Imprima o desvio padrão de np_height. Substitua 'None'\n",
        "stddev = np.std(np_height_in)\n",
        "print(\"Desvio-padrão: \" + str(stddev))\n",
        "\n",
        "#16. Imprima a correlação entre a primeira e a segunda coluna de np_baseball2. Substitua 'None'\n",
        "corr = np.corrcoef(np_baseball2[:,0],np_baseball2[:,1])\n",
        "print(\"Corelação: \" + str(corr))"
      ],
      "metadata": {
        "id": "r5LCXymAVjb6"
      },
      "execution_count": null,
      "outputs": []
    },
    {
      "cell_type": "code",
      "source": [
        "# Crie uma lista chamada baseball\n",
        "baseball = [180, 215, 210, 210, 188, 176, 209, 200]\n",
        "\n",
        "# Importe o pacote numpy \n",
        "import numpy as np\n",
        "\n",
        "# Crie array do numpy a partir de baseball: np_baseball\n",
        "np_baseball = np.array(baseball)\n",
        "\n",
        "#1- Imprima o tipo de np_baseball\n",
        "\n",
        "#Altura em polegadas: height_in \n",
        "height_in =[74, 74, 72, 75, 75, 73]\n",
        "\n",
        "#Crie um array do numpy a partir de height_in: np_height_in\n",
        "\n",
        "#2- Imprima np_height_in\n",
        "\n",
        "#3- Imprima um sub-array de np_height_in: do índice 3 até o 5 (incluindo o 5)\n",
        "\n",
        "# Converta np_height_in de polegadas para metros: np_height_m (basta multiplicar\n",
        "# np_height_in por 0.0254)\n",
        "\n",
        "#4- Imprima np_height_m\n",
        "\n"
      ],
      "metadata": {
        "id": "9N3IHMpLiZiS"
      },
      "execution_count": null,
      "outputs": []
    },
    {
      "cell_type": "markdown",
      "source": [
        "## Solução:\n",
        "\n",
        "1. <class 'numpy.ndarray'>\n",
        "\n",
        "2. [74 74 72 75 75 73]\n",
        "\n",
        "3. [75 75 73]\n",
        "\n",
        "4. [1.8796 1.8796 1.8288 1.905  1.905  1.8542]\n",
        "\n",
        "\n",
        "\n",
        "\n",
        "\n"
      ],
      "metadata": {
        "id": "3kV1wWFJvcYu"
      }
    },
    {
      "cell_type": "code",
      "source": [
        "# Crie um array de pesos em libras: weight_lb\n",
        "weight_lb = [180, 215, 210, 205, 190, 195]\n",
        "np_weight_lb = np.array(weight_lb)\n",
        "\n",
        "#5- Imprima o peso com índice 5\n",
        "\n",
        "#Converta o peso de lb para kg (basta multiplicar o peso em lb por 0.453592)\n",
        "\n",
        "# Calcule o IMC: imc\n",
        "\n",
        "#6- Imprima o imc\n",
        "\n",
        "# Crie o array com valor True para imcs abaixo de 24: light \n",
        "\n",
        "#7 Imprima light\n",
        "\n",
        "#8 Imprima o IMC de todos os jogadores de Basquete cujo IMC está abaixo de 21\n"
      ],
      "metadata": {
        "id": "hlabrFoXt6vT"
      },
      "execution_count": null,
      "outputs": []
    },
    {
      "cell_type": "markdown",
      "source": [
        "## Solução:\n",
        "5.  195\n",
        "6.  [23.11037639 27.60406069 28.48080465 25.62295933 23.74810865 25.72686361]\n",
        "7.  [ True False False False  True False]\n",
        "8.  [23.11037639 23.74810865]\n"
      ],
      "metadata": {
        "id": "tUy81s6owJzU"
      }
    },
    {
      "cell_type": "code",
      "source": [
        "# Crie uma lista de listas chamada baseball\n",
        "baseball = [[180, 78.4],\n",
        "            [215, 102.7],\n",
        "            [210, 98.5],\n",
        "            [188, 75.2]]\n",
        "\n",
        "# Crie um array do numpy com 2D a partir de baseball: np_baseball\n",
        "\n",
        "#9. Imprima o tipo de np_baseball\n",
        "\n",
        "#10. Imprima o formato de np_baseball"
      ],
      "metadata": {
        "id": "1eCi1Wxm_dJJ"
      },
      "execution_count": null,
      "outputs": []
    },
    {
      "cell_type": "markdown",
      "source": [
        "## Solução:\n",
        "9. <class 'numpy.ndarray'>\n",
        "10. (4, 2)\n"
      ],
      "metadata": {
        "id": "AJ2s5IVLDM-R"
      }
    },
    {
      "cell_type": "code",
      "source": [
        "from numpy.random.mtrand import seed\n",
        "height2 = np.round(np.random.normal(1.75,0.20,5000),2)\n",
        "weight2 = np.round(np.random.normal(60.32,15,5000),2)\n",
        "baseball2 = np.column_stack((height2,weight2))\n",
        "\n",
        "\n",
        "# Crie um array do numpy: np_baseball2 (2 cols)\n",
        "np_baseball2 = np.array(baseball2)\n",
        "\n",
        "#11- Imprima a linha 50 de np_baseball2 (lembre-se que o índice desta linha é 49)\n",
        "\n",
        "# Selecione a segunda coluna inteira de np_baseball: np_weight_lb\n",
        "\n",
        "#12. Imprima a altura do 124º jogador (lembre-se que o índice desse jogador é 123)\n",
        "\n"
      ],
      "metadata": {
        "id": "hJjUCY2-QeHg"
      },
      "execution_count": null,
      "outputs": []
    },
    {
      "cell_type": "markdown",
      "source": [
        "## Solução:\n",
        "O resultado pode variar pois depende dos números aleatórios que foram gerados"
      ],
      "metadata": {
        "id": "JyK53LvJIZV-"
      }
    },
    {
      "cell_type": "code",
      "source": [
        "# Crie np_height_in a partir de np_baseball2\n",
        "np_height_in = np_baseball2[:,0]\n",
        "\n",
        "#13. Imprima a média de np_height_in\n",
        "\n",
        "#14. Imprima a mediana de np_height_in\n",
        "\n",
        "#15. Imprima o desvio padrão de np_height. Substitua 'None'\n",
        "stddev = 'None'\n",
        "print(\"Desvio-padrão: \" + str(stddev))\n",
        "\n",
        "#16. Imprima a correlação entre a primeira e a segunda coluna de np_baseball2. Substitua 'None'\n",
        "corr = 'None'\n",
        "print(\"Corelação: \" + str(corr))"
      ],
      "metadata": {
        "id": "knohkoT_U5BH",
        "colab": {
          "base_uri": "https://localhost:8080/"
        },
        "outputId": "91d8dfcb-c43c-4512-fa20-e028337e47b6"
      },
      "execution_count": null,
      "outputs": [
        {
          "output_type": "stream",
          "name": "stdout",
          "text": [
            "Desvio-padrão: None\n",
            "Corelação: None\n"
          ]
        }
      ]
    },
    {
      "cell_type": "markdown",
      "source": [
        "## Solução:\n",
        "13. aproximadamente 1.749\n",
        "14. aproximadamente 1.75\n",
        "15. Desvio-padrão: 0.19456225311195385\n",
        "16. Corelação (valor aproximado):\n",
        "```\n",
        "  [[ 1.0        -0.01446044]\n",
        "   [-0.01446044  1.0       ]]\n",
        "```\n",
        "\n"
      ],
      "metadata": {
        "id": "zyZK7xqRJFk3"
      }
    }
  ]
}